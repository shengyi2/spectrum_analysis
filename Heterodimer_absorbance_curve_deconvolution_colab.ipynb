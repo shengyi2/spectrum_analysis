{
  "nbformat": 4,
  "nbformat_minor": 0,
  "metadata": {
    "colab": {
      "name": "Heterodimer_absorbance_curve_deconvolution_colab.ipynb",
      "provenance": [],
      "authorship_tag": "ABX9TyMHU79OnNyqzPSvVMp7ijxI",
      "include_colab_link": true
    },
    "kernelspec": {
      "name": "python3",
      "display_name": "Python 3"
    }
  },
  "cells": [
    {
      "cell_type": "markdown",
      "metadata": {
        "id": "view-in-github",
        "colab_type": "text"
      },
      "source": [
        "<a href=\"https://colab.research.google.com/github/shengyi2/spectrum_analysis/blob/main/Heterodimer_absorbance_curve_deconvolution_colab.ipynb\" target=\"_parent\"><img src=\"https://colab.research.google.com/assets/colab-badge.svg\" alt=\"Open In Colab\"/></a>"
      ]
    },
    {
      "cell_type": "markdown",
      "metadata": {
        "id": "x6wdcG_IX6-b"
      },
      "source": [
        "# Open absorbance spectra\n",
        "  - FRET absorbance\n",
        "  - absorbance spectrum of the FRET acceptor alone\n",
        "  - absorbance spectrum of the FRET donar alone\n",
        "  - please prepare them seperately in csv or excel files with a column for wavelength and a column for fluorescence reading\n",
        "\n",
        " - sample tables are shown below. Headers are optional as the columns are recognized in the order of wavelength and absorbance by default"
      ]
    },
    {
      "cell_type": "markdown",
      "metadata": {
        "id": "4r-Xh-zwyYmi"
      },
      "source": [
        "| wavelength | absorbance |\n",
        "| ---- | --- |\n",
        "| 350 | 360 |\n",
        "| 355 | 690 |\n",
        "| 360 | 900 |"
      ]
    },
    {
      "cell_type": "code",
      "metadata": {
        "id": "gHnCALuGiVpx"
      },
      "source": [
        "import pandas as pd"
      ],
      "execution_count": null,
      "outputs": []
    },
    {
      "cell_type": "code",
      "metadata": {
        "id": "YhR8TCATUfav"
      },
      "source": [
        "# open the file of FRET spectra/spectrum\n",
        "def import_Colab(variable):\n",
        "  print('Import',variable,'spectrum')\n",
        " \n",
        "  uploaded = files.upload()\n",
        "\n",
        "  for fn in uploaded.keys():\n",
        "    print('User uploaded file \"{name}\" with length {length} bytes'.format(\n",
        "        name=fn, length=len(uploaded[fn])))\n",
        "    # read csv or excel\n",
        "  if '.csv' in fn:\n",
        "    data=pd.read_csv(fn,names=['wavelength',variable],dtype={'wavelength':int})\n",
        "  elif '.xls' in fn:\n",
        "    data=pd.read_excel(fn,names=['wavelength',variable],dtype={'wavelength':int})\n",
        "  else:\n",
        "    print('File type not accepted, please rerun and select right file')\n",
        "    return fn \n",
        "  return fn,data"
      ],
      "execution_count": null,
      "outputs": []
    },
    {
      "cell_type": "code",
      "metadata": {
        "id": "HETKRSctW4n9"
      },
      "source": [
        "  from google.colab import files\n",
        "  "
      ],
      "execution_count": null,
      "outputs": []
    },
    {
      "cell_type": "markdown",
      "metadata": {
        "id": "4hmuFbbdlzsM"
      },
      "source": [
        "# import spectra on Colab\n",
        "\n",
        "\n",
        "> \n",
        "\n"
      ]
    },
    {
      "cell_type": "code",
      "metadata": {
        "id": "iuC8TBSkWsdp",
        "colab": {
          "resources": {
            "http://localhost:8080/nbextensions/google.colab/files.js": {
              "data": "Ly8gQ29weXJpZ2h0IDIwMTcgR29vZ2xlIExMQwovLwovLyBMaWNlbnNlZCB1bmRlciB0aGUgQXBhY2hlIExpY2Vuc2UsIFZlcnNpb24gMi4wICh0aGUgIkxpY2Vuc2UiKTsKLy8geW91IG1heSBub3QgdXNlIHRoaXMgZmlsZSBleGNlcHQgaW4gY29tcGxpYW5jZSB3aXRoIHRoZSBMaWNlbnNlLgovLyBZb3UgbWF5IG9idGFpbiBhIGNvcHkgb2YgdGhlIExpY2Vuc2UgYXQKLy8KLy8gICAgICBodHRwOi8vd3d3LmFwYWNoZS5vcmcvbGljZW5zZXMvTElDRU5TRS0yLjAKLy8KLy8gVW5sZXNzIHJlcXVpcmVkIGJ5IGFwcGxpY2FibGUgbGF3IG9yIGFncmVlZCB0byBpbiB3cml0aW5nLCBzb2Z0d2FyZQovLyBkaXN0cmlidXRlZCB1bmRlciB0aGUgTGljZW5zZSBpcyBkaXN0cmlidXRlZCBvbiBhbiAiQVMgSVMiIEJBU0lTLAovLyBXSVRIT1VUIFdBUlJBTlRJRVMgT1IgQ09ORElUSU9OUyBPRiBBTlkgS0lORCwgZWl0aGVyIGV4cHJlc3Mgb3IgaW1wbGllZC4KLy8gU2VlIHRoZSBMaWNlbnNlIGZvciB0aGUgc3BlY2lmaWMgbGFuZ3VhZ2UgZ292ZXJuaW5nIHBlcm1pc3Npb25zIGFuZAovLyBsaW1pdGF0aW9ucyB1bmRlciB0aGUgTGljZW5zZS4KCi8qKgogKiBAZmlsZW92ZXJ2aWV3IEhlbHBlcnMgZm9yIGdvb2dsZS5jb2xhYiBQeXRob24gbW9kdWxlLgogKi8KKGZ1bmN0aW9uKHNjb3BlKSB7CmZ1bmN0aW9uIHNwYW4odGV4dCwgc3R5bGVBdHRyaWJ1dGVzID0ge30pIHsKICBjb25zdCBlbGVtZW50ID0gZG9jdW1lbnQuY3JlYXRlRWxlbWVudCgnc3BhbicpOwogIGVsZW1lbnQudGV4dENvbnRlbnQgPSB0ZXh0OwogIGZvciAoY29uc3Qga2V5IG9mIE9iamVjdC5rZXlzKHN0eWxlQXR0cmlidXRlcykpIHsKICAgIGVsZW1lbnQuc3R5bGVba2V5XSA9IHN0eWxlQXR0cmlidXRlc1trZXldOwogIH0KICByZXR1cm4gZWxlbWVudDsKfQoKLy8gTWF4IG51bWJlciBvZiBieXRlcyB3aGljaCB3aWxsIGJlIHVwbG9hZGVkIGF0IGEgdGltZS4KY29uc3QgTUFYX1BBWUxPQURfU0laRSA9IDEwMCAqIDEwMjQ7CgpmdW5jdGlvbiBfdXBsb2FkRmlsZXMoaW5wdXRJZCwgb3V0cHV0SWQpIHsKICBjb25zdCBzdGVwcyA9IHVwbG9hZEZpbGVzU3RlcChpbnB1dElkLCBvdXRwdXRJZCk7CiAgY29uc3Qgb3V0cHV0RWxlbWVudCA9IGRvY3VtZW50LmdldEVsZW1lbnRCeUlkKG91dHB1dElkKTsKICAvLyBDYWNoZSBzdGVwcyBvbiB0aGUgb3V0cHV0RWxlbWVudCB0byBtYWtlIGl0IGF2YWlsYWJsZSBmb3IgdGhlIG5leHQgY2FsbAogIC8vIHRvIHVwbG9hZEZpbGVzQ29udGludWUgZnJvbSBQeXRob24uCiAgb3V0cHV0RWxlbWVudC5zdGVwcyA9IHN0ZXBzOwoKICByZXR1cm4gX3VwbG9hZEZpbGVzQ29udGludWUob3V0cHV0SWQpOwp9CgovLyBUaGlzIGlzIHJvdWdobHkgYW4gYXN5bmMgZ2VuZXJhdG9yIChub3Qgc3VwcG9ydGVkIGluIHRoZSBicm93c2VyIHlldCksCi8vIHdoZXJlIHRoZXJlIGFyZSBtdWx0aXBsZSBhc3luY2hyb25vdXMgc3RlcHMgYW5kIHRoZSBQeXRob24gc2lkZSBpcyBnb2luZwovLyB0byBwb2xsIGZvciBjb21wbGV0aW9uIG9mIGVhY2ggc3RlcC4KLy8gVGhpcyB1c2VzIGEgUHJvbWlzZSB0byBibG9jayB0aGUgcHl0aG9uIHNpZGUgb24gY29tcGxldGlvbiBvZiBlYWNoIHN0ZXAsCi8vIHRoZW4gcGFzc2VzIHRoZSByZXN1bHQgb2YgdGhlIHByZXZpb3VzIHN0ZXAgYXMgdGhlIGlucHV0IHRvIHRoZSBuZXh0IHN0ZXAuCmZ1bmN0aW9uIF91cGxvYWRGaWxlc0NvbnRpbnVlKG91dHB1dElkKSB7CiAgY29uc3Qgb3V0cHV0RWxlbWVudCA9IGRvY3VtZW50LmdldEVsZW1lbnRCeUlkKG91dHB1dElkKTsKICBjb25zdCBzdGVwcyA9IG91dHB1dEVsZW1lbnQuc3RlcHM7CgogIGNvbnN0IG5leHQgPSBzdGVwcy5uZXh0KG91dHB1dEVsZW1lbnQubGFzdFByb21pc2VWYWx1ZSk7CiAgcmV0dXJuIFByb21pc2UucmVzb2x2ZShuZXh0LnZhbHVlLnByb21pc2UpLnRoZW4oKHZhbHVlKSA9PiB7CiAgICAvLyBDYWNoZSB0aGUgbGFzdCBwcm9taXNlIHZhbHVlIHRvIG1ha2UgaXQgYXZhaWxhYmxlIHRvIHRoZSBuZXh0CiAgICAvLyBzdGVwIG9mIHRoZSBnZW5lcmF0b3IuCiAgICBvdXRwdXRFbGVtZW50Lmxhc3RQcm9taXNlVmFsdWUgPSB2YWx1ZTsKICAgIHJldHVybiBuZXh0LnZhbHVlLnJlc3BvbnNlOwogIH0pOwp9CgovKioKICogR2VuZXJhdG9yIGZ1bmN0aW9uIHdoaWNoIGlzIGNhbGxlZCBiZXR3ZWVuIGVhY2ggYXN5bmMgc3RlcCBvZiB0aGUgdXBsb2FkCiAqIHByb2Nlc3MuCiAqIEBwYXJhbSB7c3RyaW5nfSBpbnB1dElkIEVsZW1lbnQgSUQgb2YgdGhlIGlucHV0IGZpbGUgcGlja2VyIGVsZW1lbnQuCiAqIEBwYXJhbSB7c3RyaW5nfSBvdXRwdXRJZCBFbGVtZW50IElEIG9mIHRoZSBvdXRwdXQgZGlzcGxheS4KICogQHJldHVybiB7IUl0ZXJhYmxlPCFPYmplY3Q+fSBJdGVyYWJsZSBvZiBuZXh0IHN0ZXBzLgogKi8KZnVuY3Rpb24qIHVwbG9hZEZpbGVzU3RlcChpbnB1dElkLCBvdXRwdXRJZCkgewogIGNvbnN0IGlucHV0RWxlbWVudCA9IGRvY3VtZW50LmdldEVsZW1lbnRCeUlkKGlucHV0SWQpOwogIGlucHV0RWxlbWVudC5kaXNhYmxlZCA9IGZhbHNlOwoKICBjb25zdCBvdXRwdXRFbGVtZW50ID0gZG9jdW1lbnQuZ2V0RWxlbWVudEJ5SWQob3V0cHV0SWQpOwogIG91dHB1dEVsZW1lbnQuaW5uZXJIVE1MID0gJyc7CgogIGNvbnN0IHBpY2tlZFByb21pc2UgPSBuZXcgUHJvbWlzZSgocmVzb2x2ZSkgPT4gewogICAgaW5wdXRFbGVtZW50LmFkZEV2ZW50TGlzdGVuZXIoJ2NoYW5nZScsIChlKSA9PiB7CiAgICAgIHJlc29sdmUoZS50YXJnZXQuZmlsZXMpOwogICAgfSk7CiAgfSk7CgogIGNvbnN0IGNhbmNlbCA9IGRvY3VtZW50LmNyZWF0ZUVsZW1lbnQoJ2J1dHRvbicpOwogIGlucHV0RWxlbWVudC5wYXJlbnRFbGVtZW50LmFwcGVuZENoaWxkKGNhbmNlbCk7CiAgY2FuY2VsLnRleHRDb250ZW50ID0gJ0NhbmNlbCB1cGxvYWQnOwogIGNvbnN0IGNhbmNlbFByb21pc2UgPSBuZXcgUHJvbWlzZSgocmVzb2x2ZSkgPT4gewogICAgY2FuY2VsLm9uY2xpY2sgPSAoKSA9PiB7CiAgICAgIHJlc29sdmUobnVsbCk7CiAgICB9OwogIH0pOwoKICAvLyBXYWl0IGZvciB0aGUgdXNlciB0byBwaWNrIHRoZSBmaWxlcy4KICBjb25zdCBmaWxlcyA9IHlpZWxkIHsKICAgIHByb21pc2U6IFByb21pc2UucmFjZShbcGlja2VkUHJvbWlzZSwgY2FuY2VsUHJvbWlzZV0pLAogICAgcmVzcG9uc2U6IHsKICAgICAgYWN0aW9uOiAnc3RhcnRpbmcnLAogICAgfQogIH07CgogIGNhbmNlbC5yZW1vdmUoKTsKCiAgLy8gRGlzYWJsZSB0aGUgaW5wdXQgZWxlbWVudCBzaW5jZSBmdXJ0aGVyIHBpY2tzIGFyZSBub3QgYWxsb3dlZC4KICBpbnB1dEVsZW1lbnQuZGlzYWJsZWQgPSB0cnVlOwoKICBpZiAoIWZpbGVzKSB7CiAgICByZXR1cm4gewogICAgICByZXNwb25zZTogewogICAgICAgIGFjdGlvbjogJ2NvbXBsZXRlJywKICAgICAgfQogICAgfTsKICB9CgogIGZvciAoY29uc3QgZmlsZSBvZiBmaWxlcykgewogICAgY29uc3QgbGkgPSBkb2N1bWVudC5jcmVhdGVFbGVtZW50KCdsaScpOwogICAgbGkuYXBwZW5kKHNwYW4oZmlsZS5uYW1lLCB7Zm9udFdlaWdodDogJ2JvbGQnfSkpOwogICAgbGkuYXBwZW5kKHNwYW4oCiAgICAgICAgYCgke2ZpbGUudHlwZSB8fCAnbi9hJ30pIC0gJHtmaWxlLnNpemV9IGJ5dGVzLCBgICsKICAgICAgICBgbGFzdCBtb2RpZmllZDogJHsKICAgICAgICAgICAgZmlsZS5sYXN0TW9kaWZpZWREYXRlID8gZmlsZS5sYXN0TW9kaWZpZWREYXRlLnRvTG9jYWxlRGF0ZVN0cmluZygpIDoKICAgICAgICAgICAgICAgICAgICAgICAgICAgICAgICAgICAgJ24vYSd9IC0gYCkpOwogICAgY29uc3QgcGVyY2VudCA9IHNwYW4oJzAlIGRvbmUnKTsKICAgIGxpLmFwcGVuZENoaWxkKHBlcmNlbnQpOwoKICAgIG91dHB1dEVsZW1lbnQuYXBwZW5kQ2hpbGQobGkpOwoKICAgIGNvbnN0IGZpbGVEYXRhUHJvbWlzZSA9IG5ldyBQcm9taXNlKChyZXNvbHZlKSA9PiB7CiAgICAgIGNvbnN0IHJlYWRlciA9IG5ldyBGaWxlUmVhZGVyKCk7CiAgICAgIHJlYWRlci5vbmxvYWQgPSAoZSkgPT4gewogICAgICAgIHJlc29sdmUoZS50YXJnZXQucmVzdWx0KTsKICAgICAgfTsKICAgICAgcmVhZGVyLnJlYWRBc0FycmF5QnVmZmVyKGZpbGUpOwogICAgfSk7CiAgICAvLyBXYWl0IGZvciB0aGUgZGF0YSB0byBiZSByZWFkeS4KICAgIGxldCBmaWxlRGF0YSA9IHlpZWxkIHsKICAgICAgcHJvbWlzZTogZmlsZURhdGFQcm9taXNlLAogICAgICByZXNwb25zZTogewogICAgICAgIGFjdGlvbjogJ2NvbnRpbnVlJywKICAgICAgfQogICAgfTsKCiAgICAvLyBVc2UgYSBjaHVua2VkIHNlbmRpbmcgdG8gYXZvaWQgbWVzc2FnZSBzaXplIGxpbWl0cy4gU2VlIGIvNjIxMTU2NjAuCiAgICBsZXQgcG9zaXRpb24gPSAwOwogICAgZG8gewogICAgICBjb25zdCBsZW5ndGggPSBNYXRoLm1pbihmaWxlRGF0YS5ieXRlTGVuZ3RoIC0gcG9zaXRpb24sIE1BWF9QQVlMT0FEX1NJWkUpOwogICAgICBjb25zdCBjaHVuayA9IG5ldyBVaW50OEFycmF5KGZpbGVEYXRhLCBwb3NpdGlvbiwgbGVuZ3RoKTsKICAgICAgcG9zaXRpb24gKz0gbGVuZ3RoOwoKICAgICAgY29uc3QgYmFzZTY0ID0gYnRvYShTdHJpbmcuZnJvbUNoYXJDb2RlLmFwcGx5KG51bGwsIGNodW5rKSk7CiAgICAgIHlpZWxkIHsKICAgICAgICByZXNwb25zZTogewogICAgICAgICAgYWN0aW9uOiAnYXBwZW5kJywKICAgICAgICAgIGZpbGU6IGZpbGUubmFtZSwKICAgICAgICAgIGRhdGE6IGJhc2U2NCwKICAgICAgICB9LAogICAgICB9OwoKICAgICAgbGV0IHBlcmNlbnREb25lID0gZmlsZURhdGEuYnl0ZUxlbmd0aCA9PT0gMCA/CiAgICAgICAgICAxMDAgOgogICAgICAgICAgTWF0aC5yb3VuZCgocG9zaXRpb24gLyBmaWxlRGF0YS5ieXRlTGVuZ3RoKSAqIDEwMCk7CiAgICAgIHBlcmNlbnQudGV4dENvbnRlbnQgPSBgJHtwZXJjZW50RG9uZX0lIGRvbmVgOwoKICAgIH0gd2hpbGUgKHBvc2l0aW9uIDwgZmlsZURhdGEuYnl0ZUxlbmd0aCk7CiAgfQoKICAvLyBBbGwgZG9uZS4KICB5aWVsZCB7CiAgICByZXNwb25zZTogewogICAgICBhY3Rpb246ICdjb21wbGV0ZScsCiAgICB9CiAgfTsKfQoKc2NvcGUuZ29vZ2xlID0gc2NvcGUuZ29vZ2xlIHx8IHt9OwpzY29wZS5nb29nbGUuY29sYWIgPSBzY29wZS5nb29nbGUuY29sYWIgfHwge307CnNjb3BlLmdvb2dsZS5jb2xhYi5fZmlsZXMgPSB7CiAgX3VwbG9hZEZpbGVzLAogIF91cGxvYWRGaWxlc0NvbnRpbnVlLAp9Owp9KShzZWxmKTsK",
              "ok": true,
              "headers": [
                [
                  "content-type",
                  "application/javascript"
                ]
              ],
              "status": 200,
              "status_text": ""
            }
          },
          "base_uri": "https://localhost:8080/"
        },
        "outputId": "0432c925-6d49-4cef-aa1d-0922c58afd79"
      },
      "source": [
        "# import FRET spectrum from local drive\n",
        "FRET_path,FRET_table =import_Colab('FRET')"
      ],
      "execution_count": null,
      "outputs": [
        {
          "output_type": "stream",
          "name": "stdout",
          "text": [
            "Import FRET spectrum\n"
          ]
        },
        {
          "output_type": "display_data",
          "data": {
            "text/html": [
              "\n",
              "     <input type=\"file\" id=\"files-0052f7e0-079d-4ddf-ab03-03eb6625fb56\" name=\"files[]\" multiple disabled\n",
              "        style=\"border:none\" />\n",
              "     <output id=\"result-0052f7e0-079d-4ddf-ab03-03eb6625fb56\">\n",
              "      Upload widget is only available when the cell has been executed in the\n",
              "      current browser session. Please rerun this cell to enable.\n",
              "      </output>\n",
              "      <script src=\"/nbextensions/google.colab/files.js\"></script> "
            ],
            "text/plain": [
              "<IPython.core.display.HTML object>"
            ]
          },
          "metadata": {}
        },
        {
          "output_type": "stream",
          "name": "stdout",
          "text": [
            "Saving Ca GSC.xlsx to Ca GSC (1).xlsx\n",
            "User uploaded file \"Ca GSC.xlsx\" with length 18229 bytes\n"
          ]
        }
      ]
    },
    {
      "cell_type": "code",
      "metadata": {
        "id": "GQaW8zTTtY6l"
      },
      "source": [
        "FRET_table.FRET=FRET_table.FRET/FRET_table.FRET.max()"
      ],
      "execution_count": null,
      "outputs": []
    },
    {
      "cell_type": "code",
      "metadata": {
        "colab": {
          "base_uri": "https://localhost:8080/"
        },
        "id": "mLeBB_64gu2T",
        "outputId": "8154ea40-28dd-47e4-80e4-ce1beaec7b05"
      },
      "source": [
        "FRET_table.head()"
      ],
      "execution_count": null,
      "outputs": [
        {
          "output_type": "execute_result",
          "data": {
            "text/html": [
              "\n",
              "  <div id=\"df-de5aa25d-56b3-4fed-8687-f754e8337358\">\n",
              "    <div class=\"colab-df-container\">\n",
              "      <div>\n",
              "<style scoped>\n",
              "    .dataframe tbody tr th:only-of-type {\n",
              "        vertical-align: middle;\n",
              "    }\n",
              "\n",
              "    .dataframe tbody tr th {\n",
              "        vertical-align: top;\n",
              "    }\n",
              "\n",
              "    .dataframe thead th {\n",
              "        text-align: right;\n",
              "    }\n",
              "</style>\n",
              "<table border=\"1\" class=\"dataframe\">\n",
              "  <thead>\n",
              "    <tr style=\"text-align: right;\">\n",
              "      <th></th>\n",
              "      <th>wavelength</th>\n",
              "      <th>FRET</th>\n",
              "    </tr>\n",
              "  </thead>\n",
              "  <tbody>\n",
              "    <tr>\n",
              "      <th>0</th>\n",
              "      <td>200</td>\n",
              "      <td>0.569242</td>\n",
              "    </tr>\n",
              "    <tr>\n",
              "      <th>1</th>\n",
              "      <td>201</td>\n",
              "      <td>0.000000</td>\n",
              "    </tr>\n",
              "    <tr>\n",
              "      <th>2</th>\n",
              "      <td>202</td>\n",
              "      <td>-0.429185</td>\n",
              "    </tr>\n",
              "    <tr>\n",
              "      <th>3</th>\n",
              "      <td>203</td>\n",
              "      <td>0.000000</td>\n",
              "    </tr>\n",
              "    <tr>\n",
              "      <th>4</th>\n",
              "      <td>204</td>\n",
              "      <td>1.000000</td>\n",
              "    </tr>\n",
              "  </tbody>\n",
              "</table>\n",
              "</div>\n",
              "      <button class=\"colab-df-convert\" onclick=\"convertToInteractive('df-de5aa25d-56b3-4fed-8687-f754e8337358')\"\n",
              "              title=\"Convert this dataframe to an interactive table.\"\n",
              "              style=\"display:none;\">\n",
              "        \n",
              "  <svg xmlns=\"http://www.w3.org/2000/svg\" height=\"24px\"viewBox=\"0 0 24 24\"\n",
              "       width=\"24px\">\n",
              "    <path d=\"M0 0h24v24H0V0z\" fill=\"none\"/>\n",
              "    <path d=\"M18.56 5.44l.94 2.06.94-2.06 2.06-.94-2.06-.94-.94-2.06-.94 2.06-2.06.94zm-11 1L8.5 8.5l.94-2.06 2.06-.94-2.06-.94L8.5 2.5l-.94 2.06-2.06.94zm10 10l.94 2.06.94-2.06 2.06-.94-2.06-.94-.94-2.06-.94 2.06-2.06.94z\"/><path d=\"M17.41 7.96l-1.37-1.37c-.4-.4-.92-.59-1.43-.59-.52 0-1.04.2-1.43.59L10.3 9.45l-7.72 7.72c-.78.78-.78 2.05 0 2.83L4 21.41c.39.39.9.59 1.41.59.51 0 1.02-.2 1.41-.59l7.78-7.78 2.81-2.81c.8-.78.8-2.07 0-2.86zM5.41 20L4 18.59l7.72-7.72 1.47 1.35L5.41 20z\"/>\n",
              "  </svg>\n",
              "      </button>\n",
              "      \n",
              "  <style>\n",
              "    .colab-df-container {\n",
              "      display:flex;\n",
              "      flex-wrap:wrap;\n",
              "      gap: 12px;\n",
              "    }\n",
              "\n",
              "    .colab-df-convert {\n",
              "      background-color: #E8F0FE;\n",
              "      border: none;\n",
              "      border-radius: 50%;\n",
              "      cursor: pointer;\n",
              "      display: none;\n",
              "      fill: #1967D2;\n",
              "      height: 32px;\n",
              "      padding: 0 0 0 0;\n",
              "      width: 32px;\n",
              "    }\n",
              "\n",
              "    .colab-df-convert:hover {\n",
              "      background-color: #E2EBFA;\n",
              "      box-shadow: 0px 1px 2px rgba(60, 64, 67, 0.3), 0px 1px 3px 1px rgba(60, 64, 67, 0.15);\n",
              "      fill: #174EA6;\n",
              "    }\n",
              "\n",
              "    [theme=dark] .colab-df-convert {\n",
              "      background-color: #3B4455;\n",
              "      fill: #D2E3FC;\n",
              "    }\n",
              "\n",
              "    [theme=dark] .colab-df-convert:hover {\n",
              "      background-color: #434B5C;\n",
              "      box-shadow: 0px 1px 3px 1px rgba(0, 0, 0, 0.15);\n",
              "      filter: drop-shadow(0px 1px 2px rgba(0, 0, 0, 0.3));\n",
              "      fill: #FFFFFF;\n",
              "    }\n",
              "  </style>\n",
              "\n",
              "      <script>\n",
              "        const buttonEl =\n",
              "          document.querySelector('#df-de5aa25d-56b3-4fed-8687-f754e8337358 button.colab-df-convert');\n",
              "        buttonEl.style.display =\n",
              "          google.colab.kernel.accessAllowed ? 'block' : 'none';\n",
              "\n",
              "        async function convertToInteractive(key) {\n",
              "          const element = document.querySelector('#df-de5aa25d-56b3-4fed-8687-f754e8337358');\n",
              "          const dataTable =\n",
              "            await google.colab.kernel.invokeFunction('convertToInteractive',\n",
              "                                                     [key], {});\n",
              "          if (!dataTable) return;\n",
              "\n",
              "          const docLinkHtml = 'Like what you see? Visit the ' +\n",
              "            '<a target=\"_blank\" href=https://colab.research.google.com/notebooks/data_table.ipynb>data table notebook</a>'\n",
              "            + ' to learn more about interactive tables.';\n",
              "          element.innerHTML = '';\n",
              "          dataTable['output_type'] = 'display_data';\n",
              "          await google.colab.output.renderOutput(dataTable, element);\n",
              "          const docLink = document.createElement('div');\n",
              "          docLink.innerHTML = docLinkHtml;\n",
              "          element.appendChild(docLink);\n",
              "        }\n",
              "      </script>\n",
              "    </div>\n",
              "  </div>\n",
              "  "
            ],
            "text/plain": [
              "   wavelength      FRET\n",
              "0         200  0.569242\n",
              "1         201  0.000000\n",
              "2         202 -0.429185\n",
              "3         203  0.000000\n",
              "4         204  1.000000"
            ]
          },
          "metadata": {},
          "execution_count": 532
        }
      ]
    },
    {
      "cell_type": "code",
      "source": [
        "sample_name = FRET_path.replace('.xlsx','')"
      ],
      "metadata": {
        "id": "nsrPm745jypu"
      },
      "execution_count": null,
      "outputs": []
    },
    {
      "cell_type": "code",
      "source": [
        "sample_name"
      ],
      "metadata": {
        "id": "9biyEMLzkeOt",
        "outputId": "01f9c30f-51e7-4951-8978-cb77bc7a1ec4",
        "colab": {
          "base_uri": "https://localhost:8080/"
        }
      },
      "execution_count": null,
      "outputs": [
        {
          "output_type": "execute_result",
          "data": {
            "application/vnd.google.colaboratory.intrinsic+json": {
              "type": "string"
            },
            "text/plain": [
              "'Ca GSC'"
            ]
          },
          "metadata": {},
          "execution_count": 534
        }
      ]
    },
    {
      "cell_type": "markdown",
      "metadata": {
        "id": "-9bkB5-jGDdm"
      },
      "source": [
        "# import acceptor and donar FP spectra from local drive"
      ]
    },
    {
      "cell_type": "code",
      "metadata": {
        "colab": {
          "resources": {
            "http://localhost:8080/nbextensions/google.colab/files.js": {
              "data": "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",
              "ok": true,
              "headers": [
                [
                  "content-type",
                  "application/javascript"
                ]
              ],
              "status": 200,
              "status_text": ""
            }
          },
          "base_uri": "https://localhost:8080/",
          "height": 361
        },
        "id": "gzCXJhvTGJ37",
        "outputId": "a7de8212-c4a7-4da1-b1c7-6d0d80d31d72"
      },
      "source": [
        "acceptor_path,acceptor_table=import_Colab('Acceptor')\n",
        "acceptor_table.Acceptor=acceptor_table.Acceptor/acceptor_table.Acceptor.max()\n",
        "acceptor_table.head()"
      ],
      "execution_count": null,
      "outputs": [
        {
          "output_type": "stream",
          "name": "stdout",
          "text": [
            "Import Acceptor spectrum\n"
          ]
        },
        {
          "output_type": "display_data",
          "data": {
            "text/html": [
              "\n",
              "     <input type=\"file\" id=\"files-20cf9ba7-7b9f-40eb-a7ce-e8dd59355122\" name=\"files[]\" multiple disabled\n",
              "        style=\"border:none\" />\n",
              "     <output id=\"result-20cf9ba7-7b9f-40eb-a7ce-e8dd59355122\">\n",
              "      Upload widget is only available when the cell has been executed in the\n",
              "      current browser session. Please rerun this cell to enable.\n",
              "      </output>\n",
              "      <script src=\"/nbextensions/google.colab/files.js\"></script> "
            ],
            "text/plain": [
              "<IPython.core.display.HTML object>"
            ]
          },
          "metadata": {}
        },
        {
          "output_type": "error",
          "ename": "UnboundLocalError",
          "evalue": "ignored",
          "traceback": [
            "\u001b[0;31m---------------------------------------------------------------------------\u001b[0m",
            "\u001b[0;31mUnboundLocalError\u001b[0m                         Traceback (most recent call last)",
            "\u001b[0;32m<ipython-input-256-f839c75e4fec>\u001b[0m in \u001b[0;36m<module>\u001b[0;34m()\u001b[0m\n\u001b[0;32m----> 1\u001b[0;31m \u001b[0macceptor_path\u001b[0m\u001b[0;34m,\u001b[0m\u001b[0macceptor_table\u001b[0m\u001b[0;34m=\u001b[0m\u001b[0mimport_Colab\u001b[0m\u001b[0;34m(\u001b[0m\u001b[0;34m'Acceptor'\u001b[0m\u001b[0;34m)\u001b[0m\u001b[0;34m\u001b[0m\u001b[0;34m\u001b[0m\u001b[0m\n\u001b[0m\u001b[1;32m      2\u001b[0m \u001b[0macceptor_table\u001b[0m\u001b[0;34m.\u001b[0m\u001b[0mAcceptor\u001b[0m\u001b[0;34m=\u001b[0m\u001b[0macceptor_table\u001b[0m\u001b[0;34m.\u001b[0m\u001b[0mAcceptor\u001b[0m\u001b[0;34m/\u001b[0m\u001b[0macceptor_table\u001b[0m\u001b[0;34m.\u001b[0m\u001b[0mAcceptor\u001b[0m\u001b[0;34m.\u001b[0m\u001b[0mmax\u001b[0m\u001b[0;34m(\u001b[0m\u001b[0;34m)\u001b[0m\u001b[0;34m\u001b[0m\u001b[0;34m\u001b[0m\u001b[0m\n\u001b[1;32m      3\u001b[0m \u001b[0macceptor_table\u001b[0m\u001b[0;34m.\u001b[0m\u001b[0mhead\u001b[0m\u001b[0;34m(\u001b[0m\u001b[0;34m)\u001b[0m\u001b[0;34m\u001b[0m\u001b[0;34m\u001b[0m\u001b[0m\n",
            "\u001b[0;32m<ipython-input-249-3be2f8ab8618>\u001b[0m in \u001b[0;36mimport_Colab\u001b[0;34m(variable)\u001b[0m\n\u001b[1;32m      9\u001b[0m         name=fn, length=len(uploaded[fn])))\n\u001b[1;32m     10\u001b[0m     \u001b[0;31m# read csv or excel\u001b[0m\u001b[0;34m\u001b[0m\u001b[0;34m\u001b[0m\u001b[0;34m\u001b[0m\u001b[0m\n\u001b[0;32m---> 11\u001b[0;31m   \u001b[0;32mif\u001b[0m \u001b[0;34m'.csv'\u001b[0m \u001b[0;32min\u001b[0m \u001b[0mfn\u001b[0m\u001b[0;34m:\u001b[0m\u001b[0;34m\u001b[0m\u001b[0;34m\u001b[0m\u001b[0m\n\u001b[0m\u001b[1;32m     12\u001b[0m     \u001b[0mdata\u001b[0m\u001b[0;34m=\u001b[0m\u001b[0mpd\u001b[0m\u001b[0;34m.\u001b[0m\u001b[0mread_csv\u001b[0m\u001b[0;34m(\u001b[0m\u001b[0mfn\u001b[0m\u001b[0;34m,\u001b[0m\u001b[0mnames\u001b[0m\u001b[0;34m=\u001b[0m\u001b[0;34m[\u001b[0m\u001b[0;34m'wavelength'\u001b[0m\u001b[0;34m,\u001b[0m\u001b[0mvariable\u001b[0m\u001b[0;34m]\u001b[0m\u001b[0;34m,\u001b[0m\u001b[0mdtype\u001b[0m\u001b[0;34m=\u001b[0m\u001b[0;34m{\u001b[0m\u001b[0;34m'wavelength'\u001b[0m\u001b[0;34m:\u001b[0m\u001b[0mint\u001b[0m\u001b[0;34m}\u001b[0m\u001b[0;34m)\u001b[0m\u001b[0;34m\u001b[0m\u001b[0;34m\u001b[0m\u001b[0m\n\u001b[1;32m     13\u001b[0m   \u001b[0;32melif\u001b[0m \u001b[0;34m'.xls'\u001b[0m \u001b[0;32min\u001b[0m \u001b[0mfn\u001b[0m\u001b[0;34m:\u001b[0m\u001b[0;34m\u001b[0m\u001b[0;34m\u001b[0m\u001b[0m\n",
            "\u001b[0;31mUnboundLocalError\u001b[0m: local variable 'fn' referenced before assignment"
          ]
        }
      ]
    },
    {
      "cell_type": "code",
      "metadata": {
        "id": "GHUDUeniGLnp"
      },
      "source": [
        "donar_path,donar_table=import_Colab('Donar')\n",
        "donar_table.Donar=donar_table.Donar/donar_table.Donar.max()\n",
        "donar_table.head()"
      ],
      "execution_count": null,
      "outputs": []
    },
    {
      "cell_type": "code",
      "metadata": {
        "id": "Te6kvNfg3xkh"
      },
      "source": [
        ""
      ],
      "execution_count": null,
      "outputs": []
    },
    {
      "cell_type": "markdown",
      "metadata": {
        "id": "lNIxo94yIfQp"
      },
      "source": [
        "### import acceptors and donar FP spectra from FPbase\n",
        "\n"
      ]
    },
    {
      "cell_type": "markdown",
      "metadata": {
        "id": "WUim19Z2Zdgl"
      },
      "source": [
        "#### import spectra from FPbase"
      ]
    },
    {
      "cell_type": "code",
      "metadata": {
        "id": "To5_4db2IehK"
      },
      "source": [
        "import requests\n",
        "url='http://www.fpbase.org/api/proteins/spectra'\n",
        "response = requests.get(\n",
        "    url,\n",
        "    params={'q': 'requests+language:python'}   \n",
        ")\n"
      ],
      "execution_count": null,
      "outputs": []
    },
    {
      "cell_type": "code",
      "metadata": {
        "id": "oB5EtQu1L8GK"
      },
      "source": [
        "response"
      ],
      "execution_count": null,
      "outputs": []
    },
    {
      "cell_type": "code",
      "metadata": {
        "id": "rCT8uAH9T0qD"
      },
      "source": [
        "spectra_list=response.json()"
      ],
      "execution_count": null,
      "outputs": []
    },
    {
      "cell_type": "markdown",
      "metadata": {
        "id": "y4eZ7T2gZltq"
      },
      "source": [
        "#### find the donar spectrum based on input name"
      ]
    },
    {
      "cell_type": "code",
      "metadata": {
        "id": "e6Eg5KZVMXOA"
      },
      "source": [
        "donar_name=input('name of the donar FP on FPbase is: ')"
      ],
      "execution_count": null,
      "outputs": []
    },
    {
      "cell_type": "code",
      "metadata": {
        "id": "JMqyArOZO_Ml"
      },
      "source": [
        "input_dict={}\n",
        "for FP in spectra_list:\n",
        "  # print(FP)\n",
        "  # print('---')\n",
        "  if donar_name in FP['name']:\n",
        "    print(FP['name'])\n",
        "    input_dict=FP\n",
        "\n"
      ],
      "execution_count": null,
      "outputs": []
    },
    {
      "cell_type": "code",
      "metadata": {
        "id": "zlRTdjvNYI6U"
      },
      "source": [
        "for spectrum in input_dict['spectra']:\n",
        "  # print(spectrum)\n",
        "  if 'em' in spectrum['state']:\n",
        "    donar_spectrum=spectrum['data']"
      ],
      "execution_count": null,
      "outputs": []
    },
    {
      "cell_type": "code",
      "metadata": {
        "id": "6h8zqqwQZB9J"
      },
      "source": [
        "donar_table=pd.DataFrame(donar_spectrum, dtype=int,columns=['wavelength','Donar'])"
      ],
      "execution_count": null,
      "outputs": []
    },
    {
      "cell_type": "code",
      "metadata": {
        "id": "p_rDU6aeZOaW"
      },
      "source": [
        "donar_table"
      ],
      "execution_count": null,
      "outputs": []
    },
    {
      "cell_type": "markdown",
      "metadata": {
        "id": "1h_9vGehbxBP"
      },
      "source": [
        "#### find the acceptor spectrum based on input name"
      ]
    },
    {
      "cell_type": "code",
      "metadata": {
        "id": "MFt6yOOEbxBW"
      },
      "source": [
        "acceptor_name=input('name of the acceptor FP on FPbase is: ')"
      ],
      "execution_count": null,
      "outputs": []
    },
    {
      "cell_type": "code",
      "metadata": {
        "id": "SbD9pK_qbxBW"
      },
      "source": [
        "input_dict={}\n",
        "for FP in spectra_list:\n",
        "  # print(FP)\n",
        "  # print('---')\n",
        "  if acceptor_name in FP['name']:\n",
        "    print(FP['name'])\n",
        "    input_dict=FP\n",
        "\n"
      ],
      "execution_count": null,
      "outputs": []
    },
    {
      "cell_type": "code",
      "metadata": {
        "id": "VuDOBtq2bxBX"
      },
      "source": [
        "for spectrum in input_dict['spectra']:\n",
        "  # print(spectrum)\n",
        "  if 'em' in spectrum['state']:\n",
        "    acceptor_spectrum=spectrum['data']"
      ],
      "execution_count": null,
      "outputs": []
    },
    {
      "cell_type": "code",
      "metadata": {
        "id": "JPcWbHfQbxBX"
      },
      "source": [
        "acceptor_table=pd.DataFrame(acceptor_spectrum, dtype=int,columns=['wavelength','Acceptor'])"
      ],
      "execution_count": null,
      "outputs": []
    },
    {
      "cell_type": "code",
      "metadata": {
        "id": "mxW8_5XJbxBX"
      },
      "source": [
        "acceptor_table"
      ],
      "execution_count": null,
      "outputs": []
    },
    {
      "cell_type": "markdown",
      "metadata": {
        "id": "4st7okZRnY7c"
      },
      "source": [
        "# Merge all three spectra into one table"
      ]
    },
    {
      "cell_type": "code",
      "metadata": {
        "id": "auMlqzQBWl1n",
        "colab": {
          "base_uri": "https://localhost:8080/"
        },
        "outputId": "b98e9644-d783-42f2-b8e9-0ffa60f4bfc8"
      },
      "source": [
        "concat_table=pd.merge(\n",
        "    acceptor_table,\n",
        "    donar_table,\n",
        "    how=\"inner\",\n",
        "    on='wavelength',\n",
        "    # left_on=None,\n",
        "    # right_on=None,\n",
        "    # left_index=False,\n",
        "    # right_index=False,\n",
        "    # sort=True,\n",
        "    # suffixes=(\"_x\", \"_y\"),\n",
        "    # copy=True,\n",
        "    # indicator=False,\n",
        "    # validate=None,\n",
        ")\n",
        "concat_table"
      ],
      "execution_count": null,
      "outputs": [
        {
          "output_type": "execute_result",
          "data": {
            "text/html": [
              "\n",
              "  <div id=\"df-7d62acd2-367f-47a0-8dc8-2eaf387504e5\">\n",
              "    <div class=\"colab-df-container\">\n",
              "      <div>\n",
              "<style scoped>\n",
              "    .dataframe tbody tr th:only-of-type {\n",
              "        vertical-align: middle;\n",
              "    }\n",
              "\n",
              "    .dataframe tbody tr th {\n",
              "        vertical-align: top;\n",
              "    }\n",
              "\n",
              "    .dataframe thead th {\n",
              "        text-align: right;\n",
              "    }\n",
              "</style>\n",
              "<table border=\"1\" class=\"dataframe\">\n",
              "  <thead>\n",
              "    <tr style=\"text-align: right;\">\n",
              "      <th></th>\n",
              "      <th>wavelength</th>\n",
              "      <th>Acceptor</th>\n",
              "      <th>Donar</th>\n",
              "    </tr>\n",
              "  </thead>\n",
              "  <tbody>\n",
              "    <tr>\n",
              "      <th>0</th>\n",
              "      <td>300</td>\n",
              "      <td>0.037127</td>\n",
              "      <td>0.053670</td>\n",
              "    </tr>\n",
              "    <tr>\n",
              "      <th>1</th>\n",
              "      <td>301</td>\n",
              "      <td>0.028862</td>\n",
              "      <td>0.045955</td>\n",
              "    </tr>\n",
              "    <tr>\n",
              "      <th>2</th>\n",
              "      <td>302</td>\n",
              "      <td>0.021951</td>\n",
              "      <td>0.039343</td>\n",
              "    </tr>\n",
              "    <tr>\n",
              "      <th>3</th>\n",
              "      <td>303</td>\n",
              "      <td>0.016125</td>\n",
              "      <td>0.033943</td>\n",
              "    </tr>\n",
              "    <tr>\n",
              "      <th>4</th>\n",
              "      <td>304</td>\n",
              "      <td>0.011247</td>\n",
              "      <td>0.027661</td>\n",
              "    </tr>\n",
              "    <tr>\n",
              "      <th>...</th>\n",
              "      <td>...</td>\n",
              "      <td>...</td>\n",
              "      <td>...</td>\n",
              "    </tr>\n",
              "    <tr>\n",
              "      <th>496</th>\n",
              "      <td>796</td>\n",
              "      <td>-0.021274</td>\n",
              "      <td>0.000441</td>\n",
              "    </tr>\n",
              "    <tr>\n",
              "      <th>497</th>\n",
              "      <td>797</td>\n",
              "      <td>-0.021409</td>\n",
              "      <td>0.000441</td>\n",
              "    </tr>\n",
              "    <tr>\n",
              "      <th>498</th>\n",
              "      <td>798</td>\n",
              "      <td>-0.021545</td>\n",
              "      <td>0.000441</td>\n",
              "    </tr>\n",
              "    <tr>\n",
              "      <th>499</th>\n",
              "      <td>799</td>\n",
              "      <td>-0.021680</td>\n",
              "      <td>0.000331</td>\n",
              "    </tr>\n",
              "    <tr>\n",
              "      <th>500</th>\n",
              "      <td>800</td>\n",
              "      <td>-0.021680</td>\n",
              "      <td>0.000331</td>\n",
              "    </tr>\n",
              "  </tbody>\n",
              "</table>\n",
              "<p>501 rows × 3 columns</p>\n",
              "</div>\n",
              "      <button class=\"colab-df-convert\" onclick=\"convertToInteractive('df-7d62acd2-367f-47a0-8dc8-2eaf387504e5')\"\n",
              "              title=\"Convert this dataframe to an interactive table.\"\n",
              "              style=\"display:none;\">\n",
              "        \n",
              "  <svg xmlns=\"http://www.w3.org/2000/svg\" height=\"24px\"viewBox=\"0 0 24 24\"\n",
              "       width=\"24px\">\n",
              "    <path d=\"M0 0h24v24H0V0z\" fill=\"none\"/>\n",
              "    <path d=\"M18.56 5.44l.94 2.06.94-2.06 2.06-.94-2.06-.94-.94-2.06-.94 2.06-2.06.94zm-11 1L8.5 8.5l.94-2.06 2.06-.94-2.06-.94L8.5 2.5l-.94 2.06-2.06.94zm10 10l.94 2.06.94-2.06 2.06-.94-2.06-.94-.94-2.06-.94 2.06-2.06.94z\"/><path d=\"M17.41 7.96l-1.37-1.37c-.4-.4-.92-.59-1.43-.59-.52 0-1.04.2-1.43.59L10.3 9.45l-7.72 7.72c-.78.78-.78 2.05 0 2.83L4 21.41c.39.39.9.59 1.41.59.51 0 1.02-.2 1.41-.59l7.78-7.78 2.81-2.81c.8-.78.8-2.07 0-2.86zM5.41 20L4 18.59l7.72-7.72 1.47 1.35L5.41 20z\"/>\n",
              "  </svg>\n",
              "      </button>\n",
              "      \n",
              "  <style>\n",
              "    .colab-df-container {\n",
              "      display:flex;\n",
              "      flex-wrap:wrap;\n",
              "      gap: 12px;\n",
              "    }\n",
              "\n",
              "    .colab-df-convert {\n",
              "      background-color: #E8F0FE;\n",
              "      border: none;\n",
              "      border-radius: 50%;\n",
              "      cursor: pointer;\n",
              "      display: none;\n",
              "      fill: #1967D2;\n",
              "      height: 32px;\n",
              "      padding: 0 0 0 0;\n",
              "      width: 32px;\n",
              "    }\n",
              "\n",
              "    .colab-df-convert:hover {\n",
              "      background-color: #E2EBFA;\n",
              "      box-shadow: 0px 1px 2px rgba(60, 64, 67, 0.3), 0px 1px 3px 1px rgba(60, 64, 67, 0.15);\n",
              "      fill: #174EA6;\n",
              "    }\n",
              "\n",
              "    [theme=dark] .colab-df-convert {\n",
              "      background-color: #3B4455;\n",
              "      fill: #D2E3FC;\n",
              "    }\n",
              "\n",
              "    [theme=dark] .colab-df-convert:hover {\n",
              "      background-color: #434B5C;\n",
              "      box-shadow: 0px 1px 3px 1px rgba(0, 0, 0, 0.15);\n",
              "      filter: drop-shadow(0px 1px 2px rgba(0, 0, 0, 0.3));\n",
              "      fill: #FFFFFF;\n",
              "    }\n",
              "  </style>\n",
              "\n",
              "      <script>\n",
              "        const buttonEl =\n",
              "          document.querySelector('#df-7d62acd2-367f-47a0-8dc8-2eaf387504e5 button.colab-df-convert');\n",
              "        buttonEl.style.display =\n",
              "          google.colab.kernel.accessAllowed ? 'block' : 'none';\n",
              "\n",
              "        async function convertToInteractive(key) {\n",
              "          const element = document.querySelector('#df-7d62acd2-367f-47a0-8dc8-2eaf387504e5');\n",
              "          const dataTable =\n",
              "            await google.colab.kernel.invokeFunction('convertToInteractive',\n",
              "                                                     [key], {});\n",
              "          if (!dataTable) return;\n",
              "\n",
              "          const docLinkHtml = 'Like what you see? Visit the ' +\n",
              "            '<a target=\"_blank\" href=https://colab.research.google.com/notebooks/data_table.ipynb>data table notebook</a>'\n",
              "            + ' to learn more about interactive tables.';\n",
              "          element.innerHTML = '';\n",
              "          dataTable['output_type'] = 'display_data';\n",
              "          await google.colab.output.renderOutput(dataTable, element);\n",
              "          const docLink = document.createElement('div');\n",
              "          docLink.innerHTML = docLinkHtml;\n",
              "          element.appendChild(docLink);\n",
              "        }\n",
              "      </script>\n",
              "    </div>\n",
              "  </div>\n",
              "  "
            ],
            "text/plain": [
              "     wavelength  Acceptor     Donar\n",
              "0           300  0.037127  0.053670\n",
              "1           301  0.028862  0.045955\n",
              "2           302  0.021951  0.039343\n",
              "3           303  0.016125  0.033943\n",
              "4           304  0.011247  0.027661\n",
              "..          ...       ...       ...\n",
              "496         796 -0.021274  0.000441\n",
              "497         797 -0.021409  0.000441\n",
              "498         798 -0.021545  0.000441\n",
              "499         799 -0.021680  0.000331\n",
              "500         800 -0.021680  0.000331\n",
              "\n",
              "[501 rows x 3 columns]"
            ]
          },
          "metadata": {},
          "execution_count": 535
        }
      ]
    },
    {
      "cell_type": "code",
      "metadata": {
        "colab": {
          "base_uri": "https://localhost:8080/"
        },
        "id": "EydDY8jSjP_4",
        "outputId": "9bfa49ac-f8a9-4540-828a-f46f73275a62"
      },
      "source": [
        "concat_table=pd.merge(\n",
        "    concat_table,\n",
        "    FRET_table,\n",
        "    how=\"inner\",\n",
        "    on='wavelength',\n",
        "    # left_on=None,\n",
        "    # right_on=None,\n",
        "    # left_index=False,\n",
        "    # right_index=False,\n",
        "    # sort=True,\n",
        "    # suffixes=(\"_x\", \"_y\"),\n",
        "    # copy=True,\n",
        "    # indicator=False,\n",
        "    # validate=None,\n",
        ")\n",
        "concat_table"
      ],
      "execution_count": null,
      "outputs": [
        {
          "output_type": "execute_result",
          "data": {
            "text/html": [
              "\n",
              "  <div id=\"df-00c1bd90-4a69-48f0-8d93-d2e332c6eb67\">\n",
              "    <div class=\"colab-df-container\">\n",
              "      <div>\n",
              "<style scoped>\n",
              "    .dataframe tbody tr th:only-of-type {\n",
              "        vertical-align: middle;\n",
              "    }\n",
              "\n",
              "    .dataframe tbody tr th {\n",
              "        vertical-align: top;\n",
              "    }\n",
              "\n",
              "    .dataframe thead th {\n",
              "        text-align: right;\n",
              "    }\n",
              "</style>\n",
              "<table border=\"1\" class=\"dataframe\">\n",
              "  <thead>\n",
              "    <tr style=\"text-align: right;\">\n",
              "      <th></th>\n",
              "      <th>wavelength</th>\n",
              "      <th>Acceptor</th>\n",
              "      <th>Donar</th>\n",
              "      <th>FRET</th>\n",
              "    </tr>\n",
              "  </thead>\n",
              "  <tbody>\n",
              "    <tr>\n",
              "      <th>0</th>\n",
              "      <td>300</td>\n",
              "      <td>0.037127</td>\n",
              "      <td>0.053670</td>\n",
              "      <td>0.065951</td>\n",
              "    </tr>\n",
              "    <tr>\n",
              "      <th>1</th>\n",
              "      <td>301</td>\n",
              "      <td>0.028862</td>\n",
              "      <td>0.045955</td>\n",
              "      <td>0.060658</td>\n",
              "    </tr>\n",
              "    <tr>\n",
              "      <th>2</th>\n",
              "      <td>302</td>\n",
              "      <td>0.021951</td>\n",
              "      <td>0.039343</td>\n",
              "      <td>0.055508</td>\n",
              "    </tr>\n",
              "    <tr>\n",
              "      <th>3</th>\n",
              "      <td>303</td>\n",
              "      <td>0.016125</td>\n",
              "      <td>0.033943</td>\n",
              "      <td>0.051073</td>\n",
              "    </tr>\n",
              "    <tr>\n",
              "      <th>4</th>\n",
              "      <td>304</td>\n",
              "      <td>0.011247</td>\n",
              "      <td>0.027661</td>\n",
              "      <td>0.047353</td>\n",
              "    </tr>\n",
              "    <tr>\n",
              "      <th>...</th>\n",
              "      <td>...</td>\n",
              "      <td>...</td>\n",
              "      <td>...</td>\n",
              "      <td>...</td>\n",
              "    </tr>\n",
              "    <tr>\n",
              "      <th>496</th>\n",
              "      <td>796</td>\n",
              "      <td>-0.021274</td>\n",
              "      <td>0.000441</td>\n",
              "      <td>-0.001288</td>\n",
              "    </tr>\n",
              "    <tr>\n",
              "      <th>497</th>\n",
              "      <td>797</td>\n",
              "      <td>-0.021409</td>\n",
              "      <td>0.000441</td>\n",
              "      <td>-0.001288</td>\n",
              "    </tr>\n",
              "    <tr>\n",
              "      <th>498</th>\n",
              "      <td>798</td>\n",
              "      <td>-0.021545</td>\n",
              "      <td>0.000441</td>\n",
              "      <td>-0.001431</td>\n",
              "    </tr>\n",
              "    <tr>\n",
              "      <th>499</th>\n",
              "      <td>799</td>\n",
              "      <td>-0.021680</td>\n",
              "      <td>0.000331</td>\n",
              "      <td>-0.001431</td>\n",
              "    </tr>\n",
              "    <tr>\n",
              "      <th>500</th>\n",
              "      <td>800</td>\n",
              "      <td>-0.021680</td>\n",
              "      <td>0.000331</td>\n",
              "      <td>-0.001431</td>\n",
              "    </tr>\n",
              "  </tbody>\n",
              "</table>\n",
              "<p>501 rows × 4 columns</p>\n",
              "</div>\n",
              "      <button class=\"colab-df-convert\" onclick=\"convertToInteractive('df-00c1bd90-4a69-48f0-8d93-d2e332c6eb67')\"\n",
              "              title=\"Convert this dataframe to an interactive table.\"\n",
              "              style=\"display:none;\">\n",
              "        \n",
              "  <svg xmlns=\"http://www.w3.org/2000/svg\" height=\"24px\"viewBox=\"0 0 24 24\"\n",
              "       width=\"24px\">\n",
              "    <path d=\"M0 0h24v24H0V0z\" fill=\"none\"/>\n",
              "    <path d=\"M18.56 5.44l.94 2.06.94-2.06 2.06-.94-2.06-.94-.94-2.06-.94 2.06-2.06.94zm-11 1L8.5 8.5l.94-2.06 2.06-.94-2.06-.94L8.5 2.5l-.94 2.06-2.06.94zm10 10l.94 2.06.94-2.06 2.06-.94-2.06-.94-.94-2.06-.94 2.06-2.06.94z\"/><path d=\"M17.41 7.96l-1.37-1.37c-.4-.4-.92-.59-1.43-.59-.52 0-1.04.2-1.43.59L10.3 9.45l-7.72 7.72c-.78.78-.78 2.05 0 2.83L4 21.41c.39.39.9.59 1.41.59.51 0 1.02-.2 1.41-.59l7.78-7.78 2.81-2.81c.8-.78.8-2.07 0-2.86zM5.41 20L4 18.59l7.72-7.72 1.47 1.35L5.41 20z\"/>\n",
              "  </svg>\n",
              "      </button>\n",
              "      \n",
              "  <style>\n",
              "    .colab-df-container {\n",
              "      display:flex;\n",
              "      flex-wrap:wrap;\n",
              "      gap: 12px;\n",
              "    }\n",
              "\n",
              "    .colab-df-convert {\n",
              "      background-color: #E8F0FE;\n",
              "      border: none;\n",
              "      border-radius: 50%;\n",
              "      cursor: pointer;\n",
              "      display: none;\n",
              "      fill: #1967D2;\n",
              "      height: 32px;\n",
              "      padding: 0 0 0 0;\n",
              "      width: 32px;\n",
              "    }\n",
              "\n",
              "    .colab-df-convert:hover {\n",
              "      background-color: #E2EBFA;\n",
              "      box-shadow: 0px 1px 2px rgba(60, 64, 67, 0.3), 0px 1px 3px 1px rgba(60, 64, 67, 0.15);\n",
              "      fill: #174EA6;\n",
              "    }\n",
              "\n",
              "    [theme=dark] .colab-df-convert {\n",
              "      background-color: #3B4455;\n",
              "      fill: #D2E3FC;\n",
              "    }\n",
              "\n",
              "    [theme=dark] .colab-df-convert:hover {\n",
              "      background-color: #434B5C;\n",
              "      box-shadow: 0px 1px 3px 1px rgba(0, 0, 0, 0.15);\n",
              "      filter: drop-shadow(0px 1px 2px rgba(0, 0, 0, 0.3));\n",
              "      fill: #FFFFFF;\n",
              "    }\n",
              "  </style>\n",
              "\n",
              "      <script>\n",
              "        const buttonEl =\n",
              "          document.querySelector('#df-00c1bd90-4a69-48f0-8d93-d2e332c6eb67 button.colab-df-convert');\n",
              "        buttonEl.style.display =\n",
              "          google.colab.kernel.accessAllowed ? 'block' : 'none';\n",
              "\n",
              "        async function convertToInteractive(key) {\n",
              "          const element = document.querySelector('#df-00c1bd90-4a69-48f0-8d93-d2e332c6eb67');\n",
              "          const dataTable =\n",
              "            await google.colab.kernel.invokeFunction('convertToInteractive',\n",
              "                                                     [key], {});\n",
              "          if (!dataTable) return;\n",
              "\n",
              "          const docLinkHtml = 'Like what you see? Visit the ' +\n",
              "            '<a target=\"_blank\" href=https://colab.research.google.com/notebooks/data_table.ipynb>data table notebook</a>'\n",
              "            + ' to learn more about interactive tables.';\n",
              "          element.innerHTML = '';\n",
              "          dataTable['output_type'] = 'display_data';\n",
              "          await google.colab.output.renderOutput(dataTable, element);\n",
              "          const docLink = document.createElement('div');\n",
              "          docLink.innerHTML = docLinkHtml;\n",
              "          element.appendChild(docLink);\n",
              "        }\n",
              "      </script>\n",
              "    </div>\n",
              "  </div>\n",
              "  "
            ],
            "text/plain": [
              "     wavelength  Acceptor     Donar      FRET\n",
              "0           300  0.037127  0.053670  0.065951\n",
              "1           301  0.028862  0.045955  0.060658\n",
              "2           302  0.021951  0.039343  0.055508\n",
              "3           303  0.016125  0.033943  0.051073\n",
              "4           304  0.011247  0.027661  0.047353\n",
              "..          ...       ...       ...       ...\n",
              "496         796 -0.021274  0.000441 -0.001288\n",
              "497         797 -0.021409  0.000441 -0.001288\n",
              "498         798 -0.021545  0.000441 -0.001431\n",
              "499         799 -0.021680  0.000331 -0.001431\n",
              "500         800 -0.021680  0.000331 -0.001431\n",
              "\n",
              "[501 rows x 4 columns]"
            ]
          },
          "metadata": {},
          "execution_count": 536
        }
      ]
    },
    {
      "cell_type": "markdown",
      "metadata": {
        "id": "agPv4dskraA2"
      },
      "source": [
        "# Let's start fitting\n",
        "  - let's consider the relationship of FRET, acceptor, and donar at any wavelength as:\n",
        "\n",
        "\n",
        "> > FRET(acceptor,donar)=a\\*acceptor+b\\*donar\n",
        "\n",
        "where a and b are fitting variables \n",
        "\n"
      ]
    },
    {
      "cell_type": "code",
      "metadata": {
        "colab": {
          "base_uri": "https://localhost:8080/",
          "height": 423
        },
        "id": "f-ScsaSc8hp2",
        "outputId": "77de6910-bfb4-44c0-f61e-76a4b455bcdd"
      },
      "source": [
        "concat_table"
      ],
      "execution_count": null,
      "outputs": [
        {
          "output_type": "execute_result",
          "data": {
            "text/html": [
              "\n",
              "  <div id=\"df-436f8f38-5173-4fd1-bcf1-80d3bb6e6d02\">\n",
              "    <div class=\"colab-df-container\">\n",
              "      <div>\n",
              "<style scoped>\n",
              "    .dataframe tbody tr th:only-of-type {\n",
              "        vertical-align: middle;\n",
              "    }\n",
              "\n",
              "    .dataframe tbody tr th {\n",
              "        vertical-align: top;\n",
              "    }\n",
              "\n",
              "    .dataframe thead th {\n",
              "        text-align: right;\n",
              "    }\n",
              "</style>\n",
              "<table border=\"1\" class=\"dataframe\">\n",
              "  <thead>\n",
              "    <tr style=\"text-align: right;\">\n",
              "      <th></th>\n",
              "      <th>wavelength</th>\n",
              "      <th>Acceptor</th>\n",
              "      <th>Donar</th>\n",
              "      <th>FRET</th>\n",
              "    </tr>\n",
              "  </thead>\n",
              "  <tbody>\n",
              "    <tr>\n",
              "      <th>0</th>\n",
              "      <td>300</td>\n",
              "      <td>0.037127</td>\n",
              "      <td>0.053670</td>\n",
              "      <td>0.065951</td>\n",
              "    </tr>\n",
              "    <tr>\n",
              "      <th>1</th>\n",
              "      <td>301</td>\n",
              "      <td>0.028862</td>\n",
              "      <td>0.045955</td>\n",
              "      <td>0.060658</td>\n",
              "    </tr>\n",
              "    <tr>\n",
              "      <th>2</th>\n",
              "      <td>302</td>\n",
              "      <td>0.021951</td>\n",
              "      <td>0.039343</td>\n",
              "      <td>0.055508</td>\n",
              "    </tr>\n",
              "    <tr>\n",
              "      <th>3</th>\n",
              "      <td>303</td>\n",
              "      <td>0.016125</td>\n",
              "      <td>0.033943</td>\n",
              "      <td>0.051073</td>\n",
              "    </tr>\n",
              "    <tr>\n",
              "      <th>4</th>\n",
              "      <td>304</td>\n",
              "      <td>0.011247</td>\n",
              "      <td>0.027661</td>\n",
              "      <td>0.047353</td>\n",
              "    </tr>\n",
              "    <tr>\n",
              "      <th>...</th>\n",
              "      <td>...</td>\n",
              "      <td>...</td>\n",
              "      <td>...</td>\n",
              "      <td>...</td>\n",
              "    </tr>\n",
              "    <tr>\n",
              "      <th>496</th>\n",
              "      <td>796</td>\n",
              "      <td>-0.021274</td>\n",
              "      <td>0.000441</td>\n",
              "      <td>-0.001288</td>\n",
              "    </tr>\n",
              "    <tr>\n",
              "      <th>497</th>\n",
              "      <td>797</td>\n",
              "      <td>-0.021409</td>\n",
              "      <td>0.000441</td>\n",
              "      <td>-0.001288</td>\n",
              "    </tr>\n",
              "    <tr>\n",
              "      <th>498</th>\n",
              "      <td>798</td>\n",
              "      <td>-0.021545</td>\n",
              "      <td>0.000441</td>\n",
              "      <td>-0.001431</td>\n",
              "    </tr>\n",
              "    <tr>\n",
              "      <th>499</th>\n",
              "      <td>799</td>\n",
              "      <td>-0.021680</td>\n",
              "      <td>0.000331</td>\n",
              "      <td>-0.001431</td>\n",
              "    </tr>\n",
              "    <tr>\n",
              "      <th>500</th>\n",
              "      <td>800</td>\n",
              "      <td>-0.021680</td>\n",
              "      <td>0.000331</td>\n",
              "      <td>-0.001431</td>\n",
              "    </tr>\n",
              "  </tbody>\n",
              "</table>\n",
              "<p>501 rows × 4 columns</p>\n",
              "</div>\n",
              "      <button class=\"colab-df-convert\" onclick=\"convertToInteractive('df-436f8f38-5173-4fd1-bcf1-80d3bb6e6d02')\"\n",
              "              title=\"Convert this dataframe to an interactive table.\"\n",
              "              style=\"display:none;\">\n",
              "        \n",
              "  <svg xmlns=\"http://www.w3.org/2000/svg\" height=\"24px\"viewBox=\"0 0 24 24\"\n",
              "       width=\"24px\">\n",
              "    <path d=\"M0 0h24v24H0V0z\" fill=\"none\"/>\n",
              "    <path d=\"M18.56 5.44l.94 2.06.94-2.06 2.06-.94-2.06-.94-.94-2.06-.94 2.06-2.06.94zm-11 1L8.5 8.5l.94-2.06 2.06-.94-2.06-.94L8.5 2.5l-.94 2.06-2.06.94zm10 10l.94 2.06.94-2.06 2.06-.94-2.06-.94-.94-2.06-.94 2.06-2.06.94z\"/><path d=\"M17.41 7.96l-1.37-1.37c-.4-.4-.92-.59-1.43-.59-.52 0-1.04.2-1.43.59L10.3 9.45l-7.72 7.72c-.78.78-.78 2.05 0 2.83L4 21.41c.39.39.9.59 1.41.59.51 0 1.02-.2 1.41-.59l7.78-7.78 2.81-2.81c.8-.78.8-2.07 0-2.86zM5.41 20L4 18.59l7.72-7.72 1.47 1.35L5.41 20z\"/>\n",
              "  </svg>\n",
              "      </button>\n",
              "      \n",
              "  <style>\n",
              "    .colab-df-container {\n",
              "      display:flex;\n",
              "      flex-wrap:wrap;\n",
              "      gap: 12px;\n",
              "    }\n",
              "\n",
              "    .colab-df-convert {\n",
              "      background-color: #E8F0FE;\n",
              "      border: none;\n",
              "      border-radius: 50%;\n",
              "      cursor: pointer;\n",
              "      display: none;\n",
              "      fill: #1967D2;\n",
              "      height: 32px;\n",
              "      padding: 0 0 0 0;\n",
              "      width: 32px;\n",
              "    }\n",
              "\n",
              "    .colab-df-convert:hover {\n",
              "      background-color: #E2EBFA;\n",
              "      box-shadow: 0px 1px 2px rgba(60, 64, 67, 0.3), 0px 1px 3px 1px rgba(60, 64, 67, 0.15);\n",
              "      fill: #174EA6;\n",
              "    }\n",
              "\n",
              "    [theme=dark] .colab-df-convert {\n",
              "      background-color: #3B4455;\n",
              "      fill: #D2E3FC;\n",
              "    }\n",
              "\n",
              "    [theme=dark] .colab-df-convert:hover {\n",
              "      background-color: #434B5C;\n",
              "      box-shadow: 0px 1px 3px 1px rgba(0, 0, 0, 0.15);\n",
              "      filter: drop-shadow(0px 1px 2px rgba(0, 0, 0, 0.3));\n",
              "      fill: #FFFFFF;\n",
              "    }\n",
              "  </style>\n",
              "\n",
              "      <script>\n",
              "        const buttonEl =\n",
              "          document.querySelector('#df-436f8f38-5173-4fd1-bcf1-80d3bb6e6d02 button.colab-df-convert');\n",
              "        buttonEl.style.display =\n",
              "          google.colab.kernel.accessAllowed ? 'block' : 'none';\n",
              "\n",
              "        async function convertToInteractive(key) {\n",
              "          const element = document.querySelector('#df-436f8f38-5173-4fd1-bcf1-80d3bb6e6d02');\n",
              "          const dataTable =\n",
              "            await google.colab.kernel.invokeFunction('convertToInteractive',\n",
              "                                                     [key], {});\n",
              "          if (!dataTable) return;\n",
              "\n",
              "          const docLinkHtml = 'Like what you see? Visit the ' +\n",
              "            '<a target=\"_blank\" href=https://colab.research.google.com/notebooks/data_table.ipynb>data table notebook</a>'\n",
              "            + ' to learn more about interactive tables.';\n",
              "          element.innerHTML = '';\n",
              "          dataTable['output_type'] = 'display_data';\n",
              "          await google.colab.output.renderOutput(dataTable, element);\n",
              "          const docLink = document.createElement('div');\n",
              "          docLink.innerHTML = docLinkHtml;\n",
              "          element.appendChild(docLink);\n",
              "        }\n",
              "      </script>\n",
              "    </div>\n",
              "  </div>\n",
              "  "
            ],
            "text/plain": [
              "     wavelength  Acceptor     Donar      FRET\n",
              "0           300  0.037127  0.053670  0.065951\n",
              "1           301  0.028862  0.045955  0.060658\n",
              "2           302  0.021951  0.039343  0.055508\n",
              "3           303  0.016125  0.033943  0.051073\n",
              "4           304  0.011247  0.027661  0.047353\n",
              "..          ...       ...       ...       ...\n",
              "496         796 -0.021274  0.000441 -0.001288\n",
              "497         797 -0.021409  0.000441 -0.001288\n",
              "498         798 -0.021545  0.000441 -0.001431\n",
              "499         799 -0.021680  0.000331 -0.001431\n",
              "500         800 -0.021680  0.000331 -0.001431\n",
              "\n",
              "[501 rows x 4 columns]"
            ]
          },
          "metadata": {},
          "execution_count": 537
        }
      ]
    },
    {
      "cell_type": "code",
      "metadata": {
        "id": "jh7tbmQuvsKa",
        "colab": {
          "base_uri": "https://localhost:8080/"
        },
        "outputId": "32f8c2a3-9c4a-4134-834f-192c64d99c5f"
      },
      "source": [
        "# fit a second degree polynomial to the economic data\n",
        "from numpy import arange\n",
        "from pandas import read_csv\n",
        "from scipy.optimize import curve_fit\n",
        "from matplotlib import pyplot\n",
        " \n",
        "# define the true objective function\n",
        "# def objective(x, a, b, c):\n",
        "# \treturn a * x + b * x**2 + c\n",
        "def objective(X,a,b):\n",
        "  acceptor,donar=X\n",
        "  return a*acceptor+b*donar\n",
        " \n",
        "# # load the dataset\n",
        "# url = 'https://raw.githubusercontent.com/jbrownlee/Datasets/master/longley.csv'\n",
        "# dataframe = read_csv(url, header=None)\n",
        "# data = dataframe.values\n",
        "# choose the input and output variables\n",
        "# x, y = data[:, 4], data[:, -1]\n",
        "acceptor=concat_table['Acceptor']*1\n",
        "donar=concat_table['Donar']*1\n",
        "FRET=concat_table['FRET']*1\n",
        "\n",
        "\n",
        "# curve fit\n",
        "popt, _ = curve_fit(objective, (acceptor, donar),FRET,p0=[0.50558548, 0.50558548],method='dogbox',jac='cs')\n",
        "print(popt)\n",
        "# summarize the parameter values\n",
        "\n",
        "a,b=popt\n",
        "print('FRET_overlay_spectrum = %.5f * Acceptor + %.5f * Donar' % (a, b))\n",
        "\n",
        "# plot input vs output\n",
        "# pyplot.scatter(x, y)\n",
        "# # define a sequence of inputs between the smallest and largest known inputs\n",
        "# x_line = arange(min(x), max(x), 1)\n",
        "# # calculate the output for the range\n",
        "# y_line = objective(x_line, a, b, c)\n",
        "# # create a line plot for the mapping function\n",
        "# pyplot.plot(x_line, y_line, '--', color='red')\n",
        "# pyplot.show()"
      ],
      "execution_count": null,
      "outputs": [
        {
          "output_type": "stream",
          "name": "stdout",
          "text": [
            "[0.33314086 0.30196892]\n",
            "FRET_overlay_spectrum = 0.33314 * Acceptor + 0.30197 * Donar\n"
          ]
        }
      ]
    },
    {
      "cell_type": "code",
      "metadata": {
        "colab": {
          "base_uri": "https://localhost:8080/"
        },
        "id": "WgX3_OEg-KZe",
        "outputId": "81b7cf5d-3b98-4595-e8f4-9157726b0a79"
      },
      "source": [
        "from sklearn.metrics import r2_score\n",
        "print('R^2_score: ', r2_score(objective((acceptor,donar),a,b),FRET))\n",
        "r2=r2_score(objective((acceptor,donar),a,b),FRET)"
      ],
      "execution_count": null,
      "outputs": [
        {
          "output_type": "stream",
          "name": "stdout",
          "text": [
            "R^2_score:  0.9801482915837373\n"
          ]
        }
      ]
    },
    {
      "cell_type": "code",
      "metadata": {
        "id": "fdWjf1e9vr7K"
      },
      "source": [
        "data_graph={'wavelength':concat_table.wavelength,'Acceptor':concat_table.Acceptor*a,'Donar':concat_table.Donar*b,'Overlay':objective((concat_table.Acceptor, concat_table.Donar),a,b),'Measured_curve':concat_table.FRET}\n",
        "graph_table=pd.DataFrame(data_graph)"
      ],
      "execution_count": null,
      "outputs": []
    },
    {
      "cell_type": "code",
      "metadata": {
        "colab": {
          "base_uri": "https://localhost:8080/",
          "height": 423
        },
        "id": "UZXUDvnQrI2f",
        "outputId": "cb2afc79-2cfc-4173-b0b4-624d54784267"
      },
      "source": [
        "graph_table"
      ],
      "execution_count": null,
      "outputs": [
        {
          "output_type": "execute_result",
          "data": {
            "text/html": [
              "\n",
              "  <div id=\"df-433d77f3-441f-4c52-a865-85bac73089ab\">\n",
              "    <div class=\"colab-df-container\">\n",
              "      <div>\n",
              "<style scoped>\n",
              "    .dataframe tbody tr th:only-of-type {\n",
              "        vertical-align: middle;\n",
              "    }\n",
              "\n",
              "    .dataframe tbody tr th {\n",
              "        vertical-align: top;\n",
              "    }\n",
              "\n",
              "    .dataframe thead th {\n",
              "        text-align: right;\n",
              "    }\n",
              "</style>\n",
              "<table border=\"1\" class=\"dataframe\">\n",
              "  <thead>\n",
              "    <tr style=\"text-align: right;\">\n",
              "      <th></th>\n",
              "      <th>wavelength</th>\n",
              "      <th>Acceptor</th>\n",
              "      <th>Donar</th>\n",
              "      <th>Overlay</th>\n",
              "      <th>Measured_curve</th>\n",
              "    </tr>\n",
              "  </thead>\n",
              "  <tbody>\n",
              "    <tr>\n",
              "      <th>0</th>\n",
              "      <td>300</td>\n",
              "      <td>0.012369</td>\n",
              "      <td>0.016207</td>\n",
              "      <td>0.028575</td>\n",
              "      <td>0.065951</td>\n",
              "    </tr>\n",
              "    <tr>\n",
              "      <th>1</th>\n",
              "      <td>301</td>\n",
              "      <td>0.009615</td>\n",
              "      <td>0.013877</td>\n",
              "      <td>0.023492</td>\n",
              "      <td>0.060658</td>\n",
              "    </tr>\n",
              "    <tr>\n",
              "      <th>2</th>\n",
              "      <td>302</td>\n",
              "      <td>0.007313</td>\n",
              "      <td>0.011880</td>\n",
              "      <td>0.019193</td>\n",
              "      <td>0.055508</td>\n",
              "    </tr>\n",
              "    <tr>\n",
              "      <th>3</th>\n",
              "      <td>303</td>\n",
              "      <td>0.005372</td>\n",
              "      <td>0.010250</td>\n",
              "      <td>0.015622</td>\n",
              "      <td>0.051073</td>\n",
              "    </tr>\n",
              "    <tr>\n",
              "      <th>4</th>\n",
              "      <td>304</td>\n",
              "      <td>0.003747</td>\n",
              "      <td>0.008353</td>\n",
              "      <td>0.012100</td>\n",
              "      <td>0.047353</td>\n",
              "    </tr>\n",
              "    <tr>\n",
              "      <th>...</th>\n",
              "      <td>...</td>\n",
              "      <td>...</td>\n",
              "      <td>...</td>\n",
              "      <td>...</td>\n",
              "      <td>...</td>\n",
              "    </tr>\n",
              "    <tr>\n",
              "      <th>496</th>\n",
              "      <td>796</td>\n",
              "      <td>-0.007087</td>\n",
              "      <td>0.000133</td>\n",
              "      <td>-0.006954</td>\n",
              "      <td>-0.001288</td>\n",
              "    </tr>\n",
              "    <tr>\n",
              "      <th>497</th>\n",
              "      <td>797</td>\n",
              "      <td>-0.007132</td>\n",
              "      <td>0.000133</td>\n",
              "      <td>-0.006999</td>\n",
              "      <td>-0.001288</td>\n",
              "    </tr>\n",
              "    <tr>\n",
              "      <th>498</th>\n",
              "      <td>798</td>\n",
              "      <td>-0.007177</td>\n",
              "      <td>0.000133</td>\n",
              "      <td>-0.007044</td>\n",
              "      <td>-0.001431</td>\n",
              "    </tr>\n",
              "    <tr>\n",
              "      <th>499</th>\n",
              "      <td>799</td>\n",
              "      <td>-0.007223</td>\n",
              "      <td>0.000100</td>\n",
              "      <td>-0.007123</td>\n",
              "      <td>-0.001431</td>\n",
              "    </tr>\n",
              "    <tr>\n",
              "      <th>500</th>\n",
              "      <td>800</td>\n",
              "      <td>-0.007223</td>\n",
              "      <td>0.000100</td>\n",
              "      <td>-0.007123</td>\n",
              "      <td>-0.001431</td>\n",
              "    </tr>\n",
              "  </tbody>\n",
              "</table>\n",
              "<p>501 rows × 5 columns</p>\n",
              "</div>\n",
              "      <button class=\"colab-df-convert\" onclick=\"convertToInteractive('df-433d77f3-441f-4c52-a865-85bac73089ab')\"\n",
              "              title=\"Convert this dataframe to an interactive table.\"\n",
              "              style=\"display:none;\">\n",
              "        \n",
              "  <svg xmlns=\"http://www.w3.org/2000/svg\" height=\"24px\"viewBox=\"0 0 24 24\"\n",
              "       width=\"24px\">\n",
              "    <path d=\"M0 0h24v24H0V0z\" fill=\"none\"/>\n",
              "    <path d=\"M18.56 5.44l.94 2.06.94-2.06 2.06-.94-2.06-.94-.94-2.06-.94 2.06-2.06.94zm-11 1L8.5 8.5l.94-2.06 2.06-.94-2.06-.94L8.5 2.5l-.94 2.06-2.06.94zm10 10l.94 2.06.94-2.06 2.06-.94-2.06-.94-.94-2.06-.94 2.06-2.06.94z\"/><path d=\"M17.41 7.96l-1.37-1.37c-.4-.4-.92-.59-1.43-.59-.52 0-1.04.2-1.43.59L10.3 9.45l-7.72 7.72c-.78.78-.78 2.05 0 2.83L4 21.41c.39.39.9.59 1.41.59.51 0 1.02-.2 1.41-.59l7.78-7.78 2.81-2.81c.8-.78.8-2.07 0-2.86zM5.41 20L4 18.59l7.72-7.72 1.47 1.35L5.41 20z\"/>\n",
              "  </svg>\n",
              "      </button>\n",
              "      \n",
              "  <style>\n",
              "    .colab-df-container {\n",
              "      display:flex;\n",
              "      flex-wrap:wrap;\n",
              "      gap: 12px;\n",
              "    }\n",
              "\n",
              "    .colab-df-convert {\n",
              "      background-color: #E8F0FE;\n",
              "      border: none;\n",
              "      border-radius: 50%;\n",
              "      cursor: pointer;\n",
              "      display: none;\n",
              "      fill: #1967D2;\n",
              "      height: 32px;\n",
              "      padding: 0 0 0 0;\n",
              "      width: 32px;\n",
              "    }\n",
              "\n",
              "    .colab-df-convert:hover {\n",
              "      background-color: #E2EBFA;\n",
              "      box-shadow: 0px 1px 2px rgba(60, 64, 67, 0.3), 0px 1px 3px 1px rgba(60, 64, 67, 0.15);\n",
              "      fill: #174EA6;\n",
              "    }\n",
              "\n",
              "    [theme=dark] .colab-df-convert {\n",
              "      background-color: #3B4455;\n",
              "      fill: #D2E3FC;\n",
              "    }\n",
              "\n",
              "    [theme=dark] .colab-df-convert:hover {\n",
              "      background-color: #434B5C;\n",
              "      box-shadow: 0px 1px 3px 1px rgba(0, 0, 0, 0.15);\n",
              "      filter: drop-shadow(0px 1px 2px rgba(0, 0, 0, 0.3));\n",
              "      fill: #FFFFFF;\n",
              "    }\n",
              "  </style>\n",
              "\n",
              "      <script>\n",
              "        const buttonEl =\n",
              "          document.querySelector('#df-433d77f3-441f-4c52-a865-85bac73089ab button.colab-df-convert');\n",
              "        buttonEl.style.display =\n",
              "          google.colab.kernel.accessAllowed ? 'block' : 'none';\n",
              "\n",
              "        async function convertToInteractive(key) {\n",
              "          const element = document.querySelector('#df-433d77f3-441f-4c52-a865-85bac73089ab');\n",
              "          const dataTable =\n",
              "            await google.colab.kernel.invokeFunction('convertToInteractive',\n",
              "                                                     [key], {});\n",
              "          if (!dataTable) return;\n",
              "\n",
              "          const docLinkHtml = 'Like what you see? Visit the ' +\n",
              "            '<a target=\"_blank\" href=https://colab.research.google.com/notebooks/data_table.ipynb>data table notebook</a>'\n",
              "            + ' to learn more about interactive tables.';\n",
              "          element.innerHTML = '';\n",
              "          dataTable['output_type'] = 'display_data';\n",
              "          await google.colab.output.renderOutput(dataTable, element);\n",
              "          const docLink = document.createElement('div');\n",
              "          docLink.innerHTML = docLinkHtml;\n",
              "          element.appendChild(docLink);\n",
              "        }\n",
              "      </script>\n",
              "    </div>\n",
              "  </div>\n",
              "  "
            ],
            "text/plain": [
              "     wavelength  Acceptor     Donar   Overlay  Measured_curve\n",
              "0           300  0.012369  0.016207  0.028575        0.065951\n",
              "1           301  0.009615  0.013877  0.023492        0.060658\n",
              "2           302  0.007313  0.011880  0.019193        0.055508\n",
              "3           303  0.005372  0.010250  0.015622        0.051073\n",
              "4           304  0.003747  0.008353  0.012100        0.047353\n",
              "..          ...       ...       ...       ...             ...\n",
              "496         796 -0.007087  0.000133 -0.006954       -0.001288\n",
              "497         797 -0.007132  0.000133 -0.006999       -0.001288\n",
              "498         798 -0.007177  0.000133 -0.007044       -0.001431\n",
              "499         799 -0.007223  0.000100 -0.007123       -0.001431\n",
              "500         800 -0.007223  0.000100 -0.007123       -0.001431\n",
              "\n",
              "[501 rows x 5 columns]"
            ]
          },
          "metadata": {},
          "execution_count": 541
        }
      ]
    },
    {
      "cell_type": "code",
      "source": [
        "graph_table.to_csv(sample_name+\"_processed.csv\")"
      ],
      "metadata": {
        "id": "IC1R8Pk3YEG9"
      },
      "execution_count": null,
      "outputs": []
    },
    {
      "cell_type": "code",
      "metadata": {
        "colab": {
          "base_uri": "https://localhost:8080/",
          "height": 542
        },
        "id": "16d9yfDtxrcU",
        "outputId": "be101026-7e42-42b3-fe76-fc1263d03899"
      },
      "source": [
        "import plotly.graph_objects as go\n",
        "\n",
        "\n",
        "\n",
        "fig = go.Figure()\n",
        "\n",
        "# Add traces\n",
        "fig.add_trace(go.Scatter(x=concat_table.wavelength, y=concat_table.Donar,\n",
        "                         mode='lines',\n",
        "                         name='Donar'))\n",
        "fig.add_trace(go.Scatter(x=concat_table.wavelength, y=concat_table.Acceptor,\n",
        "                         mode='lines',\n",
        "                         name='Acceptor'))\n",
        "fig.add_trace(go.Scatter(x=concat_table.wavelength, y=concat_table.FRET,\n",
        "                         mode='lines',\n",
        "                         name='FRET'))\n",
        "\n",
        "fig.show()"
      ],
      "execution_count": null,
      "outputs": [
        {
          "output_type": "display_data",
          "data": {
            "text/html": [
              "<html>\n",
              "<head><meta charset=\"utf-8\" /></head>\n",
              "<body>\n",
              "    <div>\n",
              "            <script src=\"https://cdnjs.cloudflare.com/ajax/libs/mathjax/2.7.5/MathJax.js?config=TeX-AMS-MML_SVG\"></script><script type=\"text/javascript\">if (window.MathJax) {MathJax.Hub.Config({SVG: {font: \"STIX-Web\"}});}</script>\n",
              "                <script type=\"text/javascript\">window.PlotlyConfig = {MathJaxConfig: 'local'};</script>\n",
              "        <script src=\"https://cdn.plot.ly/plotly-latest.min.js\"></script>    \n",
              "            <div id=\"f4c30695-1bd3-406a-aab5-741a4f377f6d\" class=\"plotly-graph-div\" style=\"height:525px; width:100%;\"></div>\n",
              "            <script type=\"text/javascript\">\n",
              "                \n",
              "                    window.PLOTLYENV=window.PLOTLYENV || {};\n",
              "                    \n",
              "                if (document.getElementById(\"f4c30695-1bd3-406a-aab5-741a4f377f6d\")) {\n",
              "                    Plotly.newPlot(\n",
              "                        'f4c30695-1bd3-406a-aab5-741a4f377f6d',\n",
              "                        [{\"mode\": \"lines\", \"name\": \"Donar\", \"type\": \"scatter\", \"x\": [300, 301, 302, 303, 304, 305, 306, 307, 308, 309, 310, 311, 312, 313, 314, 315, 316, 317, 318, 319, 320, 321, 322, 323, 324, 325, 326, 327, 328, 329, 330, 331, 332, 333, 334, 335, 336, 337, 338, 339, 340, 341, 342, 343, 344, 345, 346, 347, 348, 349, 350, 351, 352, 353, 354, 355, 356, 357, 358, 359, 360, 361, 362, 363, 364, 365, 366, 367, 368, 369, 370, 371, 372, 373, 374, 375, 376, 377, 378, 379, 380, 381, 382, 383, 384, 385, 386, 387, 388, 389, 390, 391, 392, 393, 394, 395, 396, 397, 398, 399, 400, 401, 402, 403, 404, 405, 406, 407, 408, 409, 410, 411, 412, 413, 414, 415, 416, 417, 418, 419, 420, 421, 422, 423, 424, 425, 426, 427, 428, 429, 430, 431, 432, 433, 434, 435, 436, 437, 438, 439, 440, 441, 442, 443, 444, 445, 446, 447, 448, 449, 450, 451, 452, 453, 454, 455, 456, 457, 458, 459, 460, 461, 462, 463, 464, 465, 466, 467, 468, 469, 470, 471, 472, 473, 474, 475, 476, 477, 478, 479, 480, 481, 482, 483, 484, 485, 486, 487, 488, 489, 490, 491, 492, 493, 494, 495, 496, 497, 498, 499, 500, 501, 502, 503, 504, 505, 506, 507, 508, 509, 510, 511, 512, 513, 514, 515, 516, 517, 518, 519, 520, 521, 522, 523, 524, 525, 526, 527, 528, 529, 530, 531, 532, 533, 534, 535, 536, 537, 538, 539, 540, 541, 542, 543, 544, 545, 546, 547, 548, 549, 550, 551, 552, 553, 554, 555, 556, 557, 558, 559, 560, 561, 562, 563, 564, 565, 566, 567, 568, 569, 570, 571, 572, 573, 574, 575, 576, 577, 578, 579, 580, 581, 582, 583, 584, 585, 586, 587, 588, 589, 590, 591, 592, 593, 594, 595, 596, 597, 598, 599, 600, 601, 602, 603, 604, 605, 606, 607, 608, 609, 610, 611, 612, 613, 614, 615, 616, 617, 618, 619, 620, 621, 622, 623, 624, 625, 626, 627, 628, 629, 630, 631, 632, 633, 634, 635, 636, 637, 638, 639, 640, 641, 642, 643, 644, 645, 646, 647, 648, 649, 650, 651, 652, 653, 654, 655, 656, 657, 658, 659, 660, 661, 662, 663, 664, 665, 666, 667, 668, 669, 670, 671, 672, 673, 674, 675, 676, 677, 678, 679, 680, 681, 682, 683, 684, 685, 686, 687, 688, 689, 690, 691, 692, 693, 694, 695, 696, 697, 698, 699, 700, 701, 702, 703, 704, 705, 706, 707, 708, 709, 710, 711, 712, 713, 714, 715, 716, 717, 718, 719, 720, 721, 722, 723, 724, 725, 726, 727, 728, 729, 730, 731, 732, 733, 734, 735, 736, 737, 738, 739, 740, 741, 742, 743, 744, 745, 746, 747, 748, 749, 750, 751, 752, 753, 754, 755, 756, 757, 758, 759, 760, 761, 762, 763, 764, 765, 766, 767, 768, 769, 770, 771, 772, 773, 774, 775, 776, 777, 778, 779, 780, 781, 782, 783, 784, 785, 786, 787, 788, 789, 790, 791, 792, 793, 794, 795, 796, 797, 798, 799, 800], \"y\": [0.053669825876129604, 0.04595547718756888, 0.03934317831165969, 0.03394313422966718, 0.02766145029755345, 0.02380427595327309, 0.021049151421644256, 0.01928587172140181, 0.018514436852545734, 0.018624641833810886, 0.01994710160899273, 0.021269561384174566, 0.023143046065682172, 0.025677760634780694, 0.028653295128939826, 0.03129821467930351, 0.03526559400484902, 0.03868194842406877, 0.04187789288075821, 0.04606568216883403, 0.04782896186907649, 0.05400044081992506, 0.058078025126735724, 0.06160458452722063, 0.06513114392770554, 0.0689883182719859, 0.07284549261626626, 0.07692307692307693, 0.08078025126735729, 0.08595988538681948, 0.09124972448754684, 0.09631915362574389, 0.10182940268900154, 0.10822129160238042, 0.11351113070310778, 0.11824994489750938, 0.12232752920432004, 0.1245316288296231, 0.1255234736610095, 0.12475203879215341, 0.12210711924178973, 0.11869076482256999, 0.11428256557196385, 0.10910293145250166, 0.10425391227683492, 0.09995591800749394, 0.09499669385056204, 0.09102931452501654, 0.08750275512453162, 0.08419660568657703, 0.08133127617368306, 0.07879656160458452, 0.076261847035486, 0.07427815737271325, 0.07251487767247079, 0.07174344280361473, 0.06744544853427374, 0.06656380868415253, 0.0652413489089707, 0.06413929909631916, 0.06292704430240247, 0.062155609433546394, 0.06061273969583425, 0.05940048490191757, 0.057967820145470576, 0.05631474542649328, 0.05411064580119021, 0.05168613621335684, 0.049592241569318934, 0.047167731981485564, 0.04485342737491735, 0.04231871280581882, 0.04011461318051576, 0.03802071853647785, 0.0364778487987657, 0.03449415913599295, 0.033061494379545954, 0.03184923958562927, 0.030526779810447432, 0.029534934979061057, 0.028432885166409523, 0.027110425391227683, 0.026118580559841304, 0.02457571082212916, 0.023143046065682172, 0.021600176327970025, 0.02005730659025788, 0.018073616927485124, 0.016310337227242674, 0.014326647564469913, 0.01278377782675777, 0.01135111307031078, 0.009808243332598634, 0.008595988538681949, 0.007383733744765264, 0.0066122988759091915, 0.005840864007053119, 0.005289839100727353, 0.004738814194401587, 0.004297994269340974, 0.0037469693630152083, 0.003636764381750055, 0.0034163544192197487, 0.0034163544192197487, 0.0033061494379545957, 0.0031959444566894424, 0.0033061494379545957, 0.0033061494379545957, 0.0034163544192197487, 0.0033061494379545957, 0.0034163544192197487, 0.003526559400484902, 0.003526559400484902, 0.003636764381750055, 0.003636764381750055, 0.004408199250606128, 0.004408199250606128, 0.004518404231871281, 0.004738814194401587, 0.00484901917566674, 0.005069429138197046, 0.005289839100727353, 0.005289839100727353, 0.005400044081992506, 0.005840864007053119, 0.006061273969583425, 0.006281683932113732, 0.006281683932113732, 0.0066122988759091915, 0.006942913819704651, 0.00727352876350011, 0.007714348688560723, 0.007934758651091028, 0.008375578576151642, 0.008706193519947102, 0.009147013445007715, 0.009587833370068327, 0.01002865329512894, 0.010579678201454706, 0.01102049812651532, 0.011791932995371391, 0.012232752920432004, 0.012893982808022923, 0.013665417676878995, 0.014436852545735068, 0.015098082433325987, 0.015979722283447212, 0.01697156711483359, 0.017743001983689662, 0.018845051796341196, 0.01983689662772757, 0.021049151421644256, 0.022371611196826097, 0.023473661009477627, 0.024796120784659467, 0.026118580559841304, 0.02744104033502314, 0.028873705091470137, 0.03041657482918228, 0.031739034604364114, 0.03339210932334142, 0.03504518404231872, 0.03658805378003086, 0.038461538461538464, 0.04011461318051576, 0.042208507824553675, 0.04397178752479612, 0.04595547718756888, 0.048269781794137094, 0.050363676438175006, 0.05289839100727353, 0.0553229005951069, 0.05829843508926604, 0.061053559620894864, 0.0642495040775843, 0.06744544853427374, 0.07119241789728896, 0.07482918227903902, 0.07912717654837999, 0.08331496583645581, 0.08761296010579679, 0.09257218426272869, 0.09742120343839543, 0.10282124752038792, 0.10767026669605466, 0.11340092572184264, 0.11858055984130483, 0.12409080890456249, 0.12927044302402468, 0.13478069208728236, 0.1395195062816839, 0.14469914040114615, 0.1492175446330174, 0.15395635882741898, 0.15814414811549482, 0.16277275732863125, 0.16662993167291162, 0.17125854088604806, 0.1753361251928587, 0.17985452942473001, 0.1843729336566013, 0.1894423627947983, 0.19429138197046508, 0.2001322459775182, 0.20597310998457133, 0.2128058188230108, 0.21985893762398062, 0.2281243112188671, 0.23627947983248845, 0.24630813312761737, 0.256116376460216, 0.2675776945117919, 0.27914921754463307, 0.292814635221512, 0.3057086180295349, 0.32113731540665635, 0.3356843729336566, 0.35177430019836897, 0.3670927925942253, 0.3839541547277937, 0.39872162221732427, 0.41437072955697596, 0.4282565571963853, 0.441701564910734, 0.45393431783116595, 0.4637425611637646, 0.4724487546837117, 0.4787304386158254, 0.48402027771655276, 0.48732642715450736, 0.4894203217985453, 0.4903019616486666, 0.4903019616486666, 0.48975093674234077, 0.48897950187348466, 0.4884284769671589, 0.4882080670046286, 0.4886488869296893, 0.48975093674234077, 0.49228565131143925, 0.4958122107119242, 0.5008816398501212, 0.5068327088384394, 0.515098082433326, 0.5247961207846595, 0.5351553890235838, 0.5486003967379326, 0.5619351994710161, 0.5781353317169936, 0.5951068988318272, 0.6150540004408199, 0.6365439717875249, 0.6585849680405554, 0.6837117037690104, 0.7057527000220409, 0.7215120123429578, 0.7696715891558299, 0.7974432444346485, 0.829512893982808, 0.8579457791492175, 0.8880317390346043, 0.9167952391448093, 0.9397178752479612, 0.959664976856954, 0.9754242891778708, 0.9894203217985453, 0.9976856953934318, 1.0, 0.994930570861803, 0.9842406876790831, 0.9653956358827419, 0.9396076702666961, 0.9108441701564911, 0.8726030416574829, 0.8337006832708838, 0.7882962309896407, 0.7382631694952613, 0.6916464624201014, 0.6408419660568658, 0.5883843949746529, 0.541767687899493, 0.4932774961428257, 0.4451179193299537, 0.4042318712805819, 0.36323561824994494, 0.3270883843949747, 0.2906105355962089, 0.25821027110425393, 0.23010800088163988, 0.20266696054661673, 0.1787524796120785, 0.15836455807802513, 0.1384174564690324, 0.1212254793916685, 0.10678862684593343, 0.0930130041877893, 0.08111086621115274, 0.0710822129160238, 0.061494379545955484, 0.0534494159135993, 0.04672691205642495, 0.040335023143046066, 0.034934979061053556, 0.030306369847917125, 0.026118580559841304, 0.022592021159356403, 0.019616486665197268, 0.016861362133568435, 0.014436852545735068, 0.012563367864227465, 0.010800088163985012, 0.009257218426272867, 0.007934758651091028, 0.006832708838439497, 0.005951068988318272, 0.0051796341194622, 0.0046286092131364335, 0.0040775843068106684, 0.003636764381750055, 0.0033061494379545957, 0.002975534494159136, 0.00275512453162883, 0.002534714569098523, 0.0023143046065682168, 0.002204099625303064, 0.001983689662772757, 0.0018734846815076042, 0.001763279700242451, 0.0015428697377121445, 0.0014326647564469914, 0.001212254793916685, 0.0009918448313863786, 0.0007714348688560723, 0.000551024906325766, 0.00044081992506061276, 0.00022040996253030638, 0.00011020498126515319, -0.00011020498126515319, -0.00022040996253030638, -0.00033061494379545955, -0.00044081992506061276, -0.000551024906325766, -0.0007714348688560723, -0.0007714348688560723, -0.0008816398501212255, -0.0009918448313863786, -0.0009918448313863786, -0.001102049812651532, -0.001212254793916685, -0.001212254793916685, -0.001212254793916685, -0.001212254793916685, -0.001212254793916685, -0.001212254793916685, -0.001212254793916685, -0.001212254793916685, -0.001212254793916685, -0.001212254793916685, -0.001212254793916685, -0.001212254793916685, -0.001212254793916685, -0.0013224597751818382, -0.0013224597751818382, -0.0013224597751818382, -0.0013224597751818382, -0.001212254793916685, -0.001212254793916685, -0.001102049812651532, -0.001102049812651532, -0.001102049812651532, -0.001102049812651532, -0.001102049812651532, -0.001212254793916685, -0.001212254793916685, -0.001212254793916685, -0.001212254793916685, -0.001212254793916685, -0.001212254793916685, -0.001212254793916685, -0.001212254793916685, -0.0013224597751818382, -0.0013224597751818382, -0.0013224597751818382, -0.0014326647564469914, -0.0014326647564469914, -0.0013224597751818382, -0.0013224597751818382, -0.0013224597751818382, -0.0013224597751818382, -0.0013224597751818382, -0.0013224597751818382, -0.0013224597751818382, -0.0013224597751818382, -0.0013224597751818382, -0.0013224597751818382, -0.0013224597751818382, -0.001212254793916685, -0.001212254793916685, -0.0013224597751818382, -0.001212254793916685, -0.001102049812651532, -0.001102049812651532, -0.001102049812651532, -0.001102049812651532, -0.0009918448313863786, -0.0009918448313863786, -0.0008816398501212255, -0.0009918448313863786, -0.0009918448313863786, -0.0008816398501212255, -0.0007714348688560723, -0.0007714348688560723, -0.0008816398501212255, -0.0007714348688560723, -0.0007714348688560723, -0.0008816398501212255, -0.0007714348688560723, -0.0007714348688560723, -0.0007714348688560723, -0.0007714348688560723, -0.0007714348688560723, -0.0007714348688560723, -0.0007714348688560723, -0.0007714348688560723, -0.0007714348688560723, -0.0007714348688560723, -0.0007714348688560723, -0.0007714348688560723, -0.0008816398501212255, -0.0008816398501212255, -0.0008816398501212255, -0.0008816398501212255, -0.0008816398501212255, -0.0008816398501212255, -0.0008816398501212255, -0.00242450958783337, -0.00242450958783337, -0.00242450958783337, -0.00242450958783337, -0.00242450958783337, -0.002534714569098523, -0.00242450958783337, -0.0023143046065682168, -0.0023143046065682168, -0.0023143046065682168, -0.00242450958783337, -0.0023143046065682168, -0.002204099625303064, -0.002204099625303064, -0.0020938946440379105, -0.0020938946440379105, -0.0018734846815076042, -0.001763279700242451, -0.001763279700242451, -0.0016530747189772979, -0.0015428697377121445, -0.0013224597751818382, -0.001212254793916685, -0.001102049812651532, -0.0009918448313863786, -0.0007714348688560723, -0.000551024906325766, -0.000551024906325766, -0.00044081992506061276, -0.00033061494379545955, -0.00022040996253030638, -0.00022040996253030638, -0.00011020498126515319, 0.0, 0.00011020498126515319, 0.00022040996253030638, 0.00022040996253030638, 0.00022040996253030638, 0.00022040996253030638, 0.00033061494379545955, 0.00022040996253030638, 0.00022040996253030638, 0.00033061494379545955, 0.00033061494379545955, 0.00033061494379545955, 0.00033061494379545955, 0.00033061494379545955, 0.00022040996253030638, 0.00033061494379545955, 0.00022040996253030638, 0.00033061494379545955, 0.00022040996253030638, 0.00033061494379545955, 0.00033061494379545955, 0.00033061494379545955, 0.00022040996253030638, 0.00033061494379545955, 0.00033061494379545955, 0.00033061494379545955, 0.00033061494379545955, 0.00033061494379545955, 0.00044081992506061276, 0.00044081992506061276, 0.00044081992506061276, 0.00033061494379545955, 0.00033061494379545955]}, {\"mode\": \"lines\", \"name\": \"Acceptor\", \"type\": \"scatter\", \"x\": [300, 301, 302, 303, 304, 305, 306, 307, 308, 309, 310, 311, 312, 313, 314, 315, 316, 317, 318, 319, 320, 321, 322, 323, 324, 325, 326, 327, 328, 329, 330, 331, 332, 333, 334, 335, 336, 337, 338, 339, 340, 341, 342, 343, 344, 345, 346, 347, 348, 349, 350, 351, 352, 353, 354, 355, 356, 357, 358, 359, 360, 361, 362, 363, 364, 365, 366, 367, 368, 369, 370, 371, 372, 373, 374, 375, 376, 377, 378, 379, 380, 381, 382, 383, 384, 385, 386, 387, 388, 389, 390, 391, 392, 393, 394, 395, 396, 397, 398, 399, 400, 401, 402, 403, 404, 405, 406, 407, 408, 409, 410, 411, 412, 413, 414, 415, 416, 417, 418, 419, 420, 421, 422, 423, 424, 425, 426, 427, 428, 429, 430, 431, 432, 433, 434, 435, 436, 437, 438, 439, 440, 441, 442, 443, 444, 445, 446, 447, 448, 449, 450, 451, 452, 453, 454, 455, 456, 457, 458, 459, 460, 461, 462, 463, 464, 465, 466, 467, 468, 469, 470, 471, 472, 473, 474, 475, 476, 477, 478, 479, 480, 481, 482, 483, 484, 485, 486, 487, 488, 489, 490, 491, 492, 493, 494, 495, 496, 497, 498, 499, 500, 501, 502, 503, 504, 505, 506, 507, 508, 509, 510, 511, 512, 513, 514, 515, 516, 517, 518, 519, 520, 521, 522, 523, 524, 525, 526, 527, 528, 529, 530, 531, 532, 533, 534, 535, 536, 537, 538, 539, 540, 541, 542, 543, 544, 545, 546, 547, 548, 549, 550, 551, 552, 553, 554, 555, 556, 557, 558, 559, 560, 561, 562, 563, 564, 565, 566, 567, 568, 569, 570, 571, 572, 573, 574, 575, 576, 577, 578, 579, 580, 581, 582, 583, 584, 585, 586, 587, 588, 589, 590, 591, 592, 593, 594, 595, 596, 597, 598, 599, 600, 601, 602, 603, 604, 605, 606, 607, 608, 609, 610, 611, 612, 613, 614, 615, 616, 617, 618, 619, 620, 621, 622, 623, 624, 625, 626, 627, 628, 629, 630, 631, 632, 633, 634, 635, 636, 637, 638, 639, 640, 641, 642, 643, 644, 645, 646, 647, 648, 649, 650, 651, 652, 653, 654, 655, 656, 657, 658, 659, 660, 661, 662, 663, 664, 665, 666, 667, 668, 669, 670, 671, 672, 673, 674, 675, 676, 677, 678, 679, 680, 681, 682, 683, 684, 685, 686, 687, 688, 689, 690, 691, 692, 693, 694, 695, 696, 697, 698, 699, 700, 701, 702, 703, 704, 705, 706, 707, 708, 709, 710, 711, 712, 713, 714, 715, 716, 717, 718, 719, 720, 721, 722, 723, 724, 725, 726, 727, 728, 729, 730, 731, 732, 733, 734, 735, 736, 737, 738, 739, 740, 741, 742, 743, 744, 745, 746, 747, 748, 749, 750, 751, 752, 753, 754, 755, 756, 757, 758, 759, 760, 761, 762, 763, 764, 765, 766, 767, 768, 769, 770, 771, 772, 773, 774, 775, 776, 777, 778, 779, 780, 781, 782, 783, 784, 785, 786, 787, 788, 789, 790, 791, 792, 793, 794, 795, 796, 797, 798, 799, 800], \"y\": [0.03712737127371274, 0.02886178861788618, 0.02195121951219512, 0.01612466124661247, 0.011246612466124661, 0.007317073170731708, 0.004471544715447155, 0.0028455284552845526, 0.001084010840108401, -0.00040650406504065035, -0.0014905149051490517, -0.0027100271002710027, -0.0029810298102981034, -0.003658536585365854, -0.003929539295392954, -0.005013550135501355, -0.005284552845528455, -0.005962059620596207, -0.007317073170731708, -0.008807588075880758, -0.009485094850948509, -0.012601626016260161, -0.014634146341463415, -0.015989159891598916, -0.017208672086720868, -0.018292682926829267, -0.01937669376693767, -0.02018970189701897, -0.02086720867208672, -0.02100271002710027, -0.022357723577235773, -0.02262872628726287, -0.023170731707317073, -0.023441734417344172, -0.023983739837398373, -0.024796747967479677, -0.025474254742547428, -0.025745257452574527, -0.026558265582655827, -0.026558265582655827, -0.027506775067750677, -0.02777777777777778, -0.028319783197831978, -0.02899728997289973, -0.02926829268292683, -0.029132791327913278, -0.02953929539295393, -0.02981029810298103, -0.03021680216802168, -0.03048780487804878, -0.03021680216802168, -0.03035230352303523, -0.030758807588075882, -0.03048780487804878, -0.03048780487804878, -0.03048780487804878, -0.02940379403794038, -0.02953929539295393, -0.02981029810298103, -0.02926829268292683, -0.02872628726287263, -0.02872628726287263, -0.028184281842818428, -0.028319783197831978, -0.02764227642276423, -0.02710027100271003, -0.026693766937669377, -0.026422764227642278, -0.026016260162601623, -0.026016260162601623, -0.02615176151761518, -0.025880758807588077, -0.025203252032520322, -0.024932249322493223, -0.024525745257452578, -0.024254742547425472, -0.02357723577235772, -0.02276422764227642, -0.022493224932249322, -0.022493224932249322, -0.022222222222222223, -0.02181571815718157, -0.021544715447154472, -0.02113821138211382, -0.02086720867208672, -0.02032520325203252, -0.01951219512195122, -0.019105691056910568, -0.01951219512195122, -0.019105691056910568, -0.01788617886178862, -0.016802168021680216, -0.017208672086720868, -0.017344173441734417, -0.017208672086720868, -0.016260162601626018, -0.014905149051490514, -0.014363143631436315, -0.014634146341463415, -0.014634146341463415, -0.014227642276422765, -0.013414634146341465, -0.012601626016260161, -0.01138211382113821, -0.01056910569105691, -0.01043360433604336, -0.009485094850948509, -0.008130081300813009, -0.007046070460704607, -0.005826558265582656, -0.004471544715447155, -0.0029810298102981034, -0.0016260162601626014, -0.0006775067750677507, 0.0, 0.001084010840108401, 0.0027100271002710027, 0.005149051490514906, 0.007317073170731708, 0.00934959349593496, 0.01178861788617886, 0.014227642276422765, 0.017208672086720868, 0.02005420054200542, 0.023306233062330622, 0.02696476964769648, 0.03048780487804878, 0.034417344173441736, 0.03848238482384824, 0.042682926829268296, 0.047696476964769655, 0.0524390243902439, 0.05772357723577236, 0.06300813008130081, 0.06829268292682927, 0.07425474254742548, 0.08021680216802168, 0.08699186991869919, 0.09322493224932249, 0.09972899728997289, 0.10731707317073172, 0.11422764227642276, 0.12235772357723577, 0.13008130081300814, 0.13902439024390242, 0.14769647696476965, 0.15691056910569107, 0.16707317073170733, 0.1775067750677507, 0.1894308943089431, 0.20067750677506777, 0.21260162601626018, 0.22655826558265582, 0.23956639566395665, 0.2548780487804878, 0.2693766937669377, 0.2853658536585366, 0.30121951219512194, 0.3188346883468835, 0.3346883468834688, 0.3509485094850949, 0.3693766937669377, 0.3856368563685637, 0.40338753387533877, 0.41964769647696476, 0.4361788617886179, 0.4504065040650406, 0.4644986449864499, 0.4785907859078591, 0.490650406504065, 0.5033875338753387, 0.5142276422764228, 0.5254742547425474, 0.5356368563685636, 0.547289972899729, 0.557859078590786, 0.5710027100271002, 0.583739837398374, 0.5989159891598916, 0.6150406504065041, 0.632249322493225, 0.6529810298102982, 0.674119241192412, 0.6987804878048781, 0.7222222222222223, 0.7501355013550135, 0.7764227642276422, 0.8051490514905149, 0.8325203252032519, 0.862059620596206, 0.8878048780487805, 0.9157181571815718, 0.9387533875338753, 0.9608401084010839, 0.9779132791327914, 0.9917344173441734, 0.9983739837398374, 1.0, 0.9937669376693767, 0.9795392953929539, 0.958130081300813, 0.9261517615176151, 0.8892953929539296, 0.8397018970189702, 0.7880758807588076, 0.7257452574525745, 0.6631436314363144, 0.5911924119241193, 0.525609756097561, 0.4521680216802168, 0.387669376693767, 0.3223577235772358, 0.26626016260162605, 0.21138211382113822, 0.16883468834688348, 0.12764227642276424, 0.09620596205962059, 0.06856368563685637, 0.047696476964769655, 0.02899728997289973, 0.015853658536585366, 0.004471544715447155, -0.003929539295392954, -0.01097560975609756, -0.016395663956639567, -0.020460704607046073, -0.023848238482384827, -0.02628726287262873, -0.02845528455284553, -0.029945799457994582, -0.031300813008130084, -0.032384823848238486, -0.03319783197831978, -0.03387533875338754, -0.034417344173441736, -0.034959349593495934, -0.03509485094850948, -0.03550135501355014, -0.03577235772357724, -0.03577235772357724, -0.036043360433604336, -0.036178861788617886, -0.036314363143631435, -0.036449864498644985, -0.036449864498644985, -0.036449864498644985, -0.036585365853658534, -0.036585365853658534, -0.036449864498644985, -0.036449864498644985, -0.036449864498644985, -0.036449864498644985, -0.036449864498644985, -0.036449864498644985, -0.036449864498644985, -0.036449864498644985, -0.03550135501355014, -0.03563685636856369, -0.03563685636856369, -0.03577235772357724, -0.03590785907859079, -0.03590785907859079, -0.03590785907859079, -0.03590785907859079, -0.03590785907859079, -0.03590785907859079, -0.03590785907859079, -0.03590785907859079, -0.03590785907859079, -0.03590785907859079, -0.03590785907859079, -0.03590785907859079, -0.03590785907859079, -0.03577235772357724, -0.03577235772357724, -0.03577235772357724, -0.03577235772357724, -0.03563685636856369, -0.03563685636856369, -0.03563685636856369, -0.03563685636856369, -0.03550135501355014, -0.03550135501355014, -0.03536585365853659, -0.03550135501355014, -0.03536585365853659, -0.03536585365853659, -0.03536585365853659, -0.03523035230352303, -0.03523035230352303, -0.03523035230352303, -0.03509485094850948, -0.03509485094850948, -0.034959349593495934, -0.034959349593495934, -0.034959349593495934, -0.034823848238482384, -0.034823848238482384, -0.034688346883468835, -0.034552845528455285, -0.034552845528455285, -0.034552845528455285, -0.034417344173441736, -0.034417344173441736, -0.034417344173441736, -0.034417344173441736, -0.034417344173441736, -0.034417344173441736, -0.034417344173441736, -0.034281842818428186, -0.034417344173441736, -0.034417344173441736, -0.034417344173441736, -0.034417344173441736, -0.034417344173441736, -0.034417344173441736, -0.034281842818428186, -0.034281842818428186, -0.034281842818428186, -0.034281842818428186, -0.034281842818428186, -0.034281842818428186, -0.034281842818428186, -0.034281842818428186, -0.034281842818428186, -0.03414634146341464, -0.03414634146341464, -0.03414634146341464, -0.03414634146341464, -0.03414634146341464, -0.03414634146341464, -0.03414634146341464, -0.03414634146341464, -0.03401084010840109, -0.03401084010840109, -0.03401084010840109, -0.03401084010840109, -0.03387533875338754, -0.03387533875338754, -0.03401084010840109, -0.03387533875338754, -0.03387533875338754, -0.03387533875338754, -0.03387533875338754, -0.03387533875338754, -0.03387533875338754, -0.03387533875338754, -0.03387533875338754, -0.03373983739837398, -0.03373983739837398, -0.03373983739837398, -0.03373983739837398, -0.03360433604336043, -0.03373983739837398, -0.03360433604336043, -0.03346883468834688, -0.03346883468834688, -0.03346883468834688, -0.03346883468834688, -0.03346883468834688, -0.03346883468834688, -0.03346883468834688, -0.03333333333333333, -0.03333333333333333, -0.03346883468834688, -0.03346883468834688, -0.03333333333333333, -0.03346883468834688, -0.03346883468834688, -0.03333333333333333, -0.03333333333333333, -0.03333333333333333, -0.03346883468834688, -0.03346883468834688, -0.03346883468834688, -0.03346883468834688, -0.03333333333333333, -0.03333333333333333, -0.03333333333333333, -0.03333333333333333, -0.03346883468834688, -0.03346883468834688, -0.03333333333333333, -0.03333333333333333, -0.03333333333333333, -0.03319783197831978, -0.03319783197831978, -0.03319783197831978, -0.03319783197831978, -0.03319783197831978, -0.033062330623306234, -0.032926829268292684, -0.032926829268292684, -0.032926829268292684, -0.032791327913279135, -0.032791327913279135, -0.032655826558265585, -0.032520325203252036, -0.032520325203252036, -0.032384823848238486, -0.03224932249322494, -0.03211382113821138, -0.03211382113821138, -0.03197831978319783, -0.03184281842818428, -0.03184281842818428, -0.03170731707317073, -0.03143631436314363, -0.03143631436314363, -0.03116531165311653, -0.03116531165311653, -0.030894308943089432, -0.03062330623306233, -0.03048780487804878, -0.03021680216802168, -0.03008130081300813, -0.02981029810298103, -0.02953929539295393, -0.02926829268292683, -0.02899728997289973, -0.02872628726287263, -0.02845528455284553, -0.028184281842818428, -0.02791327913279133, -0.02764227642276423, -0.02723577235772358, -0.02682926829268293, -0.02628726287262873, -0.025745257452574527, -0.025203252032520322, -0.024661246612466128, -0.024119241192411923, -0.02357723577235772, -0.023170731707317073, -0.02289972899728997, -0.01788617886178862, -0.017615176151761516, -0.017479674796747967, -0.017479674796747967, -0.017208672086720868, -0.017208672086720868, -0.017208672086720868, -0.017208672086720868, -0.017208672086720868, -0.017208672086720868, -0.017208672086720868, -0.017208672086720868, -0.017208672086720868, -0.017344173441734417, -0.017208672086720868, -0.017208672086720868, -0.017208672086720868, -0.017344173441734417, -0.017344173441734417, -0.017344173441734417, -0.017344173441734417, -0.017208672086720868, -0.017344173441734417, -0.017344173441734417, -0.017479674796747967, -0.017479674796747967, -0.017479674796747967, -0.017479674796747967, -0.017479674796747967, -0.017479674796747967, -0.017615176151761516, -0.017615176151761516, -0.01775067750677507, -0.01775067750677507, -0.01775067750677507, -0.01788617886178862, -0.018021680216802168, -0.018021680216802168, -0.018157181571815718, -0.018292682926829267, -0.018292682926829267, -0.018428184281842817, -0.01856368563685637, -0.01869918699186992, -0.01883468834688347, -0.018970189701897018, -0.019105691056910568, -0.019105691056910568, -0.01937669376693767, -0.01951219512195122, -0.019647696476964772, -0.019647696476964772, -0.019918699186991868, -0.02005420054200542, -0.02018970189701897, -0.02032520325203252, -0.020596205962059622, -0.020731707317073172, -0.020731707317073172, -0.02086720867208672, -0.02113821138211382, -0.02127371273712737, -0.021409214092140923, -0.021544715447154472, -0.02168021680216802, -0.02168021680216802]}, {\"mode\": \"lines\", \"name\": \"FRET\", \"type\": \"scatter\", \"x\": [300, 301, 302, 303, 304, 305, 306, 307, 308, 309, 310, 311, 312, 313, 314, 315, 316, 317, 318, 319, 320, 321, 322, 323, 324, 325, 326, 327, 328, 329, 330, 331, 332, 333, 334, 335, 336, 337, 338, 339, 340, 341, 342, 343, 344, 345, 346, 347, 348, 349, 350, 351, 352, 353, 354, 355, 356, 357, 358, 359, 360, 361, 362, 363, 364, 365, 366, 367, 368, 369, 370, 371, 372, 373, 374, 375, 376, 377, 378, 379, 380, 381, 382, 383, 384, 385, 386, 387, 388, 389, 390, 391, 392, 393, 394, 395, 396, 397, 398, 399, 400, 401, 402, 403, 404, 405, 406, 407, 408, 409, 410, 411, 412, 413, 414, 415, 416, 417, 418, 419, 420, 421, 422, 423, 424, 425, 426, 427, 428, 429, 430, 431, 432, 433, 434, 435, 436, 437, 438, 439, 440, 441, 442, 443, 444, 445, 446, 447, 448, 449, 450, 451, 452, 453, 454, 455, 456, 457, 458, 459, 460, 461, 462, 463, 464, 465, 466, 467, 468, 469, 470, 471, 472, 473, 474, 475, 476, 477, 478, 479, 480, 481, 482, 483, 484, 485, 486, 487, 488, 489, 490, 491, 492, 493, 494, 495, 496, 497, 498, 499, 500, 501, 502, 503, 504, 505, 506, 507, 508, 509, 510, 511, 512, 513, 514, 515, 516, 517, 518, 519, 520, 521, 522, 523, 524, 525, 526, 527, 528, 529, 530, 531, 532, 533, 534, 535, 536, 537, 538, 539, 540, 541, 542, 543, 544, 545, 546, 547, 548, 549, 550, 551, 552, 553, 554, 555, 556, 557, 558, 559, 560, 561, 562, 563, 564, 565, 566, 567, 568, 569, 570, 571, 572, 573, 574, 575, 576, 577, 578, 579, 580, 581, 582, 583, 584, 585, 586, 587, 588, 589, 590, 591, 592, 593, 594, 595, 596, 597, 598, 599, 600, 601, 602, 603, 604, 605, 606, 607, 608, 609, 610, 611, 612, 613, 614, 615, 616, 617, 618, 619, 620, 621, 622, 623, 624, 625, 626, 627, 628, 629, 630, 631, 632, 633, 634, 635, 636, 637, 638, 639, 640, 641, 642, 643, 644, 645, 646, 647, 648, 649, 650, 651, 652, 653, 654, 655, 656, 657, 658, 659, 660, 661, 662, 663, 664, 665, 666, 667, 668, 669, 670, 671, 672, 673, 674, 675, 676, 677, 678, 679, 680, 681, 682, 683, 684, 685, 686, 687, 688, 689, 690, 691, 692, 693, 694, 695, 696, 697, 698, 699, 700, 701, 702, 703, 704, 705, 706, 707, 708, 709, 710, 711, 712, 713, 714, 715, 716, 717, 718, 719, 720, 721, 722, 723, 724, 725, 726, 727, 728, 729, 730, 731, 732, 733, 734, 735, 736, 737, 738, 739, 740, 741, 742, 743, 744, 745, 746, 747, 748, 749, 750, 751, 752, 753, 754, 755, 756, 757, 758, 759, 760, 761, 762, 763, 764, 765, 766, 767, 768, 769, 770, 771, 772, 773, 774, 775, 776, 777, 778, 779, 780, 781, 782, 783, 784, 785, 786, 787, 788, 789, 790, 791, 792, 793, 794, 795, 796, 797, 798, 799, 800], \"y\": [0.0659513590844063, 0.060658082975679546, 0.05550786838340487, 0.05107296137339056, 0.04735336194563662, 0.04449213161659514, 0.04277539341917024, 0.04077253218884121, 0.03977110157367668, 0.03891273247496423, 0.03891273247496423, 0.03819742489270387, 0.03834048640915594, 0.03862660944206009, 0.039055793991416315, 0.039055793991416315, 0.03934191702432046, 0.03962804005722461, 0.04005722460658084, 0.040486409155937056, 0.04034334763948498, 0.040200286123032905, 0.040486409155937056, 0.040486409155937056, 0.04062947067238913, 0.04077253218884121, 0.04148783977110158, 0.041917024320457796, 0.04220314735336195, 0.04306151645207439, 0.04349070100143062, 0.04477825464949929, 0.04592274678111588, 0.04692417739628041, 0.04792560801144493, 0.0486409155937053, 0.048927038626609444, 0.049213161659513595, 0.048927038626609444, 0.048497854077253225, 0.04706723891273248, 0.04592274678111588, 0.04477825464949929, 0.042632331902718174, 0.04105865522174535, 0.039484978540772535, 0.03791130185979971, 0.03676680972818312, 0.035622317596566526, 0.03476394849785408, 0.034191702432045785, 0.032904148783977114, 0.032474964234620894, 0.03175965665236052, 0.03175965665236052, 0.03133047210300429, 0.03090128755364807, 0.03090128755364807, 0.030758226037195992, 0.03061516452074392, 0.0301859799713877, 0.029899856938483547, 0.030042918454935626, 0.02889842632331903, 0.02918454935622318, 0.028469241773962806, 0.02804005722460658, 0.02804005722460658, 0.027181688125894134, 0.026609442060085836, 0.02603719599427754, 0.025608011444921315, 0.025035765379113024, 0.024463519313304722, 0.02417739628040057, 0.0240343347639485, 0.023748211731044352, 0.023462088698140204, 0.02317596566523605, 0.02317596566523605, 0.022889842632331906, 0.022889842632331906, 0.02260371959942776, 0.022317596566523604, 0.02188841201716738, 0.02174535050071531, 0.02145922746781116, 0.021030042918454936, 0.020600858369098713, 0.020314735336194566, 0.019742489270386267, 0.019599427753934192, 0.019313304721030045, 0.018884120171673822, 0.018741058655221746, 0.01859799713876967, 0.018311874105865523, 0.018311874105865523, 0.018311874105865523, 0.018311874105865523, 0.018311874105865523, 0.018311874105865523, 0.0184549356223176, 0.018311874105865523, 0.01859799713876967, 0.0184549356223176, 0.01859799713876967, 0.018884120171673822, 0.019027181688125894, 0.019313304721030045, 0.019599427753934192, 0.019742489270386267, 0.02002861230329042, 0.02017167381974249, 0.020314735336194566, 0.021602288984263234, 0.022031473533619457, 0.02246065808297568, 0.022889842632331906, 0.023462088698140204, 0.0240343347639485, 0.025035765379113024, 0.025464949928469243, 0.026466380543633764, 0.02732474964234621, 0.028326180257510734, 0.029470672389127327, 0.030758226037195992, 0.03190271816881259, 0.03333333333333334, 0.034620886981402005, 0.03619456366237482, 0.03791130185979971, 0.03962804005722461, 0.041201716738197426, 0.04320457796852647, 0.04520743919885552, 0.04721030042918455, 0.049213161659513595, 0.05135908440629471, 0.054077253218884125, 0.05636623748211731, 0.05908440629470673, 0.06180257510729614, 0.0648068669527897, 0.06781115879828327, 0.07067238912732475, 0.07439198855507868, 0.07782546494992847, 0.08197424892703863, 0.08569384835479257, 0.08984263233190272, 0.0945636623748212, 0.09914163090128757, 0.1044349070100143, 0.10944206008583691, 0.11487839771101574, 0.12031473533619456, 0.1263233190271817, 0.13175965665236053, 0.13733905579399142, 0.14377682403433478, 0.1493562231759657, 0.15550786838340488, 0.1609442060085837, 0.16666666666666669, 0.17181688125894135, 0.17682403433476396, 0.18183118741058654, 0.18612303290414878, 0.1907010014306152, 0.19484978540772532, 0.19928469241773966, 0.20329041487839772, 0.20772532188841203, 0.2118741058655222, 0.21716738197424892, 0.22231759656652364, 0.22832618025751072, 0.23462088698140202, 0.2414878397711016, 0.24949928469241775, 0.2575107296137339, 0.2670958512160229, 0.2759656652360515, 0.28640915593705296, 0.296137339055794, 0.30701001430615166, 0.317167381974249, 0.3280400572246066, 0.33748211731044353, 0.3476394849785408, 0.3560801144492132, 0.36423462088698144, 0.3705293276108727, 0.3759656652360515, 0.3791130185979972, 0.3804005722460659, 0.3792560801144492, 0.3755364806866953, 0.36952789699570815, 0.36037195994277543, 0.34964234620886986, 0.3351931330472103, 0.32002861230329044, 0.301859799713877, 0.28354792560801145, 0.26280400572246065, 0.24391988555078686, 0.2233190271816881, 0.2055793991416309, 0.18783977110157368, 0.17339055793991417, 0.1597997138769671, 0.14992846924177397, 0.14120171673819742, 0.13562231759656654, 0.13147353361945638, 0.1291845493562232, 0.1280400572246066, 0.12818311874105867, 0.12904148783977112, 0.1301859799713877, 0.13175965665236053, 0.1334763948497854, 0.13490701001430616, 0.1363376251788269, 0.13733905579399142, 0.13819742489270387, 0.13848354792560802, 0.1386266094420601, 0.1386266094420601, 0.13819742489270387, 0.13791130185979972, 0.13748211731044352, 0.13705293276108726, 0.1369098712446352, 0.1369098712446352, 0.13719599427753934, 0.13776824034334764, 0.1386266094420601, 0.13991416309012877, 0.14148783977110158, 0.14377682403433478, 0.1463519313304721, 0.1492131616595136, 0.15278969957081548, 0.15650929899856938, 0.16080114449213162, 0.165379113018598, 0.1709585121602289, 0.17696709585121603, 0.18297567954220317, 0.18984263233190274, 0.196137339055794, 0.2002861230329042, 0.21373390557939917, 0.22160228898426326, 0.23061516452074396, 0.2386266094420601, 0.24706723891273247, 0.2555078683834049, 0.26223175965665235, 0.26852646638054367, 0.2735336194563663, 0.2778254649499285, 0.28025751072961375, 0.2809728183118741, 0.27968526466380544, 0.276824034334764, 0.2715307582260372, 0.2642346208869814, 0.25622317596566524, 0.24535050071530762, 0.23433476394849787, 0.22145922746781116, 0.20743919885550788, 0.19427753934191705, 0.17982832618025754, 0.16509298998569386, 0.15193133047210303, 0.13834048640915594, 0.12489270386266095, 0.113447782546495, 0.10200286123032905, 0.09184549356223176, 0.08154506437768241, 0.07253218884120173, 0.0648068669527897, 0.05693848354792561, 0.05035765379113019, 0.04463519313304721, 0.039198855507868384, 0.034334763948497854, 0.030329041487839773, 0.026466380543633764, 0.02317596566523605, 0.020314735336194566, 0.017739628040057225, 0.01559370529327611, 0.013733905579399141, 0.011874105865522176, 0.010300429184549357, 0.009155937052932762, 0.008011444921316167, 0.007010014306151645, 0.006151645207439199, 0.005436337625178827, 0.004864091559370529, 0.004291845493562232, 0.003862660944206009, 0.0034334763948497852, 0.0030042918454935624, 0.0027181688125894137, 0.0024320457796852646, 0.002145922746781116, 0.0020028612303290417, 0.0018597997138769672, 0.0015736766809728185, 0.0015736766809728185, 0.0014306151645207441, 0.0012875536480686696, 0.0012875536480686696, 0.0011444921316165952, 0.0010014306151645209, 0.0010014306151645209, 0.0010014306151645209, 0.0008583690987124463, 0.0008583690987124463, 0.0008583690987124463, 0.0007153075822603721, 0.0007153075822603721, 0.0007153075822603721, 0.0007153075822603721, 0.0007153075822603721, 0.0007153075822603721, 0.0005722460658082976, 0.0005722460658082976, 0.0005722460658082976, 0.0005722460658082976, 0.0005722460658082976, 0.0005722460658082976, 0.0005722460658082976, 0.0005722460658082976, 0.0005722460658082976, 0.00042918454935622315, 0.00042918454935622315, 0.00042918454935622315, 0.0005722460658082976, 0.00042918454935622315, 0.0005722460658082976, 0.00042918454935622315, 0.00042918454935622315, 0.00042918454935622315, 0.00042918454935622315, 0.00042918454935622315, 0.00042918454935622315, 0.00042918454935622315, 0.00042918454935622315, 0.00042918454935622315, 0.0002861230329041488, 0.00042918454935622315, 0.00042918454935622315, 0.00042918454935622315, 0.0002861230329041488, 0.0002861230329041488, 0.0002861230329041488, 0.0002861230329041488, 0.0002861230329041488, 0.00042918454935622315, 0.00042918454935622315, 0.00042918454935622315, 0.0002861230329041488, 0.0002861230329041488, 0.0002861230329041488, 0.0002861230329041488, 0.00042918454935622315, 0.0002861230329041488, 0.0002861230329041488, 0.0002861230329041488, 0.0002861230329041488, 0.0002861230329041488, 0.0002861230329041488, 0.0002861230329041488, 0.0002861230329041488, 0.0002861230329041488, 0.0002861230329041488, 0.0002861230329041488, 0.0002861230329041488, 0.0002861230329041488, 0.0002861230329041488, 0.0002861230329041488, 0.0002861230329041488, 0.0002861230329041488, 0.0001430615164520744, 0.0001430615164520744, 0.0001430615164520744, 0.0002861230329041488, 0.0001430615164520744, 0.0001430615164520744, 0.0001430615164520744, 0.0001430615164520744, 0.0001430615164520744, 0.0001430615164520744, 0.0001430615164520744, 0.0, 0.0001430615164520744, 0.0001430615164520744, 0.0001430615164520744, 0.0, 0.0, 0.0, 0.0, 0.0, 0.0, -0.0001430615164520744, -0.0001430615164520744, -0.0001430615164520744, -0.0001430615164520744, -0.0001430615164520744, -0.0002861230329041488, -0.0002861230329041488, -0.0002861230329041488, -0.0002861230329041488, -0.0002861230329041488, -0.0002861230329041488, -0.00042918454935622315, -0.00042918454935622315, -0.00042918454935622315, -0.00042918454935622315, -0.0005722460658082976, -0.0007153075822603721, -0.0005722460658082976, -0.0007153075822603721, -0.0007153075822603721, -0.0020028612303290417, -0.0020028612303290417, -0.0020028612303290417, -0.0020028612303290417, -0.0020028612303290417, -0.0018597997138769672, -0.002145922746781116, -0.0020028612303290417, -0.0020028612303290417, -0.0020028612303290417, -0.0020028612303290417, -0.0020028612303290417, -0.0020028612303290417, -0.0020028612303290417, -0.0020028612303290417, -0.0018597997138769672, -0.0018597997138769672, -0.0018597997138769672, -0.0018597997138769672, -0.0018597997138769672, -0.0018597997138769672, -0.0018597997138769672, -0.0017167381974248926, -0.0017167381974248926, -0.0017167381974248926, -0.0017167381974248926, -0.0017167381974248926, -0.0017167381974248926, -0.0015736766809728185, -0.0015736766809728185, -0.0015736766809728185, -0.0015736766809728185, -0.0015736766809728185, -0.0015736766809728185, -0.0015736766809728185, -0.0015736766809728185, -0.0015736766809728185, -0.0015736766809728185, -0.0015736766809728185, -0.0014306151645207441, -0.0014306151645207441, -0.0014306151645207441, -0.0014306151645207441, -0.0014306151645207441, -0.0014306151645207441, -0.0014306151645207441, -0.0014306151645207441, -0.0012875536480686696, -0.0014306151645207441, -0.0014306151645207441, -0.0014306151645207441, -0.0012875536480686696, -0.0014306151645207441, -0.0014306151645207441, -0.0014306151645207441, -0.0014306151645207441, -0.0014306151645207441, -0.0012875536480686696, -0.0012875536480686696, -0.0012875536480686696, -0.0014306151645207441, -0.0012875536480686696, -0.0012875536480686696, -0.0014306151645207441, -0.0014306151645207441, -0.0014306151645207441]}],\n",
              "                        {\"template\": {\"data\": {\"bar\": [{\"error_x\": {\"color\": \"#2a3f5f\"}, \"error_y\": {\"color\": \"#2a3f5f\"}, \"marker\": {\"line\": {\"color\": \"#E5ECF6\", \"width\": 0.5}}, \"type\": \"bar\"}], \"barpolar\": [{\"marker\": {\"line\": {\"color\": \"#E5ECF6\", \"width\": 0.5}}, \"type\": \"barpolar\"}], \"carpet\": [{\"aaxis\": {\"endlinecolor\": \"#2a3f5f\", \"gridcolor\": \"white\", \"linecolor\": \"white\", \"minorgridcolor\": \"white\", \"startlinecolor\": \"#2a3f5f\"}, \"baxis\": {\"endlinecolor\": \"#2a3f5f\", \"gridcolor\": \"white\", \"linecolor\": \"white\", \"minorgridcolor\": \"white\", \"startlinecolor\": \"#2a3f5f\"}, \"type\": \"carpet\"}], \"choropleth\": [{\"colorbar\": {\"outlinewidth\": 0, \"ticks\": \"\"}, \"type\": \"choropleth\"}], \"contour\": [{\"colorbar\": {\"outlinewidth\": 0, \"ticks\": \"\"}, \"colorscale\": [[0.0, \"#0d0887\"], [0.1111111111111111, \"#46039f\"], [0.2222222222222222, \"#7201a8\"], [0.3333333333333333, \"#9c179e\"], [0.4444444444444444, \"#bd3786\"], [0.5555555555555556, \"#d8576b\"], [0.6666666666666666, \"#ed7953\"], [0.7777777777777778, \"#fb9f3a\"], [0.8888888888888888, \"#fdca26\"], [1.0, \"#f0f921\"]], \"type\": \"contour\"}], \"contourcarpet\": [{\"colorbar\": {\"outlinewidth\": 0, \"ticks\": \"\"}, \"type\": \"contourcarpet\"}], \"heatmap\": [{\"colorbar\": {\"outlinewidth\": 0, \"ticks\": \"\"}, \"colorscale\": [[0.0, \"#0d0887\"], [0.1111111111111111, \"#46039f\"], [0.2222222222222222, \"#7201a8\"], [0.3333333333333333, \"#9c179e\"], [0.4444444444444444, \"#bd3786\"], [0.5555555555555556, \"#d8576b\"], [0.6666666666666666, \"#ed7953\"], [0.7777777777777778, \"#fb9f3a\"], [0.8888888888888888, \"#fdca26\"], [1.0, \"#f0f921\"]], \"type\": \"heatmap\"}], \"heatmapgl\": [{\"colorbar\": {\"outlinewidth\": 0, \"ticks\": \"\"}, \"colorscale\": [[0.0, \"#0d0887\"], [0.1111111111111111, \"#46039f\"], [0.2222222222222222, \"#7201a8\"], [0.3333333333333333, \"#9c179e\"], [0.4444444444444444, \"#bd3786\"], [0.5555555555555556, \"#d8576b\"], [0.6666666666666666, \"#ed7953\"], [0.7777777777777778, \"#fb9f3a\"], [0.8888888888888888, \"#fdca26\"], [1.0, \"#f0f921\"]], \"type\": \"heatmapgl\"}], \"histogram\": [{\"marker\": {\"colorbar\": {\"outlinewidth\": 0, \"ticks\": \"\"}}, \"type\": \"histogram\"}], \"histogram2d\": [{\"colorbar\": {\"outlinewidth\": 0, \"ticks\": \"\"}, \"colorscale\": [[0.0, \"#0d0887\"], [0.1111111111111111, \"#46039f\"], [0.2222222222222222, \"#7201a8\"], [0.3333333333333333, \"#9c179e\"], [0.4444444444444444, \"#bd3786\"], [0.5555555555555556, \"#d8576b\"], [0.6666666666666666, \"#ed7953\"], [0.7777777777777778, \"#fb9f3a\"], [0.8888888888888888, \"#fdca26\"], [1.0, \"#f0f921\"]], \"type\": \"histogram2d\"}], \"histogram2dcontour\": [{\"colorbar\": {\"outlinewidth\": 0, \"ticks\": \"\"}, \"colorscale\": [[0.0, \"#0d0887\"], [0.1111111111111111, \"#46039f\"], [0.2222222222222222, \"#7201a8\"], [0.3333333333333333, \"#9c179e\"], [0.4444444444444444, \"#bd3786\"], [0.5555555555555556, \"#d8576b\"], [0.6666666666666666, \"#ed7953\"], [0.7777777777777778, \"#fb9f3a\"], [0.8888888888888888, \"#fdca26\"], [1.0, \"#f0f921\"]], \"type\": \"histogram2dcontour\"}], \"mesh3d\": [{\"colorbar\": {\"outlinewidth\": 0, \"ticks\": \"\"}, \"type\": \"mesh3d\"}], \"parcoords\": [{\"line\": {\"colorbar\": {\"outlinewidth\": 0, \"ticks\": \"\"}}, \"type\": \"parcoords\"}], \"pie\": [{\"automargin\": true, \"type\": \"pie\"}], \"scatter\": [{\"marker\": {\"colorbar\": {\"outlinewidth\": 0, \"ticks\": \"\"}}, \"type\": \"scatter\"}], \"scatter3d\": [{\"line\": {\"colorbar\": {\"outlinewidth\": 0, \"ticks\": \"\"}}, \"marker\": {\"colorbar\": {\"outlinewidth\": 0, \"ticks\": \"\"}}, \"type\": \"scatter3d\"}], \"scattercarpet\": [{\"marker\": {\"colorbar\": {\"outlinewidth\": 0, \"ticks\": \"\"}}, \"type\": \"scattercarpet\"}], \"scattergeo\": [{\"marker\": {\"colorbar\": {\"outlinewidth\": 0, \"ticks\": \"\"}}, \"type\": \"scattergeo\"}], \"scattergl\": [{\"marker\": {\"colorbar\": {\"outlinewidth\": 0, \"ticks\": \"\"}}, \"type\": \"scattergl\"}], \"scattermapbox\": [{\"marker\": {\"colorbar\": {\"outlinewidth\": 0, \"ticks\": \"\"}}, \"type\": \"scattermapbox\"}], \"scatterpolar\": [{\"marker\": {\"colorbar\": {\"outlinewidth\": 0, \"ticks\": \"\"}}, \"type\": \"scatterpolar\"}], \"scatterpolargl\": [{\"marker\": {\"colorbar\": {\"outlinewidth\": 0, \"ticks\": \"\"}}, \"type\": \"scatterpolargl\"}], \"scatterternary\": [{\"marker\": {\"colorbar\": {\"outlinewidth\": 0, \"ticks\": \"\"}}, \"type\": \"scatterternary\"}], \"surface\": [{\"colorbar\": {\"outlinewidth\": 0, \"ticks\": \"\"}, \"colorscale\": [[0.0, \"#0d0887\"], [0.1111111111111111, \"#46039f\"], [0.2222222222222222, \"#7201a8\"], [0.3333333333333333, \"#9c179e\"], [0.4444444444444444, \"#bd3786\"], [0.5555555555555556, \"#d8576b\"], [0.6666666666666666, \"#ed7953\"], [0.7777777777777778, \"#fb9f3a\"], [0.8888888888888888, \"#fdca26\"], [1.0, \"#f0f921\"]], \"type\": \"surface\"}], \"table\": [{\"cells\": {\"fill\": {\"color\": \"#EBF0F8\"}, \"line\": {\"color\": \"white\"}}, \"header\": {\"fill\": {\"color\": \"#C8D4E3\"}, \"line\": {\"color\": \"white\"}}, \"type\": \"table\"}]}, \"layout\": {\"annotationdefaults\": {\"arrowcolor\": \"#2a3f5f\", \"arrowhead\": 0, \"arrowwidth\": 1}, \"coloraxis\": {\"colorbar\": {\"outlinewidth\": 0, \"ticks\": \"\"}}, \"colorscale\": {\"diverging\": [[0, \"#8e0152\"], [0.1, \"#c51b7d\"], [0.2, \"#de77ae\"], [0.3, \"#f1b6da\"], [0.4, \"#fde0ef\"], [0.5, \"#f7f7f7\"], [0.6, \"#e6f5d0\"], [0.7, \"#b8e186\"], [0.8, \"#7fbc41\"], [0.9, \"#4d9221\"], [1, \"#276419\"]], \"sequential\": [[0.0, \"#0d0887\"], [0.1111111111111111, \"#46039f\"], [0.2222222222222222, \"#7201a8\"], [0.3333333333333333, \"#9c179e\"], [0.4444444444444444, \"#bd3786\"], [0.5555555555555556, \"#d8576b\"], [0.6666666666666666, \"#ed7953\"], [0.7777777777777778, \"#fb9f3a\"], [0.8888888888888888, \"#fdca26\"], [1.0, \"#f0f921\"]], \"sequentialminus\": [[0.0, \"#0d0887\"], [0.1111111111111111, \"#46039f\"], [0.2222222222222222, \"#7201a8\"], [0.3333333333333333, \"#9c179e\"], [0.4444444444444444, \"#bd3786\"], [0.5555555555555556, \"#d8576b\"], [0.6666666666666666, \"#ed7953\"], [0.7777777777777778, \"#fb9f3a\"], [0.8888888888888888, \"#fdca26\"], [1.0, \"#f0f921\"]]}, \"colorway\": [\"#636efa\", \"#EF553B\", \"#00cc96\", \"#ab63fa\", \"#FFA15A\", \"#19d3f3\", \"#FF6692\", \"#B6E880\", \"#FF97FF\", \"#FECB52\"], \"font\": {\"color\": \"#2a3f5f\"}, \"geo\": {\"bgcolor\": \"white\", \"lakecolor\": \"white\", \"landcolor\": \"#E5ECF6\", \"showlakes\": true, \"showland\": true, \"subunitcolor\": \"white\"}, \"hoverlabel\": {\"align\": \"left\"}, \"hovermode\": \"closest\", \"mapbox\": {\"style\": \"light\"}, \"paper_bgcolor\": \"white\", \"plot_bgcolor\": \"#E5ECF6\", \"polar\": {\"angularaxis\": {\"gridcolor\": \"white\", \"linecolor\": \"white\", \"ticks\": \"\"}, \"bgcolor\": \"#E5ECF6\", \"radialaxis\": {\"gridcolor\": \"white\", \"linecolor\": \"white\", \"ticks\": \"\"}}, \"scene\": {\"xaxis\": {\"backgroundcolor\": \"#E5ECF6\", \"gridcolor\": \"white\", \"gridwidth\": 2, \"linecolor\": \"white\", \"showbackground\": true, \"ticks\": \"\", \"zerolinecolor\": \"white\"}, \"yaxis\": {\"backgroundcolor\": \"#E5ECF6\", \"gridcolor\": \"white\", \"gridwidth\": 2, \"linecolor\": \"white\", \"showbackground\": true, \"ticks\": \"\", \"zerolinecolor\": \"white\"}, \"zaxis\": {\"backgroundcolor\": \"#E5ECF6\", \"gridcolor\": \"white\", \"gridwidth\": 2, \"linecolor\": \"white\", \"showbackground\": true, \"ticks\": \"\", \"zerolinecolor\": \"white\"}}, \"shapedefaults\": {\"line\": {\"color\": \"#2a3f5f\"}}, \"ternary\": {\"aaxis\": {\"gridcolor\": \"white\", \"linecolor\": \"white\", \"ticks\": \"\"}, \"baxis\": {\"gridcolor\": \"white\", \"linecolor\": \"white\", \"ticks\": \"\"}, \"bgcolor\": \"#E5ECF6\", \"caxis\": {\"gridcolor\": \"white\", \"linecolor\": \"white\", \"ticks\": \"\"}}, \"title\": {\"x\": 0.05}, \"xaxis\": {\"automargin\": true, \"gridcolor\": \"white\", \"linecolor\": \"white\", \"ticks\": \"\", \"title\": {\"standoff\": 15}, \"zerolinecolor\": \"white\", \"zerolinewidth\": 2}, \"yaxis\": {\"automargin\": true, \"gridcolor\": \"white\", \"linecolor\": \"white\", \"ticks\": \"\", \"title\": {\"standoff\": 15}, \"zerolinecolor\": \"white\", \"zerolinewidth\": 2}}}},\n",
              "                        {\"responsive\": true}\n",
              "                    ).then(function(){\n",
              "                            \n",
              "var gd = document.getElementById('f4c30695-1bd3-406a-aab5-741a4f377f6d');\n",
              "var x = new MutationObserver(function (mutations, observer) {{\n",
              "        var display = window.getComputedStyle(gd).display;\n",
              "        if (!display || display === 'none') {{\n",
              "            console.log([gd, 'removed!']);\n",
              "            Plotly.purge(gd);\n",
              "            observer.disconnect();\n",
              "        }}\n",
              "}});\n",
              "\n",
              "// Listen for the removal of the full notebook cells\n",
              "var notebookContainer = gd.closest('#notebook-container');\n",
              "if (notebookContainer) {{\n",
              "    x.observe(notebookContainer, {childList: true});\n",
              "}}\n",
              "\n",
              "// Listen for the clearing of the current output cell\n",
              "var outputEl = gd.closest('.output');\n",
              "if (outputEl) {{\n",
              "    x.observe(outputEl, {childList: true});\n",
              "}}\n",
              "\n",
              "                        })\n",
              "                };\n",
              "                \n",
              "            </script>\n",
              "        </div>\n",
              "</body>\n",
              "</html>"
            ]
          },
          "metadata": {}
        }
      ]
    },
    {
      "cell_type": "code",
      "metadata": {
        "colab": {
          "base_uri": "https://localhost:8080/",
          "height": 542
        },
        "id": "85-5neG3y4UO",
        "outputId": "07b054c2-1fe6-4291-f6ff-782a26a827af"
      },
      "source": [
        "fig = go.Figure()\n",
        "\n",
        "# Add traces\n",
        "fig.add_trace(go.Scatter(x=graph_table.wavelength, y=graph_table.Donar,\n",
        "                         mode='lines',\n",
        "                         name=donar_name))\n",
        "fig.add_trace(go.Scatter(x=graph_table.wavelength, y=graph_table.Acceptor,\n",
        "                         mode='lines',\n",
        "                         name=acceptor_name))\n",
        "fig.add_trace(go.Scatter(x=graph_table.wavelength, y=graph_table.Overlay,\n",
        "                         mode='lines',\n",
        "                         name='Overlay'))\n",
        "fig.add_trace(go.Scatter(x=graph_table.wavelength, y=graph_table.Measured_curve,\n",
        "                         mode='lines',\n",
        "                         name=sample_name))\n",
        "\n",
        "fig.show()\n",
        "fig.write_html('/deconv.html')"
      ],
      "execution_count": null,
      "outputs": [
        {
          "output_type": "display_data",
          "data": {
            "text/html": [
              "<html>\n",
              "<head><meta charset=\"utf-8\" /></head>\n",
              "<body>\n",
              "    <div>\n",
              "            <script src=\"https://cdnjs.cloudflare.com/ajax/libs/mathjax/2.7.5/MathJax.js?config=TeX-AMS-MML_SVG\"></script><script type=\"text/javascript\">if (window.MathJax) {MathJax.Hub.Config({SVG: {font: \"STIX-Web\"}});}</script>\n",
              "                <script type=\"text/javascript\">window.PlotlyConfig = {MathJaxConfig: 'local'};</script>\n",
              "        <script src=\"https://cdn.plot.ly/plotly-latest.min.js\"></script>    \n",
              "            <div id=\"082f5a95-06e3-4ff4-9fd5-719e7be6e35b\" class=\"plotly-graph-div\" style=\"height:525px; width:100%;\"></div>\n",
              "            <script type=\"text/javascript\">\n",
              "                \n",
              "                    window.PLOTLYENV=window.PLOTLYENV || {};\n",
              "                    \n",
              "                if (document.getElementById(\"082f5a95-06e3-4ff4-9fd5-719e7be6e35b\")) {\n",
              "                    Plotly.newPlot(\n",
              "                        '082f5a95-06e3-4ff4-9fd5-719e7be6e35b',\n",
              "                        [{\"mode\": \"lines\", \"name\": \"mScarlet-I\", \"type\": \"scatter\", \"x\": [300, 301, 302, 303, 304, 305, 306, 307, 308, 309, 310, 311, 312, 313, 314, 315, 316, 317, 318, 319, 320, 321, 322, 323, 324, 325, 326, 327, 328, 329, 330, 331, 332, 333, 334, 335, 336, 337, 338, 339, 340, 341, 342, 343, 344, 345, 346, 347, 348, 349, 350, 351, 352, 353, 354, 355, 356, 357, 358, 359, 360, 361, 362, 363, 364, 365, 366, 367, 368, 369, 370, 371, 372, 373, 374, 375, 376, 377, 378, 379, 380, 381, 382, 383, 384, 385, 386, 387, 388, 389, 390, 391, 392, 393, 394, 395, 396, 397, 398, 399, 400, 401, 402, 403, 404, 405, 406, 407, 408, 409, 410, 411, 412, 413, 414, 415, 416, 417, 418, 419, 420, 421, 422, 423, 424, 425, 426, 427, 428, 429, 430, 431, 432, 433, 434, 435, 436, 437, 438, 439, 440, 441, 442, 443, 444, 445, 446, 447, 448, 449, 450, 451, 452, 453, 454, 455, 456, 457, 458, 459, 460, 461, 462, 463, 464, 465, 466, 467, 468, 469, 470, 471, 472, 473, 474, 475, 476, 477, 478, 479, 480, 481, 482, 483, 484, 485, 486, 487, 488, 489, 490, 491, 492, 493, 494, 495, 496, 497, 498, 499, 500, 501, 502, 503, 504, 505, 506, 507, 508, 509, 510, 511, 512, 513, 514, 515, 516, 517, 518, 519, 520, 521, 522, 523, 524, 525, 526, 527, 528, 529, 530, 531, 532, 533, 534, 535, 536, 537, 538, 539, 540, 541, 542, 543, 544, 545, 546, 547, 548, 549, 550, 551, 552, 553, 554, 555, 556, 557, 558, 559, 560, 561, 562, 563, 564, 565, 566, 567, 568, 569, 570, 571, 572, 573, 574, 575, 576, 577, 578, 579, 580, 581, 582, 583, 584, 585, 586, 587, 588, 589, 590, 591, 592, 593, 594, 595, 596, 597, 598, 599, 600, 601, 602, 603, 604, 605, 606, 607, 608, 609, 610, 611, 612, 613, 614, 615, 616, 617, 618, 619, 620, 621, 622, 623, 624, 625, 626, 627, 628, 629, 630, 631, 632, 633, 634, 635, 636, 637, 638, 639, 640, 641, 642, 643, 644, 645, 646, 647, 648, 649, 650, 651, 652, 653, 654, 655, 656, 657, 658, 659, 660, 661, 662, 663, 664, 665, 666, 667, 668, 669, 670, 671, 672, 673, 674, 675, 676, 677, 678, 679, 680, 681, 682, 683, 684, 685, 686, 687, 688, 689, 690, 691, 692, 693, 694, 695, 696, 697, 698, 699, 700, 701, 702, 703, 704, 705, 706, 707, 708, 709, 710, 711, 712, 713, 714, 715, 716, 717, 718, 719, 720, 721, 722, 723, 724, 725, 726, 727, 728, 729, 730, 731, 732, 733, 734, 735, 736, 737, 738, 739, 740, 741, 742, 743, 744, 745, 746, 747, 748, 749, 750, 751, 752, 753, 754, 755, 756, 757, 758, 759, 760, 761, 762, 763, 764, 765, 766, 767, 768, 769, 770, 771, 772, 773, 774, 775, 776, 777, 778, 779, 780, 781, 782, 783, 784, 785, 786, 787, 788, 789, 790, 791, 792, 793, 794, 795, 796, 797, 798, 799, 800], \"y\": [0.01620661954410176, 0.013877125975134361, 0.011880417201733735, 0.010249771703456553, 0.008352898368725959, 0.007188151584242259, 0.00635618959532533, 0.005823733922418497, 0.005590784565521757, 0.005624063045078433, 0.00602340479975856, 0.006422746554438685, 0.0069884807069021965, 0.0077538857367057705, 0.008652404684736052, 0.009451088194096303, 0.01064911345813668, 0.01168074632439367, 0.012645822231537306, 0.013910404454691036, 0.014442860127597873, 0.01630645498277179, 0.017537758726368844, 0.01860267007218251, 0.019667581417996183, 0.02083232820247988, 0.02199707498696358, 0.023228378730560634, 0.02439312551504433, 0.025957214054208155, 0.027554581072928658, 0.029085391132535807, 0.03074931511036966, 0.03267946692465693, 0.03427683394337744, 0.035707808564314554, 0.03693911230791161, 0.037604681899045145, 0.03790418821505525, 0.037671238858158505, 0.03687255534879825, 0.03584092248254126, 0.034509783300274176, 0.03294569476111035, 0.03148144166061656, 0.030183580957906152, 0.02868604937785568, 0.027488024113815308, 0.026423112768001633, 0.02542475838130132, 0.02455951791282772, 0.023794112883024143, 0.023028707853220566, 0.02242969522120038, 0.021897239548293545, 0.02166429019139681, 0.020366429488686395, 0.020100201652232984, 0.01970085989755286, 0.019368075101986088, 0.019002011826862637, 0.018769062469965896, 0.018303163756172417, 0.01793710048104897, 0.017504480246812167, 0.01700530305346201, 0.016339733462328466, 0.01560760691208157, 0.014975315800504705, 0.014243189250257809, 0.01354434117956759, 0.012778936149764015, 0.012113366558630474, 0.011481075447053608, 0.011015176733260126, 0.01041616410123994, 0.009983543867003137, 0.009617480591879687, 0.009218138837199562, 0.00891863252118947, 0.008585847725622698, 0.008186505970942571, 0.007886999654932478, 0.007421100941138998, 0.0069884807069021965, 0.006522581993108716, 0.006056683279315237, 0.005457670647295049, 0.004925214974388215, 0.004326202342368026, 0.0038603036285745464, 0.003427683394337744, 0.002961784680544264, 0.0025957214054208155, 0.0022296581302973673, 0.0019967087734006276, 0.0017637594165038875, 0.0015973670187205019, 0.0014309746209371162, 0.0012978607027104077, 0.0011314683049270223, 0.001098189825370345, 0.0010316328662569908, 0.0010316328662569908, 0.0009983543867003138, 0.0009650759071436366, 0.0009983543867003138, 0.0009983543867003138, 0.0010316328662569908, 0.0009983543867003138, 0.0010316328662569908, 0.001064911345813668, 0.001064911345813668, 0.001098189825370345, 0.001098189825370345, 0.001331139182267085, 0.001331139182267085, 0.0013644176618237622, 0.0014309746209371162, 0.0014642531004937934, 0.0015308100596071476, 0.0015973670187205019, 0.0015973670187205019, 0.001630645498277179, 0.0017637594165038875, 0.0018303163756172415, 0.0018968733347305962, 0.0018968733347305962, 0.0019967087734006276, 0.002096544212070659, 0.00219637965074069, 0.0023294935689673986, 0.0023960505280807526, 0.0025291644463074615, 0.0026289998849774927, 0.0027621138032042016, 0.0028952277214309096, 0.0030283416396576185, 0.0031947340374410037, 0.0033278479556677126, 0.0035607973125644523, 0.0036939112307911607, 0.0038935821081312236, 0.004126531465027963, 0.004359480821924703, 0.004559151699264766, 0.004825379535718183, 0.0051248858517282765, 0.005357835208625017, 0.005690620004191788, 0.005990126320201882, 0.00635618959532533, 0.0067555313500054556, 0.007088316145572227, 0.007487657900252353, 0.007886999654932478, 0.008286341409612603, 0.008718961643849407, 0.009184860357642885, 0.00958420211232301, 0.010083379305673169, 0.010582556499023326, 0.011048455212816806, 0.011614189365280317, 0.012113366558630474, 0.01274565767020734, 0.013278113343114172, 0.013877125975134361, 0.014575974045824579, 0.015208265157401445, 0.01597367018720502, 0.016705796737451917, 0.0176043156854822, 0.018436277674399124, 0.01940135358154276, 0.020366429488686395, 0.021497897793613423, 0.022596087618983768, 0.023893948321694173, 0.025158530544847905, 0.026456391247558317, 0.027953922827608786, 0.029418175928102582, 0.031048821426379755, 0.03251307452687355, 0.03424355546382076, 0.035807644002984584, 0.037471567980818445, 0.03903565651998227, 0.04069958049781612, 0.04213055511875323, 0.043694643657917066, 0.04505906131974082, 0.04649003594067794, 0.04775461816383167, 0.04915231430521211, 0.05031706108969581, 0.05171475723107625, 0.052946060974673304, 0.054310478636497066, 0.05567489629832083, 0.05720570635792797, 0.05866995945842177, 0.06043371887492566, 0.06219747829142955, 0.06426074402394352, 0.06639056671557086, 0.06888645268232164, 0.07134906016951575, 0.07437740180917338, 0.07733918648971763, 0.08080014836361205, 0.08429438871706317, 0.08842092018209112, 0.09231450229022234, 0.09697348942815713, 0.10136624872963852, 0.10622490674491337, 0.1108506154032915, 0.1159422227754631, 0.12040153903605784, 0.12512708313310597, 0.1293201715572473, 0.13338014606316193, 0.13707405729395306, 0.14003584197449734, 0.14266484185947484, 0.1445617151942054, 0.14615908221292592, 0.14715743659962624, 0.1477897277112031, 0.14805595554765655, 0.14805595554765655, 0.14788956314987314, 0.1476566137929764, 0.147490221395193, 0.14742366443607965, 0.1475567783543064, 0.14788956314987314, 0.1486549681796767, 0.14971987952549037, 0.15125068958509752, 0.15304772748115808, 0.15554361344790887, 0.1584721196488965, 0.1616002967272241, 0.16566027123313873, 0.16968696725949667, 0.1745789037543282, 0.17970378960605646, 0.18572719440581503, 0.19221649791936707, 0.19887219383070248, 0.20645968716962487, 0.21311538308096029, 0.2178742056575651, 0.23241690122383304, 0.24080307807211568, 0.2504871156231087, 0.2590729633487314, 0.26815798826770426, 0.27684367143199695, 0.28376559517978583, 0.2897889999795444, 0.2945478225561492, 0.29877418945984724, 0.301270075426598, 0.3019689234972882, 0.30043811343768106, 0.2972101009206834, 0.2915194809164916, 0.2837323167002292, 0.27504663353593645, 0.2634990011297695, 0.2517516978462624, 0.23804096426891147, 0.22293253455018008, 0.20885573769770563, 0.1935143586220775, 0.17767380235309918, 0.16359700550062473, 0.1489544744956868, 0.13441177892941888, 0.12206546301389169, 0.1096858686188078, 0.0987705273242177, 0.08775535059095756, 0.0779714776012945, 0.06948546531434184, 0.06119912390472924, 0.0539776938409303, 0.04782117512294503, 0.04179777032318646, 0.036606327512344834, 0.03224684669042013, 0.028087036745835493, 0.024492960953714362, 0.021464619314056743, 0.018569391592625835, 0.016140062584988405, 0.0141100753320311, 0.012179923517743827, 0.010549278019466648, 0.009151581878086209, 0.007886999654932478, 0.00682208830911881, 0.005923569361088528, 0.005091607372171599, 0.004359480821924703, 0.0037937466694611924, 0.003261290996554358, 0.0027953922827608784, 0.0023960505280807526, 0.0020632657325139817, 0.0017970378960605648, 0.001564088539163825, 0.0013976961413804392, 0.0012313037435970537, 0.001098189825370345, 0.0009983543867003138, 0.0008985189480302824, 0.0008319619889169281, 0.0007654050298035738, 0.0006988480706902196, 0.0006655695911335425, 0.0005990126320201881, 0.0005657341524635111, 0.000532455672906834, 0.0004658987137934797, 0.0004326202342368026, 0.00036606327512344835, 0.00029950631601009407, 0.00023294935689673984, 0.00016639239778338562, 0.0001331139182267085, 6.655695911335425e-05, 3.3278479556677127e-05, -3.3278479556677127e-05, -6.655695911335425e-05, -9.983543867003137e-05, -0.0001331139182267085, -0.00016639239778338562, -0.00023294935689673984, -0.00023294935689673984, -0.000266227836453417, -0.00029950631601009407, -0.00029950631601009407, -0.00033278479556677124, -0.00036606327512344835, -0.00036606327512344835, -0.00036606327512344835, -0.00036606327512344835, -0.00036606327512344835, -0.00036606327512344835, -0.00036606327512344835, -0.00036606327512344835, -0.00036606327512344835, -0.00036606327512344835, -0.00036606327512344835, -0.00036606327512344835, -0.00036606327512344835, -0.00039934175468012546, -0.00039934175468012546, -0.00039934175468012546, -0.00039934175468012546, -0.00036606327512344835, -0.00036606327512344835, -0.00033278479556677124, -0.00033278479556677124, -0.00033278479556677124, -0.00033278479556677124, -0.00033278479556677124, -0.00036606327512344835, -0.00036606327512344835, -0.00036606327512344835, -0.00036606327512344835, -0.00036606327512344835, -0.00036606327512344835, -0.00036606327512344835, -0.00036606327512344835, -0.00039934175468012546, -0.00039934175468012546, -0.00039934175468012546, -0.0004326202342368026, -0.0004326202342368026, -0.00039934175468012546, -0.00039934175468012546, -0.00039934175468012546, -0.00039934175468012546, -0.00039934175468012546, -0.00039934175468012546, -0.00039934175468012546, -0.00039934175468012546, -0.00039934175468012546, -0.00039934175468012546, -0.00039934175468012546, -0.00036606327512344835, -0.00036606327512344835, -0.00039934175468012546, -0.00036606327512344835, -0.00033278479556677124, -0.00033278479556677124, -0.00033278479556677124, -0.00033278479556677124, -0.00029950631601009407, -0.00029950631601009407, -0.000266227836453417, -0.00029950631601009407, -0.00029950631601009407, -0.000266227836453417, -0.00023294935689673984, -0.00023294935689673984, -0.000266227836453417, -0.00023294935689673984, -0.00023294935689673984, -0.000266227836453417, -0.00023294935689673984, -0.00023294935689673984, -0.00023294935689673984, -0.00023294935689673984, -0.00023294935689673984, -0.00023294935689673984, -0.00023294935689673984, -0.00023294935689673984, -0.00023294935689673984, -0.00023294935689673984, -0.00023294935689673984, -0.00023294935689673984, -0.000266227836453417, -0.000266227836453417, -0.000266227836453417, -0.000266227836453417, -0.000266227836453417, -0.000266227836453417, -0.000266227836453417, -0.0007321265502468967, -0.0007321265502468967, -0.0007321265502468967, -0.0007321265502468967, -0.0007321265502468967, -0.0007654050298035738, -0.0007321265502468967, -0.0006988480706902196, -0.0006988480706902196, -0.0006988480706902196, -0.0007321265502468967, -0.0006988480706902196, -0.0006655695911335425, -0.0006655695911335425, -0.0006322911115768654, -0.0006322911115768654, -0.0005657341524635111, -0.000532455672906834, -0.000532455672906834, -0.0004991771933501569, -0.0004658987137934797, -0.00039934175468012546, -0.00036606327512344835, -0.00033278479556677124, -0.00029950631601009407, -0.00023294935689673984, -0.00016639239778338562, -0.00016639239778338562, -0.0001331139182267085, -9.983543867003137e-05, -6.655695911335425e-05, -6.655695911335425e-05, -3.3278479556677127e-05, 0.0, 3.3278479556677127e-05, 6.655695911335425e-05, 6.655695911335425e-05, 6.655695911335425e-05, 6.655695911335425e-05, 9.983543867003137e-05, 6.655695911335425e-05, 6.655695911335425e-05, 9.983543867003137e-05, 9.983543867003137e-05, 9.983543867003137e-05, 9.983543867003137e-05, 9.983543867003137e-05, 6.655695911335425e-05, 9.983543867003137e-05, 6.655695911335425e-05, 9.983543867003137e-05, 6.655695911335425e-05, 9.983543867003137e-05, 9.983543867003137e-05, 9.983543867003137e-05, 6.655695911335425e-05, 9.983543867003137e-05, 9.983543867003137e-05, 9.983543867003137e-05, 9.983543867003137e-05, 9.983543867003137e-05, 0.0001331139182267085, 0.0001331139182267085, 0.0001331139182267085, 9.983543867003137e-05, 9.983543867003137e-05]}, {\"mode\": \"lines\", \"name\": \"gScarlet\", \"type\": \"scatter\", \"x\": [300, 301, 302, 303, 304, 305, 306, 307, 308, 309, 310, 311, 312, 313, 314, 315, 316, 317, 318, 319, 320, 321, 322, 323, 324, 325, 326, 327, 328, 329, 330, 331, 332, 333, 334, 335, 336, 337, 338, 339, 340, 341, 342, 343, 344, 345, 346, 347, 348, 349, 350, 351, 352, 353, 354, 355, 356, 357, 358, 359, 360, 361, 362, 363, 364, 365, 366, 367, 368, 369, 370, 371, 372, 373, 374, 375, 376, 377, 378, 379, 380, 381, 382, 383, 384, 385, 386, 387, 388, 389, 390, 391, 392, 393, 394, 395, 396, 397, 398, 399, 400, 401, 402, 403, 404, 405, 406, 407, 408, 409, 410, 411, 412, 413, 414, 415, 416, 417, 418, 419, 420, 421, 422, 423, 424, 425, 426, 427, 428, 429, 430, 431, 432, 433, 434, 435, 436, 437, 438, 439, 440, 441, 442, 443, 444, 445, 446, 447, 448, 449, 450, 451, 452, 453, 454, 455, 456, 457, 458, 459, 460, 461, 462, 463, 464, 465, 466, 467, 468, 469, 470, 471, 472, 473, 474, 475, 476, 477, 478, 479, 480, 481, 482, 483, 484, 485, 486, 487, 488, 489, 490, 491, 492, 493, 494, 495, 496, 497, 498, 499, 500, 501, 502, 503, 504, 505, 506, 507, 508, 509, 510, 511, 512, 513, 514, 515, 516, 517, 518, 519, 520, 521, 522, 523, 524, 525, 526, 527, 528, 529, 530, 531, 532, 533, 534, 535, 536, 537, 538, 539, 540, 541, 542, 543, 544, 545, 546, 547, 548, 549, 550, 551, 552, 553, 554, 555, 556, 557, 558, 559, 560, 561, 562, 563, 564, 565, 566, 567, 568, 569, 570, 571, 572, 573, 574, 575, 576, 577, 578, 579, 580, 581, 582, 583, 584, 585, 586, 587, 588, 589, 590, 591, 592, 593, 594, 595, 596, 597, 598, 599, 600, 601, 602, 603, 604, 605, 606, 607, 608, 609, 610, 611, 612, 613, 614, 615, 616, 617, 618, 619, 620, 621, 622, 623, 624, 625, 626, 627, 628, 629, 630, 631, 632, 633, 634, 635, 636, 637, 638, 639, 640, 641, 642, 643, 644, 645, 646, 647, 648, 649, 650, 651, 652, 653, 654, 655, 656, 657, 658, 659, 660, 661, 662, 663, 664, 665, 666, 667, 668, 669, 670, 671, 672, 673, 674, 675, 676, 677, 678, 679, 680, 681, 682, 683, 684, 685, 686, 687, 688, 689, 690, 691, 692, 693, 694, 695, 696, 697, 698, 699, 700, 701, 702, 703, 704, 705, 706, 707, 708, 709, 710, 711, 712, 713, 714, 715, 716, 717, 718, 719, 720, 721, 722, 723, 724, 725, 726, 727, 728, 729, 730, 731, 732, 733, 734, 735, 736, 737, 738, 739, 740, 741, 742, 743, 744, 745, 746, 747, 748, 749, 750, 751, 752, 753, 754, 755, 756, 757, 758, 759, 760, 761, 762, 763, 764, 765, 766, 767, 768, 769, 770, 771, 772, 773, 774, 775, 776, 777, 778, 779, 780, 781, 782, 783, 784, 785, 786, 787, 788, 789, 790, 791, 792, 793, 794, 795, 796, 797, 798, 799, 800], \"y\": [0.012368644409730558, 0.009615041092235798, 0.007312848154658213, 0.005371783521014367, 0.003746706153312541, 0.002437616051552738, 0.0014896542537266731, 0.0009479617978260645, 0.0003611283039337389, -0.00013542311397515206, -0.0004965514179088911, -0.0009028207598343473, -0.0009931028358177822, -0.001218808025776369, -0.0013090901017598037, -0.0016702184056935426, -0.001760500481676977, -0.0019862056716355644, -0.002437616051552738, -0.0029341674694616285, -0.0031598726594202152, -0.004198116533229714, -0.004875232103105476, -0.005326642483022648, -0.005732911824948105, -0.006094040128881844, -0.006455168432815583, -0.006726014660765887, -0.006951719850724474, -0.0069968608887161915, -0.007448271268633365, -0.007538553344616799, -0.007719117496583669, -0.007809399572567103, -0.007989963724533974, -0.008260809952484278, -0.008486515142442865, -0.0085767972184263, -0.008847643446376603, -0.008847643446376603, -0.009163630712318625, -0.00925391278830206, -0.00943447694026893, -0.009660182130227516, -0.009750464206210951, -0.009705323168219232, -0.009840746282194385, -0.009931028358177819, -0.010066451472152972, -0.010156733548136407, -0.010066451472152972, -0.01011159251014469, -0.010247015624119843, -0.010156733548136407, -0.010156733548136407, -0.010156733548136407, -0.009795605244202667, -0.009840746282194385, -0.009931028358177819, -0.009750464206210951, -0.00956990005424408, -0.00956990005424408, -0.009389335902277212, -0.00943447694026893, -0.009208771750310343, -0.009028207598343474, -0.00889278448436832, -0.008802502408384887, -0.008667079294409732, -0.008667079294409732, -0.008712220332401452, -0.008621938256418016, -0.008396233066459428, -0.008305950990475994, -0.008170527876500844, -0.008080245800517407, -0.00785454061055882, -0.007583694382608516, -0.007493412306625082, -0.007493412306625082, -0.007403130230641648, -0.007267707116666495, -0.0071774250406830605, -0.007042001926707908, -0.006951719850724474, -0.006771155698757604, -0.0065003094708073, -0.006364886356832147, -0.0065003094708073, -0.006364886356832147, -0.0059586170149066925, -0.005597488710972953, -0.005732911824948105, -0.0057780528629398226, -0.005732911824948105, -0.0054169245590060845, -0.004965514179088909, -0.00478495002712204, -0.004875232103105476, -0.004875232103105476, -0.0047398089891303235, -0.004468962761180019, -0.004198116533229714, -0.003791847191304258, -0.003521000963353954, -0.003475859925362237, -0.0031598726594202152, -0.0027084622795030423, -0.002347333975569303, -0.0019410646336438465, -0.0014896542537266731, -0.0009931028358177822, -0.0005416924559006083, -0.00022570518995858682, 0.0, 0.0003611283039337389, 0.0009028207598343473, 0.0017153594436852598, 0.002437616051552738, 0.003114731621428498, 0.00392727030527941, 0.0047398089891303235, 0.005732911824948105, 0.00668087362277417, 0.007764258534575386, 0.008983066560351756, 0.010156733548136407, 0.01146582364989621, 0.012820054789647732, 0.01421942696739097, 0.015889645373084516, 0.01746958170279462, 0.019230082184471597, 0.02099058266614857, 0.022751083147825552, 0.024737288819461117, 0.02672349449109668, 0.028980546390682545, 0.031057034138301545, 0.033223803961903976, 0.03575170208944015, 0.03805389502701774, 0.04076235730652078, 0.043335396472048676, 0.04631470497950201, 0.049203731410971924, 0.05227332199440871, 0.05565889984378751, 0.05913475976914975, 0.06310717111242088, 0.06685387726573341, 0.07082628860900454, 0.07547581552215143, 0.0798093551693563, 0.08491029246242036, 0.08974038352753412, 0.09506702601055678, 0.1003485274555877, 0.10621686239451096, 0.11149836383954188, 0.11691528839854798, 0.12305446956542154, 0.12847139412442762, 0.1343848701013426, 0.13980179466034867, 0.1453090012953382, 0.1500488102844685, 0.15474347823560713, 0.15943814618674573, 0.16345569856800857, 0.16769895613923, 0.17131023917856741, 0.17505694533187993, 0.17844252318125872, 0.18232465244854643, 0.1858456534119004, 0.19022433409709696, 0.1944675916683184, 0.19952338792339075, 0.20489517144440514, 0.21062808326935323, 0.217534662082086, 0.2245766640087939, 0.23279233292328647, 0.24060173249585357, 0.2499007863221473, 0.2586581476925405, 0.26822804774678455, 0.2773465374211114, 0.2871872837033059, 0.2957640809217322, 0.30506313474802593, 0.31273711120661785, 0.3200951003992678, 0.32578287118622423, 0.3303872570613794, 0.33259916792297356, 0.33314086037887414, 0.33106437263125515, 0.3263245636421248, 0.3191922796394335, 0.30853899467338813, 0.29626063233964106, 0.27973901243467253, 0.2625402769598282, 0.24177539948363816, 0.22092023993146478, 0.19695034875786288, 0.17510208636987165, 0.15063564377836083, 0.1291485096943034, 0.10739052938229561, 0.08870213965372463, 0.0704200192670791, 0.056245733337679835, 0.04252285778819776, 0.03205013697411933, 0.022841365223808988, 0.015889645373084516, 0.009660182130227516, 0.0052815014450309315, 0.0014896542537266731, -0.0013090901017598037, -0.0036564240773291064, -0.005462065596997801, -0.0068162967367493225, -0.007944822686542258, -0.00875736137039317, -0.009479617978260647, -0.009976169396169538, -0.010427579776086712, -0.010788708080020451, -0.011059554307970754, -0.011285259497929342, -0.01146582364989621, -0.011646387801863079, -0.011691528839854796, -0.01182695195382995, -0.011917234029813385, -0.011917234029813385, -0.012007516105796819, -0.012052657143788536, -0.012097798181780252, -0.01214293921977197, -0.01214293921977197, -0.01214293921977197, -0.012188080257763688, -0.012188080257763688, -0.01214293921977197, -0.01214293921977197, -0.01214293921977197, -0.01214293921977197, -0.01214293921977197, -0.01214293921977197, -0.01214293921977197, -0.01214293921977197, -0.01182695195382995, -0.011872092991821667, -0.011872092991821667, -0.011917234029813385, -0.0119623750678051, -0.0119623750678051, -0.0119623750678051, -0.0119623750678051, -0.0119623750678051, -0.0119623750678051, -0.0119623750678051, -0.0119623750678051, -0.0119623750678051, -0.0119623750678051, -0.0119623750678051, -0.0119623750678051, -0.0119623750678051, -0.011917234029813385, -0.011917234029813385, -0.011917234029813385, -0.011917234029813385, -0.011872092991821667, -0.011872092991821667, -0.011872092991821667, -0.011872092991821667, -0.01182695195382995, -0.01182695195382995, -0.011781810915838234, -0.01182695195382995, -0.011781810915838234, -0.011781810915838234, -0.011781810915838234, -0.011736669877846514, -0.011736669877846514, -0.011736669877846514, -0.011691528839854796, -0.011691528839854796, -0.011646387801863079, -0.011646387801863079, -0.011646387801863079, -0.011601246763871363, -0.011601246763871363, -0.011556105725879645, -0.011510964687887927, -0.011510964687887927, -0.011510964687887927, -0.01146582364989621, -0.01146582364989621, -0.01146582364989621, -0.01146582364989621, -0.01146582364989621, -0.01146582364989621, -0.01146582364989621, -0.011420682611904494, -0.01146582364989621, -0.01146582364989621, -0.01146582364989621, -0.01146582364989621, -0.01146582364989621, -0.01146582364989621, -0.011420682611904494, -0.011420682611904494, -0.011420682611904494, -0.011420682611904494, -0.011420682611904494, -0.011420682611904494, -0.011420682611904494, -0.011420682611904494, -0.011420682611904494, -0.011375541573912776, -0.011375541573912776, -0.011375541573912776, -0.011375541573912776, -0.011375541573912776, -0.011375541573912776, -0.011375541573912776, -0.011375541573912776, -0.011330400535921058, -0.011330400535921058, -0.011330400535921058, -0.011330400535921058, -0.011285259497929342, -0.011285259497929342, -0.011330400535921058, -0.011285259497929342, -0.011285259497929342, -0.011285259497929342, -0.011285259497929342, -0.011285259497929342, -0.011285259497929342, -0.011285259497929342, -0.011285259497929342, -0.011240118459937623, -0.011240118459937623, -0.011240118459937623, -0.011240118459937623, -0.011194977421945905, -0.011240118459937623, -0.011194977421945905, -0.011149836383954188, -0.011149836383954188, -0.011149836383954188, -0.011149836383954188, -0.011149836383954188, -0.011149836383954188, -0.011149836383954188, -0.011104695345962472, -0.011104695345962472, -0.011149836383954188, -0.011149836383954188, -0.011104695345962472, -0.011149836383954188, -0.011149836383954188, -0.011104695345962472, -0.011104695345962472, -0.011104695345962472, -0.011149836383954188, -0.011149836383954188, -0.011149836383954188, -0.011149836383954188, -0.011104695345962472, -0.011104695345962472, -0.011104695345962472, -0.011104695345962472, -0.011149836383954188, -0.011149836383954188, -0.011104695345962472, -0.011104695345962472, -0.011104695345962472, -0.011059554307970754, -0.011059554307970754, -0.011059554307970754, -0.011059554307970754, -0.011059554307970754, -0.011014413269979036, -0.01096927223198732, -0.01096927223198732, -0.01096927223198732, -0.010924131193995603, -0.010924131193995603, -0.010878990156003885, -0.010833849118012169, -0.010833849118012169, -0.010788708080020451, -0.010743567042028734, -0.010698426004037014, -0.010698426004037014, -0.010653284966045297, -0.01060814392805358, -0.01060814392805358, -0.010563002890061863, -0.01047272081407843, -0.01047272081407843, -0.010382438738094994, -0.010382438738094994, -0.010292156662111559, -0.010201874586128123, -0.010156733548136407, -0.010066451472152972, -0.010021310434161254, -0.009931028358177819, -0.009840746282194385, -0.009750464206210951, -0.009660182130227516, -0.00956990005424408, -0.009479617978260647, -0.009389335902277212, -0.009299053826293778, -0.009208771750310343, -0.00907334863633519, -0.008937925522360038, -0.00875736137039317, -0.0085767972184263, -0.008396233066459428, -0.00821566891449256, -0.00803510476252569, -0.00785454061055882, -0.007719117496583669, -0.007628835420600234, -0.0059586170149066925, -0.005868334938923257, -0.005823193900931539, -0.005823193900931539, -0.005732911824948105, -0.005732911824948105, -0.005732911824948105, -0.005732911824948105, -0.005732911824948105, -0.005732911824948105, -0.005732911824948105, -0.005732911824948105, -0.005732911824948105, -0.0057780528629398226, -0.005732911824948105, -0.005732911824948105, -0.005732911824948105, -0.0057780528629398226, -0.0057780528629398226, -0.0057780528629398226, -0.0057780528629398226, -0.005732911824948105, -0.0057780528629398226, -0.0057780528629398226, -0.005823193900931539, -0.005823193900931539, -0.005823193900931539, -0.005823193900931539, -0.005823193900931539, -0.005823193900931539, -0.005868334938923257, -0.005868334938923257, -0.005913475976914975, -0.005913475976914975, -0.005913475976914975, -0.0059586170149066925, -0.006003758052898409, -0.006003758052898409, -0.006048899090890126, -0.006094040128881844, -0.006094040128881844, -0.006139181166873561, -0.006184322204865279, -0.006229463242856996, -0.006274604280848714, -0.0063197453188404305, -0.006364886356832147, -0.006364886356832147, -0.006455168432815583, -0.0065003094708073, -0.006545450508799019, -0.006545450508799019, -0.006635732584782452, -0.00668087362277417, -0.006726014660765887, -0.006771155698757604, -0.006861437774741039, -0.006906578812732757, -0.006906578812732757, -0.006951719850724474, -0.007042001926707908, -0.007087142964699625, -0.007132284002691344, -0.0071774250406830605, -0.007222566078674778, -0.007222566078674778]}, {\"mode\": \"lines\", \"name\": \"Overlay\", \"type\": \"scatter\", \"x\": [300, 301, 302, 303, 304, 305, 306, 307, 308, 309, 310, 311, 312, 313, 314, 315, 316, 317, 318, 319, 320, 321, 322, 323, 324, 325, 326, 327, 328, 329, 330, 331, 332, 333, 334, 335, 336, 337, 338, 339, 340, 341, 342, 343, 344, 345, 346, 347, 348, 349, 350, 351, 352, 353, 354, 355, 356, 357, 358, 359, 360, 361, 362, 363, 364, 365, 366, 367, 368, 369, 370, 371, 372, 373, 374, 375, 376, 377, 378, 379, 380, 381, 382, 383, 384, 385, 386, 387, 388, 389, 390, 391, 392, 393, 394, 395, 396, 397, 398, 399, 400, 401, 402, 403, 404, 405, 406, 407, 408, 409, 410, 411, 412, 413, 414, 415, 416, 417, 418, 419, 420, 421, 422, 423, 424, 425, 426, 427, 428, 429, 430, 431, 432, 433, 434, 435, 436, 437, 438, 439, 440, 441, 442, 443, 444, 445, 446, 447, 448, 449, 450, 451, 452, 453, 454, 455, 456, 457, 458, 459, 460, 461, 462, 463, 464, 465, 466, 467, 468, 469, 470, 471, 472, 473, 474, 475, 476, 477, 478, 479, 480, 481, 482, 483, 484, 485, 486, 487, 488, 489, 490, 491, 492, 493, 494, 495, 496, 497, 498, 499, 500, 501, 502, 503, 504, 505, 506, 507, 508, 509, 510, 511, 512, 513, 514, 515, 516, 517, 518, 519, 520, 521, 522, 523, 524, 525, 526, 527, 528, 529, 530, 531, 532, 533, 534, 535, 536, 537, 538, 539, 540, 541, 542, 543, 544, 545, 546, 547, 548, 549, 550, 551, 552, 553, 554, 555, 556, 557, 558, 559, 560, 561, 562, 563, 564, 565, 566, 567, 568, 569, 570, 571, 572, 573, 574, 575, 576, 577, 578, 579, 580, 581, 582, 583, 584, 585, 586, 587, 588, 589, 590, 591, 592, 593, 594, 595, 596, 597, 598, 599, 600, 601, 602, 603, 604, 605, 606, 607, 608, 609, 610, 611, 612, 613, 614, 615, 616, 617, 618, 619, 620, 621, 622, 623, 624, 625, 626, 627, 628, 629, 630, 631, 632, 633, 634, 635, 636, 637, 638, 639, 640, 641, 642, 643, 644, 645, 646, 647, 648, 649, 650, 651, 652, 653, 654, 655, 656, 657, 658, 659, 660, 661, 662, 663, 664, 665, 666, 667, 668, 669, 670, 671, 672, 673, 674, 675, 676, 677, 678, 679, 680, 681, 682, 683, 684, 685, 686, 687, 688, 689, 690, 691, 692, 693, 694, 695, 696, 697, 698, 699, 700, 701, 702, 703, 704, 705, 706, 707, 708, 709, 710, 711, 712, 713, 714, 715, 716, 717, 718, 719, 720, 721, 722, 723, 724, 725, 726, 727, 728, 729, 730, 731, 732, 733, 734, 735, 736, 737, 738, 739, 740, 741, 742, 743, 744, 745, 746, 747, 748, 749, 750, 751, 752, 753, 754, 755, 756, 757, 758, 759, 760, 761, 762, 763, 764, 765, 766, 767, 768, 769, 770, 771, 772, 773, 774, 775, 776, 777, 778, 779, 780, 781, 782, 783, 784, 785, 786, 787, 788, 789, 790, 791, 792, 793, 794, 795, 796, 797, 798, 799, 800], \"y\": [0.028575263953832315, 0.02349216706737016, 0.019193265356391948, 0.01562155522447092, 0.0120996045220385, 0.009625767635794997, 0.007845843849052002, 0.006771695720244561, 0.005951912869455496, 0.00548863993110328, 0.005526853381849669, 0.005519925794604337, 0.005995377871084414, 0.0065350777109294015, 0.007343314582976248, 0.007780869788402761, 0.008888612976459702, 0.009694540652758106, 0.010208206179984568, 0.010976236985229407, 0.011282987468177658, 0.012108338449542075, 0.012662526623263368, 0.013276027589159863, 0.013934669593048078, 0.014738288073598036, 0.015541906554147996, 0.016502364069794745, 0.017441405664319856, 0.018960353165491963, 0.020106309804295293, 0.021546837787919007, 0.02303019761378599, 0.02487006735208983, 0.026286870218843465, 0.027446998611830274, 0.028452597165468746, 0.029027884680618843, 0.029056544768678645, 0.0288235954117819, 0.027708924636479622, 0.026587009694239203, 0.025075306360005246, 0.023285512630882837, 0.02173097745440561, 0.02047825778968692, 0.018845303095661292, 0.01755699575563749, 0.01635666129584866, 0.015268024833164912, 0.014493066440674747, 0.013682520372879453, 0.012781692229100724, 0.012272961673063973, 0.011740506000157138, 0.011507556643260404, 0.010570824244483728, 0.0102594553700386, 0.00976983153937504, 0.009617610895775137, 0.009432111772618556, 0.009199162415721815, 0.008913827853895205, 0.00850262354078004, 0.008295708496501825, 0.007977095455118535, 0.007446948977960145, 0.006805104503696683, 0.006308236506094973, 0.005576109955848077, 0.004832120847166138, 0.004156997893345999, 0.003717133492171046, 0.003175124456577614, 0.0028446488567592815, 0.002335918300722533, 0.0021290032564443163, 0.002033786209271171, 0.0017247265305744804, 0.0014252202145643876, 0.0011827174949810499, 0.0009187988542760763, 0.000709574614249418, 0.00037909901443108993, 3.6760856177722734e-05, -0.0002485737056488876, -0.00044362619149206344, -0.0009072157095370986, -0.0015750944964190855, -0.0020386840144641215, -0.002098313386332146, -0.002169805316635209, -0.002771127144403841, -0.003182331457519007, -0.0035032536946507375, -0.003420215785605457, -0.003201754762585022, -0.0031875830084015385, -0.0034442574821683595, -0.003577371400395068, -0.0036083406842033015, -0.003370772935809674, -0.003166483666972723, -0.0027602143250472673, -0.0025226465766536406, -0.0025107840182186005, -0.0021615182727199016, -0.0017101078928027284, -0.001315701109312312, -0.0009427102469435327, -0.0004580213874696823, 7.180850999588583e-05, 0.0005232188899130598, 0.0008724846354117582, 0.001098189825370345, 0.0016922674862008239, 0.0022339599421014322, 0.003079777105509022, 0.003868590672489854, 0.004578984721922291, 0.005458080364886558, 0.006337176007850826, 0.007330278843668606, 0.00831151912105135, 0.009528017951079274, 0.010813382935968997, 0.012053606882867003, 0.013362696984626806, 0.01481676356304836, 0.016315971179461628, 0.018086025023825204, 0.01979907527176202, 0.02162613271255235, 0.02351974711245603, 0.025380083032803046, 0.027499402622665318, 0.02961872221252759, 0.03200888803034016, 0.03425176817574255, 0.03655165191757169, 0.039312499402004604, 0.0417478062578089, 0.044655939414652006, 0.04746192793707664, 0.05067418580142671, 0.05376288311023669, 0.057098701530126895, 0.060783785695515784, 0.06449259497777476, 0.06879779111661267, 0.07284400358593529, 0.07718247820432987, 0.08223134687215689, 0.08689767131492854, 0.09239795036267272, 0.0976273831824666, 0.10335336742016937, 0.1090674890994371, 0.11540172275215385, 0.1210825659518649, 0.12699866770422114, 0.13363702606444486, 0.13951984933724443, 0.1459990594666229, 0.15191516121897913, 0.15805465896554552, 0.1633269236275827, 0.1686206042107415, 0.17401412023257032, 0.17866396372541002, 0.18367262632643502, 0.18801603591601934, 0.19266126101736214, 0.19687880085565784, 0.2017260060300892, 0.2062120829005868, 0.21172223189071038, 0.21706367928730216, 0.22341733624508492, 0.23005370198925304, 0.23708447451691156, 0.24548858490969477, 0.2539948399368965, 0.2638411543496662, 0.2731148070227271, 0.28414434178596804, 0.29446579169552506, 0.305699615727603, 0.3163821939410937, 0.327886864201122, 0.3378946360404854, 0.348757778405943, 0.35779617252635865, 0.3665851363399457, 0.37353748935005593, 0.3795395713665915, 0.38291622901266936, 0.3848556176099504, 0.38401043360592846, 0.3806350422786219, 0.3748671759377543, 0.3657447010313161, 0.35493059179806286, 0.3401727313095982, 0.3247377552512577, 0.3060361435075817, 0.2873108066470357, 0.2658368014401845, 0.2464511465393874, 0.2250130455875342, 0.20648769618402102, 0.18819067774590764, 0.1729965283707878, 0.15884093944917022, 0.14856023562790216, 0.1394963472163549, 0.13341638570375786, 0.12906627196872236, 0.126740260776376, 0.1256024049056906, 0.12568304048108878, 0.12661673738683266, 0.12801108145548748, 0.12972372198583282, 0.13161199169695526, 0.133219545237748, 0.13472001917293258, 0.13580435382381223, 0.1366794642346653, 0.1371812672034567, 0.1373621479351164, 0.1372672474676361, 0.1369964012396858, 0.13660430365194381, 0.1361907901430802, 0.1358438335933299, 0.13573213559622485, 0.13572982640047643, 0.13597232912005977, 0.13673773414986332, 0.13771236341969356, 0.139198032441309, 0.14094992929937783, 0.1434006742281369, 0.14632918042912452, 0.14945735750745212, 0.15347219097537504, 0.15749888700173298, 0.16243596453455622, 0.1675608503862845, 0.17358425518604306, 0.1800735586995951, 0.1867292546109305, 0.1943167479498529, 0.20097244386118832, 0.20573126643779313, 0.22058994927000308, 0.22893098508029402, 0.23861502263128703, 0.24715572931891805, 0.25619561319989914, 0.26488129636419183, 0.2718032201119807, 0.27782662491173926, 0.2825854474883441, 0.2868118143920421, 0.2893077003587929, 0.2900065484294831, 0.28847573836987594, 0.2852477258528783, 0.2795571058486865, 0.2717699416324241, 0.2630842584681313, 0.2515817670999561, 0.23983446381644902, 0.2261237302390981, 0.2110153005203667, 0.19698364470588398, 0.18164226563025582, 0.16580170936127753, 0.15172491250880304, 0.13712752254185684, 0.12258482697558894, 0.11028365209805346, 0.09785891666497785, 0.08698871640837948, 0.07597353967511933, 0.06618966668545627, 0.057748795436495325, 0.04946245402688272, 0.04224102396308378, 0.03612964628309023, 0.030106241483331665, 0.024959939710481757, 0.020600458888557056, 0.016440648943972416, 0.012891714189843, 0.00986337255018538, 0.00701328586674619, 0.004629097897100478, 0.002599110644143173, 0.0006689588298559, -0.0009165456304295622, -0.002314241771810001, -0.0035788239949637313, -0.0046437353407774, -0.005542254288807682, -0.006374216277724611, -0.007106342827971506, -0.007626935942443302, -0.008204532653341852, -0.008670431367135332, -0.009069773121815457, -0.009402557917382228, -0.009668785753835646, -0.009901735110732385, -0.010022986470524055, -0.01018937886830744, -0.01032249278653415, -0.01042232822520418, -0.010522163663874212, -0.010588720622987565, -0.01065527758210092, -0.010721834541214274, -0.010755113020770951, -0.010776528941892589, -0.010809807421449266, -0.010843085901005942, -0.010909642860119296, -0.010942921339675973, -0.011009478298789328, -0.011076035257902682, -0.011142592217016037, -0.011164008138137673, -0.01119728661769435, -0.011263843576807705, -0.011297122056364382, -0.01131853797748602, -0.011351816457042696, -0.01143023597459109, -0.011418373416156051, -0.011451651895712728, -0.011518208854826082, -0.011518208854826082, -0.01155148733438276, -0.011584765813939437, -0.011584765813939437, -0.011618044293496114, -0.011606181735061071, -0.011606181735061071, -0.011606181735061071, -0.011606181735061071, -0.011561040697069353, -0.011606181735061071, -0.011561040697069353, -0.011515899659077636, -0.011515899659077636, -0.011515899659077636, -0.011515899659077636, -0.011515899659077636, -0.011515899659077636, -0.011549178138634313, -0.011504037100642597, -0.011504037100642597, -0.011549178138634313, -0.011515899659077636, -0.01147075862108592, -0.011482621179520959, -0.011482621179520959, -0.011437480141529243, -0.011437480141529243, -0.011437480141529243, -0.011515899659077636, -0.011515899659077636, -0.011515899659077636, -0.011515899659077636, -0.01147075862108592, -0.01147075862108592, -0.01147075862108592, -0.01147075862108592, -0.011549178138634313, -0.011549178138634313, -0.011504037100642597, -0.011537315580199273, -0.011537315580199273, -0.011458896062650879, -0.011458896062650879, -0.011458896062650879, -0.011458896062650879, -0.011458896062650879, -0.011413755024659161, -0.011368613986667445, -0.011368613986667445, -0.011368613986667445, -0.011323472948675728, -0.011323472948675728, -0.011245053431127333, -0.011199912393135617, -0.011233190872692294, -0.0111547713551439, -0.011076351837595505, -0.011031210799603786, -0.011031210799603786, -0.010986069761612068, -0.010907650244063675, -0.010907650244063675, -0.01082923072651528, -0.010772227130088524, -0.010772227130088524, -0.010648666574548412, -0.010615388094991733, -0.010525106019008298, -0.010468102422581541, -0.010389682905033146, -0.010299400829049711, -0.010287538270614672, -0.010163977715074558, -0.010073695639091124, -0.00998341356310769, -0.009893131487124255, -0.00980284941114082, -0.009712567335157386, -0.009622285259173951, -0.009532003183190517, -0.009441721107207082, -0.009306297993231929, -0.009170874879256777, -0.008990310727289908, -0.008843025054879718, -0.008662460902912845, -0.008481896750945978, -0.008301332598979107, -0.008120768447012238, -0.007985345333037087, -0.007895063257053652, -0.00669074356515359, -0.006600461489170154, -0.0065553204511784365, -0.0065553204511784365, -0.006465038375195001, -0.006498316854751679, -0.006465038375195001, -0.006431759895638324, -0.006431759895638324, -0.006431759895638324, -0.006465038375195001, -0.006431759895638324, -0.006398481416081648, -0.006443622454073365, -0.00636520293652497, -0.00636520293652497, -0.006298645977411616, -0.006310508535846656, -0.006310508535846656, -0.00627723005628998, -0.006243951576733302, -0.006132253579628231, -0.006144116138063271, -0.006110837658506594, -0.006122700216941633, -0.0060561432578282795, -0.005989586298714925, -0.005989586298714925, -0.005956307819158248, -0.005923029339601571, -0.0059348918980366115, -0.0059348918980366115, -0.0059467544564716516, -0.005913475976914975, -0.005880197497358298, -0.005892060055793338, -0.005937201093785055, -0.005937201093785055, -0.005982342131776772, -0.0059942046902118126, -0.006027483169768489, -0.006072624207760206, -0.006084486766195248, -0.006129627804186965, -0.0061747688421786824, -0.006219909880170399, -0.006265050918162116, -0.006298329397718793, -0.0063553329941455515, -0.006433752511693946, -0.006445615070128988, -0.0064788935496856645, -0.0065358971461124205, -0.006581038184104139, -0.006626179222095856, -0.0067045987396442495, -0.006761602336071008, -0.006806743374062726, -0.006806743374062726, -0.006851884412054443, -0.006942166488037877, -0.006954029046472916, -0.006999170084464635, -0.007044311122456352, -0.007122730640004747, -0.007122730640004747]}, {\"mode\": \"lines\", \"name\": \"Ca GSC\", \"type\": \"scatter\", \"x\": [300, 301, 302, 303, 304, 305, 306, 307, 308, 309, 310, 311, 312, 313, 314, 315, 316, 317, 318, 319, 320, 321, 322, 323, 324, 325, 326, 327, 328, 329, 330, 331, 332, 333, 334, 335, 336, 337, 338, 339, 340, 341, 342, 343, 344, 345, 346, 347, 348, 349, 350, 351, 352, 353, 354, 355, 356, 357, 358, 359, 360, 361, 362, 363, 364, 365, 366, 367, 368, 369, 370, 371, 372, 373, 374, 375, 376, 377, 378, 379, 380, 381, 382, 383, 384, 385, 386, 387, 388, 389, 390, 391, 392, 393, 394, 395, 396, 397, 398, 399, 400, 401, 402, 403, 404, 405, 406, 407, 408, 409, 410, 411, 412, 413, 414, 415, 416, 417, 418, 419, 420, 421, 422, 423, 424, 425, 426, 427, 428, 429, 430, 431, 432, 433, 434, 435, 436, 437, 438, 439, 440, 441, 442, 443, 444, 445, 446, 447, 448, 449, 450, 451, 452, 453, 454, 455, 456, 457, 458, 459, 460, 461, 462, 463, 464, 465, 466, 467, 468, 469, 470, 471, 472, 473, 474, 475, 476, 477, 478, 479, 480, 481, 482, 483, 484, 485, 486, 487, 488, 489, 490, 491, 492, 493, 494, 495, 496, 497, 498, 499, 500, 501, 502, 503, 504, 505, 506, 507, 508, 509, 510, 511, 512, 513, 514, 515, 516, 517, 518, 519, 520, 521, 522, 523, 524, 525, 526, 527, 528, 529, 530, 531, 532, 533, 534, 535, 536, 537, 538, 539, 540, 541, 542, 543, 544, 545, 546, 547, 548, 549, 550, 551, 552, 553, 554, 555, 556, 557, 558, 559, 560, 561, 562, 563, 564, 565, 566, 567, 568, 569, 570, 571, 572, 573, 574, 575, 576, 577, 578, 579, 580, 581, 582, 583, 584, 585, 586, 587, 588, 589, 590, 591, 592, 593, 594, 595, 596, 597, 598, 599, 600, 601, 602, 603, 604, 605, 606, 607, 608, 609, 610, 611, 612, 613, 614, 615, 616, 617, 618, 619, 620, 621, 622, 623, 624, 625, 626, 627, 628, 629, 630, 631, 632, 633, 634, 635, 636, 637, 638, 639, 640, 641, 642, 643, 644, 645, 646, 647, 648, 649, 650, 651, 652, 653, 654, 655, 656, 657, 658, 659, 660, 661, 662, 663, 664, 665, 666, 667, 668, 669, 670, 671, 672, 673, 674, 675, 676, 677, 678, 679, 680, 681, 682, 683, 684, 685, 686, 687, 688, 689, 690, 691, 692, 693, 694, 695, 696, 697, 698, 699, 700, 701, 702, 703, 704, 705, 706, 707, 708, 709, 710, 711, 712, 713, 714, 715, 716, 717, 718, 719, 720, 721, 722, 723, 724, 725, 726, 727, 728, 729, 730, 731, 732, 733, 734, 735, 736, 737, 738, 739, 740, 741, 742, 743, 744, 745, 746, 747, 748, 749, 750, 751, 752, 753, 754, 755, 756, 757, 758, 759, 760, 761, 762, 763, 764, 765, 766, 767, 768, 769, 770, 771, 772, 773, 774, 775, 776, 777, 778, 779, 780, 781, 782, 783, 784, 785, 786, 787, 788, 789, 790, 791, 792, 793, 794, 795, 796, 797, 798, 799, 800], \"y\": [0.0659513590844063, 0.060658082975679546, 0.05550786838340487, 0.05107296137339056, 0.04735336194563662, 0.04449213161659514, 0.04277539341917024, 0.04077253218884121, 0.03977110157367668, 0.03891273247496423, 0.03891273247496423, 0.03819742489270387, 0.03834048640915594, 0.03862660944206009, 0.039055793991416315, 0.039055793991416315, 0.03934191702432046, 0.03962804005722461, 0.04005722460658084, 0.040486409155937056, 0.04034334763948498, 0.040200286123032905, 0.040486409155937056, 0.040486409155937056, 0.04062947067238913, 0.04077253218884121, 0.04148783977110158, 0.041917024320457796, 0.04220314735336195, 0.04306151645207439, 0.04349070100143062, 0.04477825464949929, 0.04592274678111588, 0.04692417739628041, 0.04792560801144493, 0.0486409155937053, 0.048927038626609444, 0.049213161659513595, 0.048927038626609444, 0.048497854077253225, 0.04706723891273248, 0.04592274678111588, 0.04477825464949929, 0.042632331902718174, 0.04105865522174535, 0.039484978540772535, 0.03791130185979971, 0.03676680972818312, 0.035622317596566526, 0.03476394849785408, 0.034191702432045785, 0.032904148783977114, 0.032474964234620894, 0.03175965665236052, 0.03175965665236052, 0.03133047210300429, 0.03090128755364807, 0.03090128755364807, 0.030758226037195992, 0.03061516452074392, 0.0301859799713877, 0.029899856938483547, 0.030042918454935626, 0.02889842632331903, 0.02918454935622318, 0.028469241773962806, 0.02804005722460658, 0.02804005722460658, 0.027181688125894134, 0.026609442060085836, 0.02603719599427754, 0.025608011444921315, 0.025035765379113024, 0.024463519313304722, 0.02417739628040057, 0.0240343347639485, 0.023748211731044352, 0.023462088698140204, 0.02317596566523605, 0.02317596566523605, 0.022889842632331906, 0.022889842632331906, 0.02260371959942776, 0.022317596566523604, 0.02188841201716738, 0.02174535050071531, 0.02145922746781116, 0.021030042918454936, 0.020600858369098713, 0.020314735336194566, 0.019742489270386267, 0.019599427753934192, 0.019313304721030045, 0.018884120171673822, 0.018741058655221746, 0.01859799713876967, 0.018311874105865523, 0.018311874105865523, 0.018311874105865523, 0.018311874105865523, 0.018311874105865523, 0.018311874105865523, 0.0184549356223176, 0.018311874105865523, 0.01859799713876967, 0.0184549356223176, 0.01859799713876967, 0.018884120171673822, 0.019027181688125894, 0.019313304721030045, 0.019599427753934192, 0.019742489270386267, 0.02002861230329042, 0.02017167381974249, 0.020314735336194566, 0.021602288984263234, 0.022031473533619457, 0.02246065808297568, 0.022889842632331906, 0.023462088698140204, 0.0240343347639485, 0.025035765379113024, 0.025464949928469243, 0.026466380543633764, 0.02732474964234621, 0.028326180257510734, 0.029470672389127327, 0.030758226037195992, 0.03190271816881259, 0.03333333333333334, 0.034620886981402005, 0.03619456366237482, 0.03791130185979971, 0.03962804005722461, 0.041201716738197426, 0.04320457796852647, 0.04520743919885552, 0.04721030042918455, 0.049213161659513595, 0.05135908440629471, 0.054077253218884125, 0.05636623748211731, 0.05908440629470673, 0.06180257510729614, 0.0648068669527897, 0.06781115879828327, 0.07067238912732475, 0.07439198855507868, 0.07782546494992847, 0.08197424892703863, 0.08569384835479257, 0.08984263233190272, 0.0945636623748212, 0.09914163090128757, 0.1044349070100143, 0.10944206008583691, 0.11487839771101574, 0.12031473533619456, 0.1263233190271817, 0.13175965665236053, 0.13733905579399142, 0.14377682403433478, 0.1493562231759657, 0.15550786838340488, 0.1609442060085837, 0.16666666666666669, 0.17181688125894135, 0.17682403433476396, 0.18183118741058654, 0.18612303290414878, 0.1907010014306152, 0.19484978540772532, 0.19928469241773966, 0.20329041487839772, 0.20772532188841203, 0.2118741058655222, 0.21716738197424892, 0.22231759656652364, 0.22832618025751072, 0.23462088698140202, 0.2414878397711016, 0.24949928469241775, 0.2575107296137339, 0.2670958512160229, 0.2759656652360515, 0.28640915593705296, 0.296137339055794, 0.30701001430615166, 0.317167381974249, 0.3280400572246066, 0.33748211731044353, 0.3476394849785408, 0.3560801144492132, 0.36423462088698144, 0.3705293276108727, 0.3759656652360515, 0.3791130185979972, 0.3804005722460659, 0.3792560801144492, 0.3755364806866953, 0.36952789699570815, 0.36037195994277543, 0.34964234620886986, 0.3351931330472103, 0.32002861230329044, 0.301859799713877, 0.28354792560801145, 0.26280400572246065, 0.24391988555078686, 0.2233190271816881, 0.2055793991416309, 0.18783977110157368, 0.17339055793991417, 0.1597997138769671, 0.14992846924177397, 0.14120171673819742, 0.13562231759656654, 0.13147353361945638, 0.1291845493562232, 0.1280400572246066, 0.12818311874105867, 0.12904148783977112, 0.1301859799713877, 0.13175965665236053, 0.1334763948497854, 0.13490701001430616, 0.1363376251788269, 0.13733905579399142, 0.13819742489270387, 0.13848354792560802, 0.1386266094420601, 0.1386266094420601, 0.13819742489270387, 0.13791130185979972, 0.13748211731044352, 0.13705293276108726, 0.1369098712446352, 0.1369098712446352, 0.13719599427753934, 0.13776824034334764, 0.1386266094420601, 0.13991416309012877, 0.14148783977110158, 0.14377682403433478, 0.1463519313304721, 0.1492131616595136, 0.15278969957081548, 0.15650929899856938, 0.16080114449213162, 0.165379113018598, 0.1709585121602289, 0.17696709585121603, 0.18297567954220317, 0.18984263233190274, 0.196137339055794, 0.2002861230329042, 0.21373390557939917, 0.22160228898426326, 0.23061516452074396, 0.2386266094420601, 0.24706723891273247, 0.2555078683834049, 0.26223175965665235, 0.26852646638054367, 0.2735336194563663, 0.2778254649499285, 0.28025751072961375, 0.2809728183118741, 0.27968526466380544, 0.276824034334764, 0.2715307582260372, 0.2642346208869814, 0.25622317596566524, 0.24535050071530762, 0.23433476394849787, 0.22145922746781116, 0.20743919885550788, 0.19427753934191705, 0.17982832618025754, 0.16509298998569386, 0.15193133047210303, 0.13834048640915594, 0.12489270386266095, 0.113447782546495, 0.10200286123032905, 0.09184549356223176, 0.08154506437768241, 0.07253218884120173, 0.0648068669527897, 0.05693848354792561, 0.05035765379113019, 0.04463519313304721, 0.039198855507868384, 0.034334763948497854, 0.030329041487839773, 0.026466380543633764, 0.02317596566523605, 0.020314735336194566, 0.017739628040057225, 0.01559370529327611, 0.013733905579399141, 0.011874105865522176, 0.010300429184549357, 0.009155937052932762, 0.008011444921316167, 0.007010014306151645, 0.006151645207439199, 0.005436337625178827, 0.004864091559370529, 0.004291845493562232, 0.003862660944206009, 0.0034334763948497852, 0.0030042918454935624, 0.0027181688125894137, 0.0024320457796852646, 0.002145922746781116, 0.0020028612303290417, 0.0018597997138769672, 0.0015736766809728185, 0.0015736766809728185, 0.0014306151645207441, 0.0012875536480686696, 0.0012875536480686696, 0.0011444921316165952, 0.0010014306151645209, 0.0010014306151645209, 0.0010014306151645209, 0.0008583690987124463, 0.0008583690987124463, 0.0008583690987124463, 0.0007153075822603721, 0.0007153075822603721, 0.0007153075822603721, 0.0007153075822603721, 0.0007153075822603721, 0.0007153075822603721, 0.0005722460658082976, 0.0005722460658082976, 0.0005722460658082976, 0.0005722460658082976, 0.0005722460658082976, 0.0005722460658082976, 0.0005722460658082976, 0.0005722460658082976, 0.0005722460658082976, 0.00042918454935622315, 0.00042918454935622315, 0.00042918454935622315, 0.0005722460658082976, 0.00042918454935622315, 0.0005722460658082976, 0.00042918454935622315, 0.00042918454935622315, 0.00042918454935622315, 0.00042918454935622315, 0.00042918454935622315, 0.00042918454935622315, 0.00042918454935622315, 0.00042918454935622315, 0.00042918454935622315, 0.0002861230329041488, 0.00042918454935622315, 0.00042918454935622315, 0.00042918454935622315, 0.0002861230329041488, 0.0002861230329041488, 0.0002861230329041488, 0.0002861230329041488, 0.0002861230329041488, 0.00042918454935622315, 0.00042918454935622315, 0.00042918454935622315, 0.0002861230329041488, 0.0002861230329041488, 0.0002861230329041488, 0.0002861230329041488, 0.00042918454935622315, 0.0002861230329041488, 0.0002861230329041488, 0.0002861230329041488, 0.0002861230329041488, 0.0002861230329041488, 0.0002861230329041488, 0.0002861230329041488, 0.0002861230329041488, 0.0002861230329041488, 0.0002861230329041488, 0.0002861230329041488, 0.0002861230329041488, 0.0002861230329041488, 0.0002861230329041488, 0.0002861230329041488, 0.0002861230329041488, 0.0002861230329041488, 0.0001430615164520744, 0.0001430615164520744, 0.0001430615164520744, 0.0002861230329041488, 0.0001430615164520744, 0.0001430615164520744, 0.0001430615164520744, 0.0001430615164520744, 0.0001430615164520744, 0.0001430615164520744, 0.0001430615164520744, 0.0, 0.0001430615164520744, 0.0001430615164520744, 0.0001430615164520744, 0.0, 0.0, 0.0, 0.0, 0.0, 0.0, -0.0001430615164520744, -0.0001430615164520744, -0.0001430615164520744, -0.0001430615164520744, -0.0001430615164520744, -0.0002861230329041488, -0.0002861230329041488, -0.0002861230329041488, -0.0002861230329041488, -0.0002861230329041488, -0.0002861230329041488, -0.00042918454935622315, -0.00042918454935622315, -0.00042918454935622315, -0.00042918454935622315, -0.0005722460658082976, -0.0007153075822603721, -0.0005722460658082976, -0.0007153075822603721, -0.0007153075822603721, -0.0020028612303290417, -0.0020028612303290417, -0.0020028612303290417, -0.0020028612303290417, -0.0020028612303290417, -0.0018597997138769672, -0.002145922746781116, -0.0020028612303290417, -0.0020028612303290417, -0.0020028612303290417, -0.0020028612303290417, -0.0020028612303290417, -0.0020028612303290417, -0.0020028612303290417, -0.0020028612303290417, -0.0018597997138769672, -0.0018597997138769672, -0.0018597997138769672, -0.0018597997138769672, -0.0018597997138769672, -0.0018597997138769672, -0.0018597997138769672, -0.0017167381974248926, -0.0017167381974248926, -0.0017167381974248926, -0.0017167381974248926, -0.0017167381974248926, -0.0017167381974248926, -0.0015736766809728185, -0.0015736766809728185, -0.0015736766809728185, -0.0015736766809728185, -0.0015736766809728185, -0.0015736766809728185, -0.0015736766809728185, -0.0015736766809728185, -0.0015736766809728185, -0.0015736766809728185, -0.0015736766809728185, -0.0014306151645207441, -0.0014306151645207441, -0.0014306151645207441, -0.0014306151645207441, -0.0014306151645207441, -0.0014306151645207441, -0.0014306151645207441, -0.0014306151645207441, -0.0012875536480686696, -0.0014306151645207441, -0.0014306151645207441, -0.0014306151645207441, -0.0012875536480686696, -0.0014306151645207441, -0.0014306151645207441, -0.0014306151645207441, -0.0014306151645207441, -0.0014306151645207441, -0.0012875536480686696, -0.0012875536480686696, -0.0012875536480686696, -0.0014306151645207441, -0.0012875536480686696, -0.0012875536480686696, -0.0014306151645207441, -0.0014306151645207441, -0.0014306151645207441]}],\n",
              "                        {\"template\": {\"data\": {\"bar\": [{\"error_x\": {\"color\": \"#2a3f5f\"}, \"error_y\": {\"color\": \"#2a3f5f\"}, \"marker\": {\"line\": {\"color\": \"#E5ECF6\", \"width\": 0.5}}, \"type\": \"bar\"}], \"barpolar\": [{\"marker\": {\"line\": {\"color\": \"#E5ECF6\", \"width\": 0.5}}, \"type\": \"barpolar\"}], \"carpet\": [{\"aaxis\": {\"endlinecolor\": \"#2a3f5f\", \"gridcolor\": \"white\", \"linecolor\": \"white\", \"minorgridcolor\": \"white\", \"startlinecolor\": \"#2a3f5f\"}, \"baxis\": {\"endlinecolor\": \"#2a3f5f\", \"gridcolor\": \"white\", \"linecolor\": \"white\", \"minorgridcolor\": \"white\", \"startlinecolor\": \"#2a3f5f\"}, \"type\": \"carpet\"}], \"choropleth\": [{\"colorbar\": {\"outlinewidth\": 0, \"ticks\": \"\"}, \"type\": \"choropleth\"}], \"contour\": [{\"colorbar\": {\"outlinewidth\": 0, \"ticks\": \"\"}, \"colorscale\": [[0.0, \"#0d0887\"], [0.1111111111111111, \"#46039f\"], [0.2222222222222222, \"#7201a8\"], [0.3333333333333333, \"#9c179e\"], [0.4444444444444444, \"#bd3786\"], [0.5555555555555556, \"#d8576b\"], [0.6666666666666666, \"#ed7953\"], [0.7777777777777778, \"#fb9f3a\"], [0.8888888888888888, \"#fdca26\"], [1.0, \"#f0f921\"]], \"type\": \"contour\"}], \"contourcarpet\": [{\"colorbar\": {\"outlinewidth\": 0, \"ticks\": \"\"}, \"type\": \"contourcarpet\"}], \"heatmap\": [{\"colorbar\": {\"outlinewidth\": 0, \"ticks\": \"\"}, \"colorscale\": [[0.0, \"#0d0887\"], [0.1111111111111111, \"#46039f\"], [0.2222222222222222, \"#7201a8\"], [0.3333333333333333, \"#9c179e\"], [0.4444444444444444, \"#bd3786\"], [0.5555555555555556, \"#d8576b\"], [0.6666666666666666, \"#ed7953\"], [0.7777777777777778, \"#fb9f3a\"], [0.8888888888888888, \"#fdca26\"], [1.0, \"#f0f921\"]], \"type\": \"heatmap\"}], \"heatmapgl\": [{\"colorbar\": {\"outlinewidth\": 0, \"ticks\": \"\"}, \"colorscale\": [[0.0, \"#0d0887\"], [0.1111111111111111, \"#46039f\"], [0.2222222222222222, \"#7201a8\"], [0.3333333333333333, \"#9c179e\"], [0.4444444444444444, \"#bd3786\"], [0.5555555555555556, \"#d8576b\"], [0.6666666666666666, \"#ed7953\"], [0.7777777777777778, \"#fb9f3a\"], [0.8888888888888888, \"#fdca26\"], [1.0, \"#f0f921\"]], \"type\": \"heatmapgl\"}], \"histogram\": [{\"marker\": {\"colorbar\": {\"outlinewidth\": 0, \"ticks\": \"\"}}, \"type\": \"histogram\"}], \"histogram2d\": [{\"colorbar\": {\"outlinewidth\": 0, \"ticks\": \"\"}, \"colorscale\": [[0.0, \"#0d0887\"], [0.1111111111111111, \"#46039f\"], [0.2222222222222222, \"#7201a8\"], [0.3333333333333333, \"#9c179e\"], [0.4444444444444444, \"#bd3786\"], [0.5555555555555556, \"#d8576b\"], [0.6666666666666666, \"#ed7953\"], [0.7777777777777778, \"#fb9f3a\"], [0.8888888888888888, \"#fdca26\"], [1.0, \"#f0f921\"]], \"type\": \"histogram2d\"}], \"histogram2dcontour\": [{\"colorbar\": {\"outlinewidth\": 0, \"ticks\": \"\"}, \"colorscale\": [[0.0, \"#0d0887\"], [0.1111111111111111, \"#46039f\"], [0.2222222222222222, \"#7201a8\"], [0.3333333333333333, \"#9c179e\"], [0.4444444444444444, \"#bd3786\"], [0.5555555555555556, \"#d8576b\"], [0.6666666666666666, \"#ed7953\"], [0.7777777777777778, \"#fb9f3a\"], [0.8888888888888888, \"#fdca26\"], [1.0, \"#f0f921\"]], \"type\": \"histogram2dcontour\"}], \"mesh3d\": [{\"colorbar\": {\"outlinewidth\": 0, \"ticks\": \"\"}, \"type\": \"mesh3d\"}], \"parcoords\": [{\"line\": {\"colorbar\": {\"outlinewidth\": 0, \"ticks\": \"\"}}, \"type\": \"parcoords\"}], \"pie\": [{\"automargin\": true, \"type\": \"pie\"}], \"scatter\": [{\"marker\": {\"colorbar\": {\"outlinewidth\": 0, \"ticks\": \"\"}}, \"type\": \"scatter\"}], \"scatter3d\": [{\"line\": {\"colorbar\": {\"outlinewidth\": 0, \"ticks\": \"\"}}, \"marker\": {\"colorbar\": {\"outlinewidth\": 0, \"ticks\": \"\"}}, \"type\": \"scatter3d\"}], \"scattercarpet\": [{\"marker\": {\"colorbar\": {\"outlinewidth\": 0, \"ticks\": \"\"}}, \"type\": \"scattercarpet\"}], \"scattergeo\": [{\"marker\": {\"colorbar\": {\"outlinewidth\": 0, \"ticks\": \"\"}}, \"type\": \"scattergeo\"}], \"scattergl\": [{\"marker\": {\"colorbar\": {\"outlinewidth\": 0, \"ticks\": \"\"}}, \"type\": \"scattergl\"}], \"scattermapbox\": [{\"marker\": {\"colorbar\": {\"outlinewidth\": 0, \"ticks\": \"\"}}, \"type\": \"scattermapbox\"}], \"scatterpolar\": [{\"marker\": {\"colorbar\": {\"outlinewidth\": 0, \"ticks\": \"\"}}, \"type\": \"scatterpolar\"}], \"scatterpolargl\": [{\"marker\": {\"colorbar\": {\"outlinewidth\": 0, \"ticks\": \"\"}}, \"type\": \"scatterpolargl\"}], \"scatterternary\": [{\"marker\": {\"colorbar\": {\"outlinewidth\": 0, \"ticks\": \"\"}}, \"type\": \"scatterternary\"}], \"surface\": [{\"colorbar\": {\"outlinewidth\": 0, \"ticks\": \"\"}, \"colorscale\": [[0.0, \"#0d0887\"], [0.1111111111111111, \"#46039f\"], [0.2222222222222222, \"#7201a8\"], [0.3333333333333333, \"#9c179e\"], [0.4444444444444444, \"#bd3786\"], [0.5555555555555556, \"#d8576b\"], [0.6666666666666666, \"#ed7953\"], [0.7777777777777778, \"#fb9f3a\"], [0.8888888888888888, \"#fdca26\"], [1.0, \"#f0f921\"]], \"type\": \"surface\"}], \"table\": [{\"cells\": {\"fill\": {\"color\": \"#EBF0F8\"}, \"line\": {\"color\": \"white\"}}, \"header\": {\"fill\": {\"color\": \"#C8D4E3\"}, \"line\": {\"color\": \"white\"}}, \"type\": \"table\"}]}, \"layout\": {\"annotationdefaults\": {\"arrowcolor\": \"#2a3f5f\", \"arrowhead\": 0, \"arrowwidth\": 1}, \"coloraxis\": {\"colorbar\": {\"outlinewidth\": 0, \"ticks\": \"\"}}, \"colorscale\": {\"diverging\": [[0, \"#8e0152\"], [0.1, \"#c51b7d\"], [0.2, \"#de77ae\"], [0.3, \"#f1b6da\"], [0.4, \"#fde0ef\"], [0.5, \"#f7f7f7\"], [0.6, \"#e6f5d0\"], [0.7, \"#b8e186\"], [0.8, \"#7fbc41\"], [0.9, \"#4d9221\"], [1, \"#276419\"]], \"sequential\": [[0.0, \"#0d0887\"], [0.1111111111111111, \"#46039f\"], [0.2222222222222222, \"#7201a8\"], [0.3333333333333333, \"#9c179e\"], [0.4444444444444444, \"#bd3786\"], [0.5555555555555556, \"#d8576b\"], [0.6666666666666666, \"#ed7953\"], [0.7777777777777778, \"#fb9f3a\"], [0.8888888888888888, \"#fdca26\"], [1.0, \"#f0f921\"]], \"sequentialminus\": [[0.0, \"#0d0887\"], [0.1111111111111111, \"#46039f\"], [0.2222222222222222, \"#7201a8\"], [0.3333333333333333, \"#9c179e\"], [0.4444444444444444, \"#bd3786\"], [0.5555555555555556, \"#d8576b\"], [0.6666666666666666, \"#ed7953\"], [0.7777777777777778, \"#fb9f3a\"], [0.8888888888888888, \"#fdca26\"], [1.0, \"#f0f921\"]]}, \"colorway\": [\"#636efa\", \"#EF553B\", \"#00cc96\", \"#ab63fa\", \"#FFA15A\", \"#19d3f3\", \"#FF6692\", \"#B6E880\", \"#FF97FF\", \"#FECB52\"], \"font\": {\"color\": \"#2a3f5f\"}, \"geo\": {\"bgcolor\": \"white\", \"lakecolor\": \"white\", \"landcolor\": \"#E5ECF6\", \"showlakes\": true, \"showland\": true, \"subunitcolor\": \"white\"}, \"hoverlabel\": {\"align\": \"left\"}, \"hovermode\": \"closest\", \"mapbox\": {\"style\": \"light\"}, \"paper_bgcolor\": \"white\", \"plot_bgcolor\": \"#E5ECF6\", \"polar\": {\"angularaxis\": {\"gridcolor\": \"white\", \"linecolor\": \"white\", \"ticks\": \"\"}, \"bgcolor\": \"#E5ECF6\", \"radialaxis\": {\"gridcolor\": \"white\", \"linecolor\": \"white\", \"ticks\": \"\"}}, \"scene\": {\"xaxis\": {\"backgroundcolor\": \"#E5ECF6\", \"gridcolor\": \"white\", \"gridwidth\": 2, \"linecolor\": \"white\", \"showbackground\": true, \"ticks\": \"\", \"zerolinecolor\": \"white\"}, \"yaxis\": {\"backgroundcolor\": \"#E5ECF6\", \"gridcolor\": \"white\", \"gridwidth\": 2, \"linecolor\": \"white\", \"showbackground\": true, \"ticks\": \"\", \"zerolinecolor\": \"white\"}, \"zaxis\": {\"backgroundcolor\": \"#E5ECF6\", \"gridcolor\": \"white\", \"gridwidth\": 2, \"linecolor\": \"white\", \"showbackground\": true, \"ticks\": \"\", \"zerolinecolor\": \"white\"}}, \"shapedefaults\": {\"line\": {\"color\": \"#2a3f5f\"}}, \"ternary\": {\"aaxis\": {\"gridcolor\": \"white\", \"linecolor\": \"white\", \"ticks\": \"\"}, \"baxis\": {\"gridcolor\": \"white\", \"linecolor\": \"white\", \"ticks\": \"\"}, \"bgcolor\": \"#E5ECF6\", \"caxis\": {\"gridcolor\": \"white\", \"linecolor\": \"white\", \"ticks\": \"\"}}, \"title\": {\"x\": 0.05}, \"xaxis\": {\"automargin\": true, \"gridcolor\": \"white\", \"linecolor\": \"white\", \"ticks\": \"\", \"title\": {\"standoff\": 15}, \"zerolinecolor\": \"white\", \"zerolinewidth\": 2}, \"yaxis\": {\"automargin\": true, \"gridcolor\": \"white\", \"linecolor\": \"white\", \"ticks\": \"\", \"title\": {\"standoff\": 15}, \"zerolinecolor\": \"white\", \"zerolinewidth\": 2}}}},\n",
              "                        {\"responsive\": true}\n",
              "                    ).then(function(){\n",
              "                            \n",
              "var gd = document.getElementById('082f5a95-06e3-4ff4-9fd5-719e7be6e35b');\n",
              "var x = new MutationObserver(function (mutations, observer) {{\n",
              "        var display = window.getComputedStyle(gd).display;\n",
              "        if (!display || display === 'none') {{\n",
              "            console.log([gd, 'removed!']);\n",
              "            Plotly.purge(gd);\n",
              "            observer.disconnect();\n",
              "        }}\n",
              "}});\n",
              "\n",
              "// Listen for the removal of the full notebook cells\n",
              "var notebookContainer = gd.closest('#notebook-container');\n",
              "if (notebookContainer) {{\n",
              "    x.observe(notebookContainer, {childList: true});\n",
              "}}\n",
              "\n",
              "// Listen for the clearing of the current output cell\n",
              "var outputEl = gd.closest('.output');\n",
              "if (outputEl) {{\n",
              "    x.observe(outputEl, {childList: true});\n",
              "}}\n",
              "\n",
              "                        })\n",
              "                };\n",
              "                \n",
              "            </script>\n",
              "        </div>\n",
              "</body>\n",
              "</html>"
            ]
          },
          "metadata": {}
        }
      ]
    },
    {
      "cell_type": "code",
      "metadata": {
        "colab": {
          "base_uri": "https://localhost:8080/"
        },
        "id": "GJiWPk5xGX0C",
        "outputId": "12a3b41a-a2b3-4e9e-9768-a69d65c6851e"
      },
      "source": [
        "print('The measured curve is', a/(a+b)*100,'% from the acceptor',acceptor_name,'and',b/(a+b)*100,'% from the donar',donar_name)"
      ],
      "execution_count": null,
      "outputs": [
        {
          "output_type": "stream",
          "name": "stdout",
          "text": [
            "The measured curve is 52.45405894169504 % from the acceptor gScarlet and 47.54594105830497 % from the donar mScarlet-I\n"
          ]
        }
      ]
    },
    {
      "cell_type": "code",
      "metadata": {
        "id": "aazpLo8eHvA4",
        "outputId": "90d76728-d821-4ce7-9ee6-f32a38a47453",
        "colab": {
          "base_uri": "https://localhost:8080/"
        }
      },
      "source": [
        "print('The measured curve of',sample_name,'is', a/(a+b)*100,'% from',acceptor_name,'and',b/(a+b)*100,'% from ',donar_name,'. r2=',r2)"
      ],
      "execution_count": null,
      "outputs": [
        {
          "output_type": "stream",
          "name": "stdout",
          "text": [
            "The measured curve of Ca GSC is 52.45405894169504 % from gScarlet and 47.54594105830497 % from  mScarlet-I . r2= 0.9801482915837373\n"
          ]
        }
      ]
    }
  ]
}