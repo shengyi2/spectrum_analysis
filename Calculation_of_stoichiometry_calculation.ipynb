{
  "nbformat": 4,
  "nbformat_minor": 0,
  "metadata": {
    "colab": {
      "name": "Calculation of stoichiometry calculation.ipynb",
      "provenance": [],
      "authorship_tag": "ABX9TyNovpMFLkcC03vDMxLw32bR",
      "include_colab_link": true
    },
    "kernelspec": {
      "name": "python3",
      "display_name": "Python 3"
    }
  },
  "cells": [
    {
      "cell_type": "markdown",
      "metadata": {
        "id": "view-in-github",
        "colab_type": "text"
      },
      "source": [
        "<a href=\"https://colab.research.google.com/github/shengyi2/spectrum_analysis/blob/main/Calculation_of_stoichiometry_calculation.ipynb\" target=\"_parent\"><img src=\"https://colab.research.google.com/assets/colab-badge.svg\" alt=\"Open In Colab\"/></a>"
      ]
    },
    {
      "cell_type": "markdown",
      "metadata": {
        "id": "x6wdcG_IX6-b"
      },
      "source": [
        "\n",
        "\n",
        "```\n",
        "# This is formatted as code\n",
        "```\n",
        "\n",
        "# Open absorbance spectra\n",
        "  - FRET absorbance was previously process with the deconvolution script\n",
        "  - file in csv (script included excel import function in case table is prepared elsewhere)\n",
        "  - the table was prepared such that the columns are row number, wavelength, acceptor, donar, overlay, measured spectra\n",
        "\n",
        " - sample tables are shown below. \n",
        " "
      ]
    },
    {
      "cell_type": "markdown",
      "metadata": {
        "id": "4r-Xh-zwyYmi"
      },
      "source": [
        "|  | wavelength | acceptor | donar |overlay | measured spectra |\n",
        "|---- | ---- | --- | --- | --- | ----|\n",
        "|1 | 350 | 0.1 | 0.8 | 0.9 | 0.92 |\n",
        "|2 | 355 | 0.2 | 0.6 | 0.8| 0.76|\n",
        "|3 | 360 | 0.3 |0.4|0.7|0.72|"
      ]
    },
    {
      "cell_type": "code",
      "metadata": {
        "id": "gHnCALuGiVpx"
      },
      "source": [
        "import pandas as pd"
      ],
      "execution_count": 1,
      "outputs": []
    },
    {
      "cell_type": "code",
      "metadata": {
        "id": "YhR8TCATUfav"
      },
      "source": [
        "# open the file of deconvoluted spectra\n",
        "def import_Colab(variable):\n",
        "  print('Import',variable,'spectrum')\n",
        " \n",
        "  uploaded = files.upload()\n",
        "\n",
        "  for fn in uploaded.keys():\n",
        "    print('User uploaded file \"{name}\" with length {length} bytes'.format(\n",
        "        name=fn, length=len(uploaded[fn])))\n",
        "    # read csv or excel\n",
        "  if '.csv' in fn:\n",
        "    import io\n",
        "    data = pd.read_csv(io.BytesIO(uploaded[fn]))\n",
        "    #data=pd.read_csv(fn,names=['wavelength',variable],dtype={'wavelength':int})\n",
        "  elif '.xls' in fn:\n",
        "    import io\n",
        "    data = pd.read_excel(io.BytesIO(uploaded[fn]))\n",
        "  else:\n",
        "    print('File type not accepted, please rerun and select right file')\n",
        "    return fn \n",
        "  return fn,data"
      ],
      "execution_count": 48,
      "outputs": []
    },
    {
      "cell_type": "code",
      "metadata": {
        "id": "HETKRSctW4n9"
      },
      "source": [
        "  from google.colab import files\n",
        "  "
      ],
      "execution_count": 3,
      "outputs": []
    },
    {
      "cell_type": "markdown",
      "metadata": {
        "id": "4hmuFbbdlzsM"
      },
      "source": [
        "# import spectra on Colab\n",
        "\n",
        "> Indented block\n",
        "\n",
        "\n",
        "\n",
        "\n",
        "> \n",
        "\n"
      ]
    },
    {
      "cell_type": "code",
      "metadata": {
        "id": "iuC8TBSkWsdp",
        "colab": {
          "resources": {
            "http://localhost:8080/nbextensions/google.colab/files.js": {
              "data": "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",
              "ok": true,
              "headers": [
                [
                  "content-type",
                  "application/javascript"
                ]
              ],
              "status": 200,
              "status_text": ""
            }
          },
          "base_uri": "https://localhost:8080/",
          "height": 125
        },
        "outputId": "53706f16-1ea8-49bb-d66a-cad916cecf15"
      },
      "source": [
        "# import FRET spectrum from local drive\n",
        "global fn\n",
        "fn=\"\"\n",
        "FRET_path,FRET_table =import_Colab('FRET')"
      ],
      "execution_count": 481,
      "outputs": [
        {
          "output_type": "stream",
          "name": "stdout",
          "text": [
            "Import FRET spectrum\n"
          ]
        },
        {
          "output_type": "display_data",
          "data": {
            "text/plain": [
              "<IPython.core.display.HTML object>"
            ],
            "text/html": [
              "\n",
              "     <input type=\"file\" id=\"files-7482892a-1030-4850-8b53-44f6acc2f682\" name=\"files[]\" multiple disabled\n",
              "        style=\"border:none\" />\n",
              "     <output id=\"result-7482892a-1030-4850-8b53-44f6acc2f682\">\n",
              "      Upload widget is only available when the cell has been executed in the\n",
              "      current browser session. Please rerun this cell to enable.\n",
              "      </output>\n",
              "      <script src=\"/nbextensions/google.colab/files.js\"></script> "
            ]
          },
          "metadata": {}
        },
        {
          "output_type": "stream",
          "name": "stdout",
          "text": [
            "Saving WELQ swg_processed.csv to WELQ swg_processed.csv\n",
            "User uploaded file \"WELQ swg_processed.csv\" with length 45865 bytes\n"
          ]
        }
      ]
    },
    {
      "cell_type": "code",
      "source": [
        "FRET_path"
      ],
      "metadata": {
        "colab": {
          "base_uri": "https://localhost:8080/",
          "height": 36
        },
        "id": "UfTa3RnRsv1D",
        "outputId": "37abebf1-d491-4cfb-fcae-83441f555a57"
      },
      "execution_count": 495,
      "outputs": [
        {
          "output_type": "execute_result",
          "data": {
            "text/plain": [
              "'WELQ swg_processed.csv'"
            ],
            "application/vnd.google.colaboratory.intrinsic+json": {
              "type": "string"
            }
          },
          "metadata": {},
          "execution_count": 495
        }
      ]
    },
    {
      "cell_type": "markdown",
      "source": [
        "# Lay out table for viewing and calculate stoichiometry"
      ],
      "metadata": {
        "id": "l6QY8nwSs1m8"
      }
    },
    {
      "cell_type": "code",
      "metadata": {
        "colab": {
          "base_uri": "https://localhost:8080/",
          "height": 0
        },
        "id": "mLeBB_64gu2T",
        "outputId": "4b8007d3-3293-4843-826a-97906b49bd21"
      },
      "source": [
        "FRET_table.head()"
      ],
      "execution_count": 482,
      "outputs": [
        {
          "output_type": "execute_result",
          "data": {
            "text/plain": [
              "   Unnamed: 0  wavelength  Acceptor     Donar   Overlay  Measured_curve\n",
              "0           0         300  0.025233  0.048506  0.073739        0.062837\n",
              "1           1         301  0.019615  0.041534  0.061149        0.049473\n",
              "2           2         302  0.014919  0.035558  0.050477        0.038165\n",
              "3           3         303  0.010959  0.030678  0.041636        0.027756\n",
              "4           4         304  0.007643  0.025000  0.032644        0.019147"
            ],
            "text/html": [
              "\n",
              "  <div id=\"df-4517067c-9c1c-41f9-9edd-292e29dd5581\">\n",
              "    <div class=\"colab-df-container\">\n",
              "      <div>\n",
              "<style scoped>\n",
              "    .dataframe tbody tr th:only-of-type {\n",
              "        vertical-align: middle;\n",
              "    }\n",
              "\n",
              "    .dataframe tbody tr th {\n",
              "        vertical-align: top;\n",
              "    }\n",
              "\n",
              "    .dataframe thead th {\n",
              "        text-align: right;\n",
              "    }\n",
              "</style>\n",
              "<table border=\"1\" class=\"dataframe\">\n",
              "  <thead>\n",
              "    <tr style=\"text-align: right;\">\n",
              "      <th></th>\n",
              "      <th>Unnamed: 0</th>\n",
              "      <th>wavelength</th>\n",
              "      <th>Acceptor</th>\n",
              "      <th>Donar</th>\n",
              "      <th>Overlay</th>\n",
              "      <th>Measured_curve</th>\n",
              "    </tr>\n",
              "  </thead>\n",
              "  <tbody>\n",
              "    <tr>\n",
              "      <th>0</th>\n",
              "      <td>0</td>\n",
              "      <td>300</td>\n",
              "      <td>0.025233</td>\n",
              "      <td>0.048506</td>\n",
              "      <td>0.073739</td>\n",
              "      <td>0.062837</td>\n",
              "    </tr>\n",
              "    <tr>\n",
              "      <th>1</th>\n",
              "      <td>1</td>\n",
              "      <td>301</td>\n",
              "      <td>0.019615</td>\n",
              "      <td>0.041534</td>\n",
              "      <td>0.061149</td>\n",
              "      <td>0.049473</td>\n",
              "    </tr>\n",
              "    <tr>\n",
              "      <th>2</th>\n",
              "      <td>2</td>\n",
              "      <td>302</td>\n",
              "      <td>0.014919</td>\n",
              "      <td>0.035558</td>\n",
              "      <td>0.050477</td>\n",
              "      <td>0.038165</td>\n",
              "    </tr>\n",
              "    <tr>\n",
              "      <th>3</th>\n",
              "      <td>3</td>\n",
              "      <td>303</td>\n",
              "      <td>0.010959</td>\n",
              "      <td>0.030678</td>\n",
              "      <td>0.041636</td>\n",
              "      <td>0.027756</td>\n",
              "    </tr>\n",
              "    <tr>\n",
              "      <th>4</th>\n",
              "      <td>4</td>\n",
              "      <td>304</td>\n",
              "      <td>0.007643</td>\n",
              "      <td>0.025000</td>\n",
              "      <td>0.032644</td>\n",
              "      <td>0.019147</td>\n",
              "    </tr>\n",
              "  </tbody>\n",
              "</table>\n",
              "</div>\n",
              "      <button class=\"colab-df-convert\" onclick=\"convertToInteractive('df-4517067c-9c1c-41f9-9edd-292e29dd5581')\"\n",
              "              title=\"Convert this dataframe to an interactive table.\"\n",
              "              style=\"display:none;\">\n",
              "        \n",
              "  <svg xmlns=\"http://www.w3.org/2000/svg\" height=\"24px\"viewBox=\"0 0 24 24\"\n",
              "       width=\"24px\">\n",
              "    <path d=\"M0 0h24v24H0V0z\" fill=\"none\"/>\n",
              "    <path d=\"M18.56 5.44l.94 2.06.94-2.06 2.06-.94-2.06-.94-.94-2.06-.94 2.06-2.06.94zm-11 1L8.5 8.5l.94-2.06 2.06-.94-2.06-.94L8.5 2.5l-.94 2.06-2.06.94zm10 10l.94 2.06.94-2.06 2.06-.94-2.06-.94-.94-2.06-.94 2.06-2.06.94z\"/><path d=\"M17.41 7.96l-1.37-1.37c-.4-.4-.92-.59-1.43-.59-.52 0-1.04.2-1.43.59L10.3 9.45l-7.72 7.72c-.78.78-.78 2.05 0 2.83L4 21.41c.39.39.9.59 1.41.59.51 0 1.02-.2 1.41-.59l7.78-7.78 2.81-2.81c.8-.78.8-2.07 0-2.86zM5.41 20L4 18.59l7.72-7.72 1.47 1.35L5.41 20z\"/>\n",
              "  </svg>\n",
              "      </button>\n",
              "      \n",
              "  <style>\n",
              "    .colab-df-container {\n",
              "      display:flex;\n",
              "      flex-wrap:wrap;\n",
              "      gap: 12px;\n",
              "    }\n",
              "\n",
              "    .colab-df-convert {\n",
              "      background-color: #E8F0FE;\n",
              "      border: none;\n",
              "      border-radius: 50%;\n",
              "      cursor: pointer;\n",
              "      display: none;\n",
              "      fill: #1967D2;\n",
              "      height: 32px;\n",
              "      padding: 0 0 0 0;\n",
              "      width: 32px;\n",
              "    }\n",
              "\n",
              "    .colab-df-convert:hover {\n",
              "      background-color: #E2EBFA;\n",
              "      box-shadow: 0px 1px 2px rgba(60, 64, 67, 0.3), 0px 1px 3px 1px rgba(60, 64, 67, 0.15);\n",
              "      fill: #174EA6;\n",
              "    }\n",
              "\n",
              "    [theme=dark] .colab-df-convert {\n",
              "      background-color: #3B4455;\n",
              "      fill: #D2E3FC;\n",
              "    }\n",
              "\n",
              "    [theme=dark] .colab-df-convert:hover {\n",
              "      background-color: #434B5C;\n",
              "      box-shadow: 0px 1px 3px 1px rgba(0, 0, 0, 0.15);\n",
              "      filter: drop-shadow(0px 1px 2px rgba(0, 0, 0, 0.3));\n",
              "      fill: #FFFFFF;\n",
              "    }\n",
              "  </style>\n",
              "\n",
              "      <script>\n",
              "        const buttonEl =\n",
              "          document.querySelector('#df-4517067c-9c1c-41f9-9edd-292e29dd5581 button.colab-df-convert');\n",
              "        buttonEl.style.display =\n",
              "          google.colab.kernel.accessAllowed ? 'block' : 'none';\n",
              "\n",
              "        async function convertToInteractive(key) {\n",
              "          const element = document.querySelector('#df-4517067c-9c1c-41f9-9edd-292e29dd5581');\n",
              "          const dataTable =\n",
              "            await google.colab.kernel.invokeFunction('convertToInteractive',\n",
              "                                                     [key], {});\n",
              "          if (!dataTable) return;\n",
              "\n",
              "          const docLinkHtml = 'Like what you see? Visit the ' +\n",
              "            '<a target=\"_blank\" href=https://colab.research.google.com/notebooks/data_table.ipynb>data table notebook</a>'\n",
              "            + ' to learn more about interactive tables.';\n",
              "          element.innerHTML = '';\n",
              "          dataTable['output_type'] = 'display_data';\n",
              "          await google.colab.output.renderOutput(dataTable, element);\n",
              "          const docLink = document.createElement('div');\n",
              "          docLink.innerHTML = docLinkHtml;\n",
              "          element.appendChild(docLink);\n",
              "        }\n",
              "      </script>\n",
              "    </div>\n",
              "  </div>\n",
              "  "
            ]
          },
          "metadata": {},
          "execution_count": 482
        }
      ]
    },
    {
      "cell_type": "code",
      "source": [
        "concat_table=FRET_table"
      ],
      "metadata": {
        "id": "fgYNEXSRh4Gz"
      },
      "execution_count": 483,
      "outputs": []
    },
    {
      "cell_type": "code",
      "metadata": {
        "colab": {
          "base_uri": "https://localhost:8080/",
          "height": 0
        },
        "id": "16d9yfDtxrcU",
        "outputId": "931b0a44-3242-4ba7-f094-4a482a9ac450"
      },
      "source": [
        "import plotly.graph_objects as go\n",
        "\n",
        "\n",
        "\n",
        "fig = go.Figure()\n",
        "\n",
        "# Add traces\n",
        "fig.add_trace(go.Scatter(x=concat_table.wavelength, y=concat_table.Donar,\n",
        "                         mode='lines',\n",
        "                         name='Donar'))\n",
        "fig.add_trace(go.Scatter(x=concat_table.wavelength, y=concat_table.Acceptor,\n",
        "                         mode='lines',\n",
        "                         name='Acceptor'))\n",
        "fig.add_trace(go.Scatter(x=concat_table.wavelength, y=concat_table.Overlay,\n",
        "                         mode='lines',\n",
        "                         name='Overlay'))\n",
        "fig.add_trace(go.Scatter(x=concat_table.wavelength, y=concat_table.Measured_curve,\n",
        "                         mode='lines',\n",
        "                         name='Measured_curve'))\n",
        "\n",
        "fig.show()"
      ],
      "execution_count": 484,
      "outputs": [
        {
          "output_type": "display_data",
          "data": {
            "text/html": [
              "<html>\n",
              "<head><meta charset=\"utf-8\" /></head>\n",
              "<body>\n",
              "    <div>            <script src=\"https://cdnjs.cloudflare.com/ajax/libs/mathjax/2.7.5/MathJax.js?config=TeX-AMS-MML_SVG\"></script><script type=\"text/javascript\">if (window.MathJax) {MathJax.Hub.Config({SVG: {font: \"STIX-Web\"}});}</script>                <script type=\"text/javascript\">window.PlotlyConfig = {MathJaxConfig: 'local'};</script>\n",
              "        <script src=\"https://cdn.plot.ly/plotly-2.8.3.min.js\"></script>                <div id=\"d25d71d6-4d3d-42f8-b9a4-6077312a7581\" class=\"plotly-graph-div\" style=\"height:525px; width:100%;\"></div>            <script type=\"text/javascript\">                                    window.PLOTLYENV=window.PLOTLYENV || {};                                    if (document.getElementById(\"d25d71d6-4d3d-42f8-b9a4-6077312a7581\")) {                    Plotly.newPlot(                        \"d25d71d6-4d3d-42f8-b9a4-6077312a7581\",                        [{\"mode\":\"lines\",\"name\":\"Donar\",\"x\":[300,301,302,303,304,305,306,307,308,309,310,311,312,313,314,315,316,317,318,319,320,321,322,323,324,325,326,327,328,329,330,331,332,333,334,335,336,337,338,339,340,341,342,343,344,345,346,347,348,349,350,351,352,353,354,355,356,357,358,359,360,361,362,363,364,365,366,367,368,369,370,371,372,373,374,375,376,377,378,379,380,381,382,383,384,385,386,387,388,389,390,391,392,393,394,395,396,397,398,399,400,401,402,403,404,405,406,407,408,409,410,411,412,413,414,415,416,417,418,419,420,421,422,423,424,425,426,427,428,429,430,431,432,433,434,435,436,437,438,439,440,441,442,443,444,445,446,447,448,449,450,451,452,453,454,455,456,457,458,459,460,461,462,463,464,465,466,467,468,469,470,471,472,473,474,475,476,477,478,479,480,481,482,483,484,485,486,487,488,489,490,491,492,493,494,495,496,497,498,499,500,501,502,503,504,505,506,507,508,509,510,511,512,513,514,515,516,517,518,519,520,521,522,523,524,525,526,527,528,529,530,531,532,533,534,535,536,537,538,539,540,541,542,543,544,545,546,547,548,549,550,551,552,553,554,555,556,557,558,559,560,561,562,563,564,565,566,567,568,569,570,571,572,573,574,575,576,577,578,579,580,581,582,583,584,585,586,587,588,589,590,591,592,593,594,595,596,597,598,599,600,601,602,603,604,605,606,607,608,609,610,611,612,613,614,615,616,617,618,619,620,621,622,623,624,625,626,627,628,629,630,631,632,633,634,635,636,637,638,639,640,641,642,643,644,645,646,647,648,649,650,651,652,653,654,655,656,657,658,659,660,661,662,663,664,665,666,667,668,669,670,671,672,673,674,675,676,677,678,679,680,681,682,683,684,685,686,687,688,689,690,691,692,693,694,695,696,697,698,699,700,701,702,703,704,705,706,707,708,709,710,711,712,713,714,715,716,717,718,719,720,721,722,723,724,725,726,727,728,729,730,731,732,733,734,735,736,737,738,739,740,741,742,743,744,745,746,747,748,749,750,751,752,753,754,755,756,757,758,759,760,761,762,763,764,765,766,767,768,769,770,771,772,773,774,775,776,777,778,779,780,781,782,783,784,785,786,787,788,789,790,791,792,793,794,795,796,797,798,799,800],\"y\":[0.0485063436225352,0.0415341792414727,0.035558038343419,0.0306775232766752,0.0250001894235243,0.021514107232993,0.0190240485254707,0.0174304109526564,0.0167331945145501,0.016832796862851,0.0180280250424617,0.0192232532220725,0.0209164931431876,0.0232073471541082,0.0258966105582323,0.0282870669174538,0.031872751456286,0.0349604242536137,0.0378488923543396,0.0416337815897735,0.0432274191625879,0.0488051506674379,0.052490437554571,0.0556777127001996,0.0588649878458282,0.0623510700363595,0.0658371522268908,0.0695224391140238,0.0730085213045551,0.0776898316746971,0.08247074439314,0.0870524524149811,0.0920325698300258,0.0978095060314776,0.1025904187499206,0.106873319726859,0.1105586066139921,0.1125506535800099,0.113447074714718,0.1127498582766117,0.1103594019173903,0.1072717291200626,0.1032876351880268,0.0986063248178848,0.0942238214926455,0.0903393299089106,0.0858572242353704,0.0822715396965382,0.0790842645509096,0.0760961941018828,0.0735065330460596,0.071215679035139,0.0689248250242184,0.0671319827548024,0.0655383451819881,0.0648411287438818,0.0609566371601469,0.0601598183737398,0.0589645901941291,0.0579685667111201,0.0568729408798103,0.056175724441704,0.0547812915654915,0.0536856657341817,0.0523908352062701,0.0508967999817567,0.0489047530157388,0.0467135013531191,0.0448210567354022,0.0426298050727825,0.0405381557584637,0.0382473017475432,0.0362552547815253,0.0343628101638083,0.0329683772875958,0.0311755350181797,0.0298807044902681,0.0287850786589583,0.0275898504793475,0.0266934293446395,0.0256974058616305,0.0245021776820198,0.0236057565473118,0.0222113236710993,0.0209164931431876,0.0195220602669751,0.0181276273907626,0.0163347851213465,0.0147411475485322,0.0129483052791161,0.0115538724029036,0.010259041874992,0.0088646089987795,0.0077689831674697,0.0066733573361598,0.0059761408980536,0.0052789244599473,0.0047809127184429,0.0042829009769384,0.0038844915837348,0.0033864798422303,0.0032868774939294,0.0030876727973277,0.0030876727973277,0.0029880704490268,0.0028884681007259,0.0029880704490268,0.0029880704490268,0.0030876727973277,0.0029880704490268,0.0030876727973277,0.0031872751456286,0.0031872751456286,0.0032868774939294,0.0032868774939294,0.0039840939320357,0.0039840939320357,0.0040836962803366,0.0042829009769384,0.0043825033252393,0.0045817080218411,0.0047809127184429,0.0047809127184429,0.0048805150667437,0.0052789244599473,0.0054781291565491,0.0056773338531509,0.0056773338531509,0.0059761408980536,0.0062749479429563,0.0065737549878589,0.0069721643810625,0.0071713690776643,0.0075697784708679,0.0078685855157706,0.0082669949089741,0.0086654043021777,0.0090638136953813,0.0095618254368858,0.0099602348300893,0.0106574512681956,0.0110558606613992,0.0116534747512045,0.0123506911893108,0.013047907627417,0.0136455217172224,0.0144423405036295,0.0153387616383376,0.0160359780764439,0.0170320015594528,0.0179284226941608,0.0190240485254707,0.0202192767050814,0.0212153001880903,0.0224105283677011,0.0236057565473118,0.0248009847269225,0.0260958152548341,0.0274902481310466,0.0286854763106574,0.0301795115351708,0.0316735467596842,0.0330679796358967,0.0347612195570119,0.0362552547815253,0.0381476993992423,0.0397413369720566,0.0415341792414727,0.0436258285557914,0.0455182731735084,0.047809127184429,0.0500003788470486,0.0526896422511728,0.0551797009586951,0.058068169059421,0.0609566371601469,0.0643431170023773,0.0676299944963068,0.0715144860800417,0.0752993753154757,0.0791838668992105,0.0836659725727507,0.0880484758979901,0.0929289909647338,0.0973114942899732,0.1024908164016197,0.1071721267717617,0.1121522441868064,0.1168335545569484,0.1218136719719931,0.1260965729489315,0.1307778833190735,0.1348615795994101,0.1391444805763486,0.1429293698117826,0.1471126684404201,0.1505987506309514,0.1547820492595889,0.158467336146722,0.1625510324270586,0.1666347287073953,0.1712164367292364,0.1755989400544757,0.1808778645144231,0.1861567889743705,0.1923321345690259,0.1987066848602831,0.2061768609828501,0.2135474347571163,0.2226112484524976,0.2314758574512771,0.24183450167457,0.252292748246164,0.2646434394354748,0.2762969141866793,0.2902412429488044,0.3033887529245224,0.3179306957764529,0.3317754221902772,0.3470145814803139,0.3603612961526337,0.3745048296113606,0.3870547254972732,0.3992062119899823,0.4102620726513815,0.419126681650161,0.4269952671659316,0.4326726010190825,0.4374535137375254,0.4404415841865522,0.4423340288042692,0.4431308475906765,0.4431308475906765,0.4426328358491719,0.4419356194110657,0.4414376076695612,0.4412384029729594,0.4416368123661631,0.4426328358491719,0.4449236898600925,0.4481109650057212,0.4526926730275622,0.4580711998358104,0.4655413759583775,0.4743063826088562,0.4836690033491401,0.4958204898418493,0.5078723739862574,0.5225139191864888,0.5378526808248264,0.5558807058672882,0.5753031637859626,0.5952236334461413,0.617932968858745,0.6378534385189237,0.6520965743259515,0.6956228005334422,0.7207225923052675,0.7497068756608275,0.7754042815224581,0.802595722608602,0.8285919355151353,0.8493092239617213,0.8673372490041831,0.8815803848112108,0.8942298830454244,0.9017000591679912,0.9037917084823102,0.8992100004604692,0.8895485726752824,0.8725165711158295,0.8492096216134204,0.8232134087068871,0.788651393846477,0.7534917648962614,0.7124555973962933,0.6672361312676875,0.6251043379364094,0.5791876553696974,0.5317769375784719,0.4896451442471938,0.4458201109948005,0.40229388478731,0.3653414135676784,0.3282893399997459,0.2956197697570528,0.2626513924694568,0.2333683020689941,0.2079697032522662,0.1831687185253437,0.1615550089440497,0.1431285745083843,0.1251005494659225,0.1095625831309831,0.096514675503566,0.0840643819659543,0.0733073283494578,0.0642435146540764,0.0555781103518987,0.0483071389259334,0.0422313956795789,0.0364544594781271,0.0315739444113833,0.0273906457827457,0.0236057565473118,0.0204184814016832,0.017729217997559,0.0152391592900367,0.013047907627417,0.0113546677063018,0.0097610301334875,0.008366597257275,0.0071713690776643,0.0061753455946554,0.0053785268082482,0.004681310370142,0.0041832986286375,0.003685286887133,0.0032868774939294,0.0029880704490268,0.0026892634041241,0.0024900587075223,0.0022908540109205,0.0020916493143187,0.0019920469660178,0.001792842269416,0.0016932399211151,0.0015936375728143,0.0013944328762125,0.0012948305279116,0.0010956258313098,0.000896421134708,0.0006972164381062,0.0004980117415044,0.0003984093932035,0.0001992046966017,9.960234830089378e-05,-9.960234830089378e-05,-0.0001992046966017,-0.0002988070449026,-0.0003984093932035,-0.0004980117415044,-0.0006972164381062,-0.0006972164381062,-0.0007968187864071,-0.000896421134708,-0.000896421134708,-0.0009960234830089,-0.0010956258313098,-0.0010956258313098,-0.0010956258313098,-0.0010956258313098,-0.0010956258313098,-0.0010956258313098,-0.0010956258313098,-0.0010956258313098,-0.0010956258313098,-0.0010956258313098,-0.0010956258313098,-0.0010956258313098,-0.0010956258313098,-0.0011952281796107,-0.0011952281796107,-0.0011952281796107,-0.0011952281796107,-0.0010956258313098,-0.0010956258313098,-0.0009960234830089,-0.0009960234830089,-0.0009960234830089,-0.0009960234830089,-0.0009960234830089,-0.0010956258313098,-0.0010956258313098,-0.0010956258313098,-0.0010956258313098,-0.0010956258313098,-0.0010956258313098,-0.0010956258313098,-0.0010956258313098,-0.0011952281796107,-0.0011952281796107,-0.0011952281796107,-0.0012948305279116,-0.0012948305279116,-0.0011952281796107,-0.0011952281796107,-0.0011952281796107,-0.0011952281796107,-0.0011952281796107,-0.0011952281796107,-0.0011952281796107,-0.0011952281796107,-0.0011952281796107,-0.0011952281796107,-0.0011952281796107,-0.0010956258313098,-0.0010956258313098,-0.0011952281796107,-0.0010956258313098,-0.0009960234830089,-0.0009960234830089,-0.0009960234830089,-0.0009960234830089,-0.000896421134708,-0.000896421134708,-0.0007968187864071,-0.000896421134708,-0.000896421134708,-0.0007968187864071,-0.0006972164381062,-0.0006972164381062,-0.0007968187864071,-0.0006972164381062,-0.0006972164381062,-0.0007968187864071,-0.0006972164381062,-0.0006972164381062,-0.0006972164381062,-0.0006972164381062,-0.0006972164381062,-0.0006972164381062,-0.0006972164381062,-0.0006972164381062,-0.0006972164381062,-0.0006972164381062,-0.0006972164381062,-0.0006972164381062,-0.0007968187864071,-0.0007968187864071,-0.0007968187864071,-0.0007968187864071,-0.0007968187864071,-0.0007968187864071,-0.0007968187864071,-0.0021912516626196,-0.0021912516626196,-0.0021912516626196,-0.0021912516626196,-0.0021912516626196,-0.0022908540109205,-0.0021912516626196,-0.0020916493143187,-0.0020916493143187,-0.0020916493143187,-0.0021912516626196,-0.0020916493143187,-0.0019920469660178,-0.0019920469660178,-0.0018924446177169,-0.0018924446177169,-0.0016932399211151,-0.0015936375728143,-0.0015936375728143,-0.0014940352245134,-0.0013944328762125,-0.0011952281796107,-0.0010956258313098,-0.0009960234830089,-0.000896421134708,-0.0006972164381062,-0.0004980117415044,-0.0004980117415044,-0.0003984093932035,-0.0002988070449026,-0.0001992046966017,-0.0001992046966017,-9.960234830089378e-05,0.0,9.960234830089378e-05,0.0001992046966017,0.0001992046966017,0.0001992046966017,0.0001992046966017,0.0002988070449026,0.0001992046966017,0.0001992046966017,0.0002988070449026,0.0002988070449026,0.0002988070449026,0.0002988070449026,0.0002988070449026,0.0001992046966017,0.0002988070449026,0.0001992046966017,0.0002988070449026,0.0001992046966017,0.0002988070449026,0.0002988070449026,0.0002988070449026,0.0001992046966017,0.0002988070449026,0.0002988070449026,0.0002988070449026,0.0002988070449026,0.0002988070449026,0.0003984093932035,0.0003984093932035,0.0003984093932035,0.0002988070449026,0.0002988070449026],\"type\":\"scatter\"},{\"mode\":\"lines\",\"name\":\"Acceptor\",\"x\":[300,301,302,303,304,305,306,307,308,309,310,311,312,313,314,315,316,317,318,319,320,321,322,323,324,325,326,327,328,329,330,331,332,333,334,335,336,337,338,339,340,341,342,343,344,345,346,347,348,349,350,351,352,353,354,355,356,357,358,359,360,361,362,363,364,365,366,367,368,369,370,371,372,373,374,375,376,377,378,379,380,381,382,383,384,385,386,387,388,389,390,391,392,393,394,395,396,397,398,399,400,401,402,403,404,405,406,407,408,409,410,411,412,413,414,415,416,417,418,419,420,421,422,423,424,425,426,427,428,429,430,431,432,433,434,435,436,437,438,439,440,441,442,443,444,445,446,447,448,449,450,451,452,453,454,455,456,457,458,459,460,461,462,463,464,465,466,467,468,469,470,471,472,473,474,475,476,477,478,479,480,481,482,483,484,485,486,487,488,489,490,491,492,493,494,495,496,497,498,499,500,501,502,503,504,505,506,507,508,509,510,511,512,513,514,515,516,517,518,519,520,521,522,523,524,525,526,527,528,529,530,531,532,533,534,535,536,537,538,539,540,541,542,543,544,545,546,547,548,549,550,551,552,553,554,555,556,557,558,559,560,561,562,563,564,565,566,567,568,569,570,571,572,573,574,575,576,577,578,579,580,581,582,583,584,585,586,587,588,589,590,591,592,593,594,595,596,597,598,599,600,601,602,603,604,605,606,607,608,609,610,611,612,613,614,615,616,617,618,619,620,621,622,623,624,625,626,627,628,629,630,631,632,633,634,635,636,637,638,639,640,641,642,643,644,645,646,647,648,649,650,651,652,653,654,655,656,657,658,659,660,661,662,663,664,665,666,667,668,669,670,671,672,673,674,675,676,677,678,679,680,681,682,683,684,685,686,687,688,689,690,691,692,693,694,695,696,697,698,699,700,701,702,703,704,705,706,707,708,709,710,711,712,713,714,715,716,717,718,719,720,721,722,723,724,725,726,727,728,729,730,731,732,733,734,735,736,737,738,739,740,741,742,743,744,745,746,747,748,749,750,751,752,753,754,755,756,757,758,759,760,761,762,763,764,765,766,767,768,769,770,771,772,773,774,775,776,777,778,779,780,781,782,783,784,785,786,787,788,789,790,791,792,793,794,795,796,797,798,799,800],\"y\":[0.0252325698606568,0.0196150999281748,0.0149185267059358,0.0109586708518911,0.0076434426950164,0.0049728422353119,0.0030389591438017,0.0019338830915101,0.0007367173681943,-0.0002762690130728,-0.0010129863812672,-0.0018417934204859,-0.0020259727625344,-0.0024864211176559,-0.0026706004597045,-0.0034073178278989,-0.0035914971699475,-0.0040519455250689,-0.0049728422353119,-0.0059858286165791,-0.0064462769717006,-0.0085643394052594,-0.0099456844706238,-0.0108665811808668,-0.0116953882200854,-0.0124321055882798,-0.0131688229564742,-0.0137213609826199,-0.0141818093377414,-0.0142738990087657,-0.0151947957190086,-0.0153789750610572,-0.0157473337451544,-0.015931513087203,-0.0162998717713002,-0.016852409797446,-0.0173128581525674,-0.017497037494616,-0.0180495755207618,-0.0180495755207618,-0.0186942032179319,-0.0188783825599805,-0.0192467412440776,-0.0197071895991991,-0.0198913689412477,-0.0197992792702234,-0.0200755482832963,-0.0202597276253449,-0.0205359966384178,-0.0207201759804664,-0.0205359966384178,-0.0206280863094421,-0.0209043553225149,-0.0207201759804664,-0.0207201759804664,-0.0207201759804664,-0.019983458612272,-0.0200755482832963,-0.0202597276253449,-0.0198913689412477,-0.0195230102571505,-0.0195230102571505,-0.0191546515730533,-0.0192467412440776,-0.0187862928889562,-0.018417934204859,-0.0181416651917861,-0.0179574858497375,-0.0176812168366646,-0.0176812168366646,-0.0177733065076889,-0.0175891271656403,-0.0171286788105188,-0.0169444994684703,-0.0166682304553974,-0.0164840511133488,-0.0160236027582273,-0.0154710647320815,-0.0152868853900329,-0.0152868853900329,-0.0151027060479844,-0.0148264370349115,-0.0146422576928629,-0.01436598867979,-0.0141818093377414,-0.0138134506536442,-0.0132609126274984,-0.0129846436144256,-0.0132609126274984,-0.0129846436144256,-0.0121558365752069,-0.0114191192070125,-0.0116953882200854,-0.0117874778911097,-0.0116953882200854,-0.0110507605229154,-0.0101298638126724,-0.0097615051285752,-0.0099456844706238,-0.0099456844706238,-0.0096694154575509,-0.0091168774314052,-0.0085643394052594,-0.0077355323660407,-0.007182994339895,-0.0070909046688707,-0.0064462769717006,-0.0055253802614577,-0.0047886628932633,-0.0039598558540446,-0.0030389591438017,-0.0020259727625344,-0.0011050760522915,-0.0004604483551214,0.0,0.0007367173681943,0.0018417934204859,0.0034994074989232,0.0049728422353119,0.0063541873006763,0.0080118013791136,0.0096694154575509,0.0116953882200854,0.0136292713115956,0.0158394234161787,0.0183258445338347,0.0207201759804664,0.0233907764401709,0.0261534665708998,0.0290082463726529,0.0324155642005518,0.0356387026864022,0.0392301998563497,0.0428216970262972,0.0464131941962447,0.0504651397213137,0.0545170852463827,0.0591215687975974,0.063357693664715,0.0677779978738812,0.0729350194512417,0.0776315926734807,0.0831569729349385,0.0884060841833233,0.0944840024709267,0.1003777414164816,0.1066398390461337,0.1135465643729558,0.1206374690418266,0.1287413600919646,0.1363848027869811,0.144488693837119,0.1539739299526214,0.1628145383709537,0.1732206711966991,0.1830742659962987,0.1939408471771655,0.204715338687008,0.2166869959201664,0.2274614874300089,0.2385122479529243,0.2510364432122285,0.2620872037351439,0.2741509506393266,0.2852017111622419,0.296436651027206,0.3061060664847569,0.3156833922712836,0.3252607180578103,0.3334566987789726,0.3421131278552564,0.3494803015372,0.3571237442322164,0.3640304695590385,0.371950181267128,0.379133175607023,0.3880658736963796,0.3967223027726633,0.4070363459273844,0.4179950167792756,0.429690404999361,0.4437801246660782,0.4581461133458682,0.4749064334722899,0.490837946559493,0.5098084187904978,0.527673814969211,0.5471968252263616,0.5657989387732691,0.5858744870565655,0.6033715245511816,0.6223419967821864,0.6379972408563165,0.6530078572332766,0.6646111557823379,0.674004302226816,0.6785166961070065,0.679621772159298,0.6753856472921804,0.6657162318346294,0.6511660638127907,0.6294329014510571,0.6043845109324488,0.5706796913375569,0.5355935266773004,0.4932322780061246,0.4506868499929003,0.4017872346789996,0.3572158339032408,0.3073032322080728,0.2634685488005083,0.2190813273667981,0.1809562035627399,0.1436598867979004,0.1147437300962717,0.086748470104886,0.0653836664272495,0.0465973735382933,0.0324155642005518,0.0197071895991991,0.0107744915098425,0.0030389591438017,-0.0026706004597045,-0.0074592633529679,-0.0111428501939397,-0.0139055403246685,-0.0162077821002759,-0.0178653961787132,-0.0193388309151019,-0.0203518172963692,-0.0212727140066121,-0.0220094313748065,-0.0225619694009523,-0.0230224177560737,-0.0233907764401709,-0.0237591351242681,-0.0238512247952924,-0.0241274938083653,-0.0243116731504139,-0.0243116731504139,-0.0244958524924625,-0.0245879421634867,-0.024680031834511,-0.0247721215055353,-0.0247721215055353,-0.0247721215055353,-0.0248642111765596,-0.0248642111765596,-0.0247721215055353,-0.0247721215055353,-0.0247721215055353,-0.0247721215055353,-0.0247721215055353,-0.0247721215055353,-0.0247721215055353,-0.0247721215055353,-0.0241274938083653,-0.0242195834793896,-0.0242195834793896,-0.0243116731504139,-0.0244037628214382,-0.0244037628214382,-0.0244037628214382,-0.0244037628214382,-0.0244037628214382,-0.0244037628214382,-0.0244037628214382,-0.0244037628214382,-0.0244037628214382,-0.0244037628214382,-0.0244037628214382,-0.0244037628214382,-0.0244037628214382,-0.0243116731504139,-0.0243116731504139,-0.0243116731504139,-0.0243116731504139,-0.0242195834793896,-0.0242195834793896,-0.0242195834793896,-0.0242195834793896,-0.0241274938083653,-0.0241274938083653,-0.024035404137341,-0.0241274938083653,-0.024035404137341,-0.024035404137341,-0.024035404137341,-0.0239433144663167,-0.0239433144663167,-0.0239433144663167,-0.0238512247952924,-0.0238512247952924,-0.0237591351242681,-0.0237591351242681,-0.0237591351242681,-0.0236670454532438,-0.0236670454532438,-0.0235749557822195,-0.0234828661111952,-0.0234828661111952,-0.0234828661111952,-0.0233907764401709,-0.0233907764401709,-0.0233907764401709,-0.0233907764401709,-0.0233907764401709,-0.0233907764401709,-0.0233907764401709,-0.0232986867691466,-0.0233907764401709,-0.0233907764401709,-0.0233907764401709,-0.0233907764401709,-0.0233907764401709,-0.0233907764401709,-0.0232986867691466,-0.0232986867691466,-0.0232986867691466,-0.0232986867691466,-0.0232986867691466,-0.0232986867691466,-0.0232986867691466,-0.0232986867691466,-0.0232986867691466,-0.0232065970981223,-0.0232065970981223,-0.0232065970981223,-0.0232065970981223,-0.0232065970981223,-0.0232065970981223,-0.0232065970981223,-0.0232065970981223,-0.023114507427098,-0.023114507427098,-0.023114507427098,-0.023114507427098,-0.0230224177560737,-0.0230224177560737,-0.023114507427098,-0.0230224177560737,-0.0230224177560737,-0.0230224177560737,-0.0230224177560737,-0.0230224177560737,-0.0230224177560737,-0.0230224177560737,-0.0230224177560737,-0.0229303280850494,-0.0229303280850494,-0.0229303280850494,-0.0229303280850494,-0.0228382384140251,-0.0229303280850494,-0.0228382384140251,-0.0227461487430008,-0.0227461487430008,-0.0227461487430008,-0.0227461487430008,-0.0227461487430008,-0.0227461487430008,-0.0227461487430008,-0.0226540590719766,-0.0226540590719766,-0.0227461487430008,-0.0227461487430008,-0.0226540590719766,-0.0227461487430008,-0.0227461487430008,-0.0226540590719766,-0.0226540590719766,-0.0226540590719766,-0.0227461487430008,-0.0227461487430008,-0.0227461487430008,-0.0227461487430008,-0.0226540590719766,-0.0226540590719766,-0.0226540590719766,-0.0226540590719766,-0.0227461487430008,-0.0227461487430008,-0.0226540590719766,-0.0226540590719766,-0.0226540590719766,-0.0225619694009523,-0.0225619694009523,-0.0225619694009523,-0.0225619694009523,-0.0225619694009523,-0.022469879729928,-0.0223777900589037,-0.0223777900589037,-0.0223777900589037,-0.0222857003878794,-0.0222857003878794,-0.0221936107168551,-0.0221015210458308,-0.0221015210458308,-0.0220094313748065,-0.0219173417037822,-0.0218252520327579,-0.0218252520327579,-0.0217331623617336,-0.0216410726907093,-0.0216410726907093,-0.021548983019685,-0.0213648036776364,-0.0213648036776364,-0.0211806243355878,-0.0211806243355878,-0.0209964449935392,-0.0208122656514906,-0.0207201759804664,-0.0205359966384178,-0.0204439069673935,-0.0202597276253449,-0.0200755482832963,-0.0198913689412477,-0.0197071895991991,-0.0195230102571505,-0.0193388309151019,-0.0191546515730533,-0.0189704722310047,-0.0187862928889562,-0.0185100238758833,-0.0182337548628104,-0.0178653961787132,-0.017497037494616,-0.0171286788105188,-0.0167603201264217,-0.0163919614423245,-0.0160236027582273,-0.0157473337451544,-0.0155631544031058,-0.0121558365752069,-0.0119716572331583,-0.011879567562134,-0.011879567562134,-0.0116953882200854,-0.0116953882200854,-0.0116953882200854,-0.0116953882200854,-0.0116953882200854,-0.0116953882200854,-0.0116953882200854,-0.0116953882200854,-0.0116953882200854,-0.0117874778911097,-0.0116953882200854,-0.0116953882200854,-0.0116953882200854,-0.0117874778911097,-0.0117874778911097,-0.0117874778911097,-0.0117874778911097,-0.0116953882200854,-0.0117874778911097,-0.0117874778911097,-0.011879567562134,-0.011879567562134,-0.011879567562134,-0.011879567562134,-0.011879567562134,-0.011879567562134,-0.0119716572331583,-0.0119716572331583,-0.0120637469041826,-0.0120637469041826,-0.0120637469041826,-0.0121558365752069,-0.0122479262462312,-0.0122479262462312,-0.0123400159172555,-0.0124321055882798,-0.0124321055882798,-0.0125241952593041,-0.0126162849303284,-0.0127083746013527,-0.012800464272377,-0.0128925539434013,-0.0129846436144256,-0.0129846436144256,-0.0131688229564742,-0.0132609126274984,-0.0133530022985227,-0.0133530022985227,-0.0135371816405713,-0.0136292713115956,-0.0137213609826199,-0.0138134506536442,-0.0139976299956928,-0.0140897196667171,-0.0140897196667171,-0.0141818093377414,-0.01436598867979,-0.0144580783508143,-0.0145501680218386,-0.0146422576928629,-0.0147343473638872,-0.0147343473638872],\"type\":\"scatter\"},{\"mode\":\"lines\",\"name\":\"Overlay\",\"x\":[300,301,302,303,304,305,306,307,308,309,310,311,312,313,314,315,316,317,318,319,320,321,322,323,324,325,326,327,328,329,330,331,332,333,334,335,336,337,338,339,340,341,342,343,344,345,346,347,348,349,350,351,352,353,354,355,356,357,358,359,360,361,362,363,364,365,366,367,368,369,370,371,372,373,374,375,376,377,378,379,380,381,382,383,384,385,386,387,388,389,390,391,392,393,394,395,396,397,398,399,400,401,402,403,404,405,406,407,408,409,410,411,412,413,414,415,416,417,418,419,420,421,422,423,424,425,426,427,428,429,430,431,432,433,434,435,436,437,438,439,440,441,442,443,444,445,446,447,448,449,450,451,452,453,454,455,456,457,458,459,460,461,462,463,464,465,466,467,468,469,470,471,472,473,474,475,476,477,478,479,480,481,482,483,484,485,486,487,488,489,490,491,492,493,494,495,496,497,498,499,500,501,502,503,504,505,506,507,508,509,510,511,512,513,514,515,516,517,518,519,520,521,522,523,524,525,526,527,528,529,530,531,532,533,534,535,536,537,538,539,540,541,542,543,544,545,546,547,548,549,550,551,552,553,554,555,556,557,558,559,560,561,562,563,564,565,566,567,568,569,570,571,572,573,574,575,576,577,578,579,580,581,582,583,584,585,586,587,588,589,590,591,592,593,594,595,596,597,598,599,600,601,602,603,604,605,606,607,608,609,610,611,612,613,614,615,616,617,618,619,620,621,622,623,624,625,626,627,628,629,630,631,632,633,634,635,636,637,638,639,640,641,642,643,644,645,646,647,648,649,650,651,652,653,654,655,656,657,658,659,660,661,662,663,664,665,666,667,668,669,670,671,672,673,674,675,676,677,678,679,680,681,682,683,684,685,686,687,688,689,690,691,692,693,694,695,696,697,698,699,700,701,702,703,704,705,706,707,708,709,710,711,712,713,714,715,716,717,718,719,720,721,722,723,724,725,726,727,728,729,730,731,732,733,734,735,736,737,738,739,740,741,742,743,744,745,746,747,748,749,750,751,752,753,754,755,756,757,758,759,760,761,762,763,764,765,766,767,768,769,770,771,772,773,774,775,776,777,778,779,780,781,782,783,784,785,786,787,788,789,790,791,792,793,794,795,796,797,798,799,800],\"y\":[0.0737389134831921,0.0611492791696475,0.0504765650493548,0.0416361941285664,0.0326436321185408,0.0264869494683049,0.0220630076692724,0.0193642940441666,0.0174699118827445,0.0165565278497781,0.0170150386611945,0.0173814598015866,0.0188905203806532,0.0207209260364522,0.0232260100985278,0.0248797490895549,0.0282812542863385,0.0309084787285447,0.0328760501190277,0.0356479529731944,0.0367811421908872,0.0402408112621785,0.0425447530839471,0.0448111315193328,0.0471695996257427,0.0499189644480796,0.0526683292704165,0.0558010781314038,0.0588267119668136,0.0634159326659314,0.0672759486741313,0.0716734773539238,0.0762852360848713,0.0818779929442746,0.0862905469786203,0.090020909929413,0.0932457484614246,0.0950536160853939,0.0953974991939561,0.0947002827558499,0.0916651986994584,0.0883933465600821,0.0840408939439491,0.0788991352186856,0.0743324525513977,0.0705400506386872,0.0657816759520741,0.0620118120711933,0.0585482679124918,0.0553760181214164,0.0529705364076418,0.0505875927256969,0.0480204697017034,0.046411806774336,0.0448181692015217,0.0441209527634154,0.0409731785478749,0.0400842700904435,0.0387048625687842,0.0380771977698724,0.0373499306226597,0.0366527141845535,0.0356266399924381,0.034438924490104,0.0336045423173139,0.0324788657768976,0.0307630878239527,0.0287560155033816,0.0271398398987375,0.0249485882361178,0.0227648492507748,0.0206581745819028,0.0191265759710064,0.017418310695338,0.0163001468321984,0.0146914839048309,0.0138571017320407,0.0133140139268767,0.0123029650893145,0.0114065439546065,0.0105946998136461,0.0096757406471083,0.0089634988544489,0.0078453349913092,0.0067346838054462,0.0057086096133309,0.0048667147632641,0.0033501415069209,0.0014802349210337,-3.633833530941946e-05,-0.0006019641723032,-0.0011600773320205,-0.0028307792213059,-0.00401849472364,-0.0050220308839255,-0.0050746196248617,-0.004850939352725,-0.0049805924101323,-0.0056627834936854,-0.006061192886889,-0.0062829356153206,-0.0058299999374757,-0.0054766666079317,-0.004647859568713,-0.0041949238908682,-0.0042024365681448,-0.0034582065226738,-0.0025373098124308,-0.0017009900959356,-0.0009717854050178,4.871365352596786e-05,0.0011613023830941,0.002082199093337,0.002826429138808,0.0032868774939294,0.0047208113002301,0.0058258873525216,0.0075831037792598,0.0092557432122503,0.0107366906259156,0.0125935094009547,0.0144503281759938,0.0164763009385283,0.0185097863783394,0.0211183478761261,0.0238039736903838,0.0263975098336173,0.0290681102933219,0.0321296074689534,0.0352831943156092,0.0389893191884108,0.0426108670674647,0.046401568934014,0.0503914754971651,0.0542817797120153,0.0587321346302879,0.0631824895485604,0.0681853824929788,0.0729195191016008,0.0777382327039705,0.0835924707194373,0.08868745333488,0.094810447686143,0.1007567753726341,0.1075319100983438,0.1140232631337041,0.1210821795497633,0.1288853260112935,0.1366734471182705,0.1457733616514174,0.1543132254811419,0.1635127423625897,0.1741932066577028,0.1840298385590441,0.1956311995644002,0.2066800225436105,0.218741831904088,0.2308111539418422,0.2441772440512131,0.2561469637406663,0.2686917594880952,0.2827099899719127,0.2951551833710407,0.3089121701963385,0.3214569659437673,0.3345843504264483,0.3458474034568136,0.3572175715127563,0.3688865466136019,0.3789749719524811,0.3899222550396854,0.3994806803842486,0.4098133864833893,0.4192101705177337,0.430018350326549,0.44008981276717,0.452408990698757,0.4643522972689702,0.4785508320074262,0.4932943920947513,0.5088742718985716,0.527446097238829,0.5461945892438583,0.5678354244370238,0.5881494408494663,0.6122992351921175,0.6348459417409726,0.659349069413168,0.6826324933302176,0.7076881590285586,0.7294680975001131,0.75311988010126,0.7728588204557266,0.7921523378096251,0.8075405255941205,0.8211169706672361,0.8291154467379579,0.8344038214188869,0.8338529834389025,0.8282672642616881,0.817800792520186,0.8006493381802935,0.7799834509869246,0.75155755585198,0.7217503156516709,0.6855644125751506,0.6493935348531834,0.6079640956618497,0.5707632686603571,0.5299144806605705,0.4949444062517855,0.4609158290413682,0.4332489518089039,0.4083033262333752,0.391040644282951,0.3769897130536904,0.3687724193517719,0.3645280693147463,0.3641909863908291,0.3667217710795131,0.3711357876624763,0.3775437887551623,0.3843841250375686,0.3917469486370143,0.3991192224574417,0.4052211413254925,0.4107874850656557,0.4148072048403693,0.4181146828224235,0.420089766890183,0.421061314797657,0.4211214162158699,0.4205688781897242,0.4196104180930982,0.4185448429708947,0.4176784725452931,0.417387178177667,0.4175093185577977,0.418321162698758,0.4206120167096785,0.4236151125132587,0.4281047308640754,0.4333911680012994,0.4407692544528421,0.4495342611033209,0.4588968818436048,0.4709562786652896,0.4830081628096977,0.4977417976809534,0.513080559319291,0.5311085843617528,0.5505310422804272,0.5704515119406058,0.5931608473532096,0.6130813170133883,0.627324452820416,0.6714953067250768,0.6965030088258779,0.7254872921814379,0.7510926083720442,0.7781919597871638,0.8041881726936971,0.8249054611402831,0.8429334861827449,0.8571766219897726,0.8698261202239862,0.8772962963465532,0.879387945660872,0.874806237639031,0.8651448098538442,0.8481128082943913,0.8248058587919822,0.7988096458854489,0.764339720696063,0.7291800917458474,0.6881439242458793,0.6429244581172736,0.6008847544570198,0.5549680718903078,0.5075573540990823,0.4654255607678041,0.4216926171864352,0.3781663909789446,0.3413060094303374,0.3041618461913806,0.2715843656197118,0.2386159883321158,0.2093328979316531,0.1840263887859495,0.1592254040590269,0.137611694477733,0.1192773497130919,0.1012493246706301,0.085803448006715,0.0727555403792979,0.0603052468416862,0.0496402828962139,0.0405764692008326,0.0320031545696791,0.0248242728147382,0.0187485295683837,0.0129715933669318,0.0081831679712123,0.0039998693425748,0.0002149801071408,-0.0029722950384877,-0.0056615584426118,-0.0081516171501342,-0.0103428688127538,-0.0119440190628447,-0.0136297463066833,-0.0150241791828958,-0.0162194073625066,-0.0172154308455155,-0.0180122496319226,-0.0187094660700289,-0.0191153881405091,-0.0196133998820135,-0.0200118092752171,-0.0203106163201198,-0.0206094233650225,-0.0208086280616243,-0.0210078327582261,-0.0212070374548278,-0.0213066398031287,-0.0214137548287062,-0.0215133571770071,-0.021612959525308,-0.0218121642219098,-0.0219117665702107,-0.0221109712668125,-0.0223101759634143,-0.0225093806600161,-0.0226164956855936,-0.0227160980338945,-0.0229153027304962,-0.0230149050787971,-0.0231220201043746,-0.0232216224526755,-0.0234133144720007,-0.0234208271492773,-0.0235204294975782,-0.02371963419418,-0.02371963419418,-0.0238192365424809,-0.0239188388907818,-0.0239188388907818,-0.0240184412390827,-0.0240259539163593,-0.0240259539163593,-0.0240259539163593,-0.0240259539163593,-0.023933864245335,-0.0240259539163593,-0.023933864245335,-0.0238417745743107,-0.0238417745743107,-0.0238417745743107,-0.0238417745743107,-0.0238417745743107,-0.0238417745743107,-0.0239413769226116,-0.0238492872515873,-0.0238492872515873,-0.0239413769226116,-0.0238417745743107,-0.0237496849032864,-0.0237421722260098,-0.0237421722260098,-0.0236500825549855,-0.0236500825549855,-0.0236500825549855,-0.0238417745743107,-0.0238417745743107,-0.0238417745743107,-0.0238417745743107,-0.0237496849032864,-0.0237496849032864,-0.0237496849032864,-0.0237496849032864,-0.0239413769226116,-0.0239413769226116,-0.0238492872515873,-0.0239488895998882,-0.0239488895998882,-0.023757197580563,-0.023757197580563,-0.023757197580563,-0.023757197580563,-0.023757197580563,-0.0236651079095387,-0.0235730182385144,-0.0235730182385144,-0.0235730182385144,-0.0234809285674901,-0.0234809285674901,-0.0232892365481649,-0.0231971468771406,-0.0232967492254415,-0.0231050572061163,-0.0229133651867911,-0.0228212755157668,-0.0228212755157668,-0.0227291858447425,-0.0225374938254173,-0.0225374938254173,-0.0223458018060922,-0.0222612248123445,-0.0222612248123445,-0.021977443121995,-0.0218778407736941,-0.0216936614316455,-0.0216090844378978,-0.0214173924185726,-0.021233213076524,-0.0212407257538006,-0.0209569440634511,-0.0207727647214025,-0.020588585379354,-0.0204044060373054,-0.0202202266952568,-0.0200360473532082,-0.0198518680111596,-0.019667688669111,-0.0194835093270624,-0.0192072403139895,-0.0189309713009166,-0.0185626126168195,-0.0182938562810232,-0.017925497596926,-0.0175571389128288,-0.0171887802287316,-0.0168204215446345,-0.0165441525315616,-0.016359973189513,-0.0143470882378266,-0.014162908895778,-0.0140708192247537,-0.0140708192247537,-0.0138866398827051,-0.013986242231006,-0.0138866398827051,-0.0137870375344042,-0.0137870375344042,-0.0137870375344042,-0.0138866398827051,-0.0137870375344042,-0.0136874351861033,-0.0137795248571276,-0.0135878328378024,-0.0135878328378024,-0.0133886281412006,-0.013381115463924,-0.013381115463924,-0.0132815131156231,-0.0131819107673222,-0.0128906163996962,-0.0128831037224196,-0.0127835013741187,-0.0127759886968421,-0.0125767840002403,-0.0123775793036385,-0.0123775793036385,-0.0122779769553376,-0.0121783746070367,-0.0121708619297601,-0.0121708619297601,-0.0121633492524835,-0.0120637469041826,-0.0119641445558817,-0.0119566318786051,-0.0120487215496294,-0.0120487215496294,-0.0121408112206537,-0.0121332985433771,-0.012232900891678,-0.0123249905627023,-0.0123174778854257,-0.01240956755645,-0.0125016572274743,-0.0125937468984986,-0.0126858365695229,-0.0127854389178238,-0.0128700159115715,-0.0130617079308967,-0.0130541952536201,-0.013153797601921,-0.0132383745956686,-0.0133304642666929,-0.0134225539377172,-0.0136142459570424,-0.0136988229507901,-0.0137909126218144,-0.0137909126218144,-0.0138830022928387,-0.0140671816348873,-0.0140596689576107,-0.014151758628635,-0.0142438482996593,-0.0144355403189845,-0.0144355403189845],\"type\":\"scatter\"},{\"mode\":\"lines\",\"name\":\"Measured_curve\",\"x\":[300,301,302,303,304,305,306,307,308,309,310,311,312,313,314,315,316,317,318,319,320,321,322,323,324,325,326,327,328,329,330,331,332,333,334,335,336,337,338,339,340,341,342,343,344,345,346,347,348,349,350,351,352,353,354,355,356,357,358,359,360,361,362,363,364,365,366,367,368,369,370,371,372,373,374,375,376,377,378,379,380,381,382,383,384,385,386,387,388,389,390,391,392,393,394,395,396,397,398,399,400,401,402,403,404,405,406,407,408,409,410,411,412,413,414,415,416,417,418,419,420,421,422,423,424,425,426,427,428,429,430,431,432,433,434,435,436,437,438,439,440,441,442,443,444,445,446,447,448,449,450,451,452,453,454,455,456,457,458,459,460,461,462,463,464,465,466,467,468,469,470,471,472,473,474,475,476,477,478,479,480,481,482,483,484,485,486,487,488,489,490,491,492,493,494,495,496,497,498,499,500,501,502,503,504,505,506,507,508,509,510,511,512,513,514,515,516,517,518,519,520,521,522,523,524,525,526,527,528,529,530,531,532,533,534,535,536,537,538,539,540,541,542,543,544,545,546,547,548,549,550,551,552,553,554,555,556,557,558,559,560,561,562,563,564,565,566,567,568,569,570,571,572,573,574,575,576,577,578,579,580,581,582,583,584,585,586,587,588,589,590,591,592,593,594,595,596,597,598,599,600,601,602,603,604,605,606,607,608,609,610,611,612,613,614,615,616,617,618,619,620,621,622,623,624,625,626,627,628,629,630,631,632,633,634,635,636,637,638,639,640,641,642,643,644,645,646,647,648,649,650,651,652,653,654,655,656,657,658,659,660,661,662,663,664,665,666,667,668,669,670,671,672,673,674,675,676,677,678,679,680,681,682,683,684,685,686,687,688,689,690,691,692,693,694,695,696,697,698,699,700,701,702,703,704,705,706,707,708,709,710,711,712,713,714,715,716,717,718,719,720,721,722,723,724,725,726,727,728,729,730,731,732,733,734,735,736,737,738,739,740,741,742,743,744,745,746,747,748,749,750,751,752,753,754,755,756,757,758,759,760,761,762,763,764,765,766,767,768,769,770,771,772,773,774,775,776,777,778,779,780,781,782,783,784,785,786,787,788,789,790,791,792,793,794,795,796,797,798,799,800],\"y\":[0.0628373168851195,0.0494731431508609,0.0381649961449498,0.0277563608326908,0.0191467489077358,0.0132356720637368,0.0084811102544333,0.0060395785145206,0.0042405551272166,0.0039835517861732,0.0051400668208686,0.0073245952197378,0.0102801336417373,0.0134926754047802,0.0174762271909534,0.0219737856592135,0.026728347468517,0.0313544076072989,0.0354664610639938,0.040349524543819,0.0427910562837316,0.0498586481624261,0.0542277049601644,0.0582112567463377,0.0618093035209457,0.065792855307119,0.0696479054227705,0.0737599588794654,0.0773580056540735,0.0824980724749421,0.0864816242611153,0.0912361860704189,0.0961192495502441,0.1007453096890259,0.1049858648162426,0.1089694166024158,0.1119249550244153,0.1133384734001542,0.1139809817527627,0.1126959650475456,0.1098689282960678,0.1067848882035466,0.1026728347468517,0.0979182729375481,0.0934207144692881,0.0894371626831148,0.0855821125674633,0.0823695708044204,0.0791570290413775,0.0765869956309432,0.0745309689025957,0.0722179388332048,0.0706759187869442,0.0691338987406836,0.0678488820354664,0.0674633770239013,0.0660498586481624,0.0652788486250321,0.0648933436134669,0.0646363402724235,0.0638653302492932,0.0632228218966846,0.0623233102030326,0.0620663068619892,0.0609097918272937,0.05988177846312,0.0584682600873811,0.0570547417116422,0.0556412233359033,0.0537136982780776,0.0524286815728604,0.0508866615265998,0.0490876381392958,0.0476741197635569,0.0466461063993831,0.045361089694166,0.0445900796710357,0.0439475713184271,0.0433050629658185,0.0426625546132099,0.0424055512721665,0.0415060395785145,0.0409920328964276,0.0402210228732973,0.0395785145206887,0.0381649961449498,0.0372654844512978,0.0359804677460807,0.0348239527113852,0.0336674376766897,0.032639424312516,0.031739912618864,0.030840400925212,0.0298123875610382,0.0292983808789514,0.0287843741968645,0.0283988691852994,0.0281418658442559,0.0278848625032125,0.0280133641737342,0.0280133641737342,0.0280133641737342,0.0281418658442559,0.0283988691852994,0.0287843741968645,0.0290413775379079,0.0294268825494731,0.02994088923156,0.0304548959136468,0.0312259059367771,0.0318684142893857,0.0325109226419943,0.0332819326651246,0.0339244410177332,0.0344384476998201,0.0363659727576458,0.0375224877923413,0.0388075044975584,0.0399640195322539,0.0413775379079928,0.0429195579542534,0.0445900796710357,0.0463891030583397,0.0483166281161655,0.0503726548445129,0.0528141865844256,0.0551272166538165,0.0582112567463377,0.0610382934978154,0.0637368285787715,0.0672063736828578,0.070290413775379,0.0740169622205088,0.0776150089951169,0.0815985607812901,0.0858391159085068,0.0900796710357234,0.0947057311745052,0.0990747879722436,0.1039578514520688,0.1092264199434592,0.1141094834232845,0.1202775636083269,0.1258031354407607,0.1323567206373682,0.1386533024929324,0.1453353893600616,0.1529169879208429,0.1604985864816242,0.169236700077101,0.1773323053199691,0.1863274222564893,0.1964790542277049,0.2061166795168337,0.217296324852223,0.2279619635055255,0.2396556155230018,0.2512207658699563,0.2639424312516062,0.2756360832690825,0.2874582369570804,0.3010794140323824,0.3130300693909021,0.3261372397841172,0.3380878951426369,0.3504240555127216,0.3614751991775893,0.3723978411719352,0.3834489848368029,0.3930866101259316,0.4037522487792341,0.4131328707273194,0.4228989976869699,0.4321511179645335,0.4424312516062709,0.4520688768953996,0.464148033924441,0.4755846826008738,0.4893343613466975,0.503212541763043,0.5183757388846054,0.5361089694166025,0.5538421999485993,0.5742739655615523,0.5936777178103315,0.6164225134926754,0.6374967874582369,0.660627088152146,0.6826008738113596,0.705988177846312,0.7261629401182216,0.7480082241069134,0.7662554613209972,0.7838601901824723,0.7981238756103829,0.8102030326394243,0.8177846312002055,0.8220251863274223,0.821254176304292,0.8156001028013364,0.8054484708301208,0.789000257003341,0.7695965047545618,0.7429966589565665,0.7149832947828322,0.6809303520945773,0.6467489077358005,0.6079414032382421,0.5731174505268568,0.5343099460292984,0.5015420200462606,0.4692881007453097,0.4432022616294012,0.4191724492418401,0.4025957337445387,0.3889745566692367,0.3810074530968902,0.3767668979696736,0.3759958879465433,0.3781804163454125,0.3821639681315857,0.3880750449755846,0.3942431251606271,0.4010537136982781,0.407864302235929,0.4135183757388845,0.418786944230275,0.422384991004883,0.4254690310974042,0.4271395528141865,0.4280390645078386,0.4279105628373169,0.42739655615523,0.426497044461578,0.4254690310974042,0.4244410177332305,0.4240555127216654,0.4240555127216654,0.4248265227447957,0.4267540478026214,0.4297095862246209,0.4339501413518375,0.4388332048316628,0.4461578000514006,0.4543819069647906,0.463248522230789,0.4746851709072218,0.4862503212541763,0.5002570033410434,0.5147776921099975,0.5319969159599075,0.5506296581855564,0.5695194037522487,0.5911076843998972,0.6101259316371113,0.6234901053713698,0.6628116165510152,0.6863274222564894,0.7139552814186584,0.7384991004883064,0.7641994345926497,0.7892572603443845,0.8091750192752506,0.827165253148291,0.8413004369056797,0.8536365972757646,0.8607041891544589,0.8625032125417631,0.8581341557440246,0.848882035466461,0.8323053199691597,0.8098175276278592,0.7847597018761244,0.7514777692109997,0.71781033153431,0.6783603186841429,0.6350552557183243,0.5947057311745052,0.5507581598560781,0.5052685684913903,0.4646620406065278,0.4228989976869699,0.3812644564379337,0.3457979953739398,0.3102030326394243,0.2789771267026471,0.2474942174248265,0.2194808532510922,0.1955795425340529,0.1718067334875353,0.1512464662040606,0.1337702390131071,0.1168080185042405,0.1020303263942431,0.08982266769468,0.0781290156772038,0.0679773837059881,0.0596247751220765,0.0517861732202518,0.0448470830120791,0.0393215111796453,0.0340529426882549,0.0294268825494731,0.025828835774865,0.022230789000257,0.0192752505782575,0.0168337188383448,0.0145206887689539,0.0125931637111282,0.0110511436648676,0.009509123618607,0.0082241069133898,0.0070675918786944,0.0062965818555641,0.0053970701619121,0.0046260601387818,0.0041120534566949,0.0034695451040863,0.0030840400925212,0.002698535080956,0.0023130300693909,0.0019275250578257,0.0016705217167823,0.0014135183757388,0.0011565150346954,0.0010280133641737,0.0007710100231303,0.0007710100231303,0.0005140066820868,0.0003855050115651,0.0003855050115651,0.0002570033410434,0.0001285016705217,0.0,0.0,-0.0001285016705217,-0.0001285016705217,-0.0002570033410434,-0.0002570033410434,-0.0002570033410434,-0.0002570033410434,-0.0003855050115651,-0.0005140066820868,-0.0005140066820868,-0.0005140066820868,-0.0005140066820868,-0.0005140066820868,-0.0005140066820868,-0.0005140066820868,-0.0006425083526085,-0.0006425083526085,-0.0006425083526085,-0.0006425083526085,-0.0006425083526085,-0.0006425083526085,-0.0006425083526085,-0.0005140066820868,-0.0005140066820868,-0.0006425083526085,-0.0006425083526085,-0.0006425083526085,-0.0006425083526085,-0.0006425083526085,-0.0006425083526085,-0.0006425083526085,-0.0006425083526085,-0.0006425083526085,-0.0005140066820868,-0.0005140066820868,-0.0005140066820868,-0.0005140066820868,-0.0006425083526085,-0.0005140066820868,-0.0006425083526085,-0.0006425083526085,-0.0006425083526085,-0.0005140066820868,-0.0005140066820868,-0.0005140066820868,-0.0006425083526085,-0.0006425083526085,-0.0006425083526085,-0.0006425083526085,-0.0006425083526085,-0.0006425083526085,-0.0006425083526085,-0.0006425083526085,-0.0006425083526085,-0.0006425083526085,-0.0006425083526085,-0.0006425083526085,-0.0006425083526085,-0.0006425083526085,-0.0006425083526085,-0.0006425083526085,-0.0006425083526085,-0.0006425083526085,-0.0006425083526085,-0.0006425083526085,-0.0006425083526085,-0.0007710100231303,-0.0007710100231303,-0.0007710100231303,-0.0007710100231303,-0.0007710100231303,-0.0007710100231303,-0.0007710100231303,-0.0007710100231303,-0.0007710100231303,-0.0007710100231303,-0.0007710100231303,-0.0007710100231303,-0.0007710100231303,-0.000899511693652,-0.000899511693652,-0.000899511693652,-0.0010280133641737,-0.000899511693652,-0.0010280133641737,-0.0010280133641737,-0.0010280133641737,-0.0010280133641737,-0.0011565150346954,-0.0010280133641737,-0.0011565150346954,-0.0011565150346954,-0.0011565150346954,-0.0011565150346954,-0.0012850167052171,-0.0012850167052171,-0.0012850167052171,-0.0012850167052171,-0.0012850167052171,-0.0012850167052171,-0.0014135183757388,-0.0016705217167823,-0.0016705217167823,-0.0015420200462606,-0.0016705217167823,-0.0016705217167823,-0.0016705217167823,-0.0016705217167823,-0.0016705217167823,-0.0016705217167823,-0.0016705217167823,-0.0016705217167823,-0.0016705217167823,-0.0015420200462606,-0.0016705217167823,-0.0016705217167823,-0.0016705217167823,-0.0016705217167823,-0.001799023387304,-0.001799023387304,-0.001799023387304,-0.0016705217167823,-0.0016705217167823,-0.001799023387304,-0.0016705217167823,-0.0016705217167823,-0.0016705217167823,-0.001799023387304,-0.001799023387304,-0.0016705217167823,-0.0016705217167823,-0.0016705217167823,-0.0016705217167823,-0.001799023387304,-0.0016705217167823,-0.001799023387304,-0.0016705217167823,-0.0016705217167823,-0.0016705217167823,-0.0016705217167823,-0.0016705217167823,-0.0016705217167823,-0.0016705217167823,-0.001799023387304,-0.0016705217167823,-0.0016705217167823,-0.0016705217167823,-0.0016705217167823,-0.0016705217167823,-0.0016705217167823,-0.0016705217167823,-0.0016705217167823,-0.001799023387304,-0.0016705217167823,-0.001799023387304,-0.001799023387304,-0.001799023387304,-0.001799023387304,-0.001799023387304,-0.001799023387304,-0.001799023387304,-0.001799023387304,-0.001799023387304,-0.001799023387304,-0.001799023387304,-0.001799023387304,-0.001799023387304],\"type\":\"scatter\"}],                        {\"template\":{\"data\":{\"bar\":[{\"error_x\":{\"color\":\"#2a3f5f\"},\"error_y\":{\"color\":\"#2a3f5f\"},\"marker\":{\"line\":{\"color\":\"#E5ECF6\",\"width\":0.5},\"pattern\":{\"fillmode\":\"overlay\",\"size\":10,\"solidity\":0.2}},\"type\":\"bar\"}],\"barpolar\":[{\"marker\":{\"line\":{\"color\":\"#E5ECF6\",\"width\":0.5},\"pattern\":{\"fillmode\":\"overlay\",\"size\":10,\"solidity\":0.2}},\"type\":\"barpolar\"}],\"carpet\":[{\"aaxis\":{\"endlinecolor\":\"#2a3f5f\",\"gridcolor\":\"white\",\"linecolor\":\"white\",\"minorgridcolor\":\"white\",\"startlinecolor\":\"#2a3f5f\"},\"baxis\":{\"endlinecolor\":\"#2a3f5f\",\"gridcolor\":\"white\",\"linecolor\":\"white\",\"minorgridcolor\":\"white\",\"startlinecolor\":\"#2a3f5f\"},\"type\":\"carpet\"}],\"choropleth\":[{\"colorbar\":{\"outlinewidth\":0,\"ticks\":\"\"},\"type\":\"choropleth\"}],\"contour\":[{\"colorbar\":{\"outlinewidth\":0,\"ticks\":\"\"},\"colorscale\":[[0.0,\"#0d0887\"],[0.1111111111111111,\"#46039f\"],[0.2222222222222222,\"#7201a8\"],[0.3333333333333333,\"#9c179e\"],[0.4444444444444444,\"#bd3786\"],[0.5555555555555556,\"#d8576b\"],[0.6666666666666666,\"#ed7953\"],[0.7777777777777778,\"#fb9f3a\"],[0.8888888888888888,\"#fdca26\"],[1.0,\"#f0f921\"]],\"type\":\"contour\"}],\"contourcarpet\":[{\"colorbar\":{\"outlinewidth\":0,\"ticks\":\"\"},\"type\":\"contourcarpet\"}],\"heatmap\":[{\"colorbar\":{\"outlinewidth\":0,\"ticks\":\"\"},\"colorscale\":[[0.0,\"#0d0887\"],[0.1111111111111111,\"#46039f\"],[0.2222222222222222,\"#7201a8\"],[0.3333333333333333,\"#9c179e\"],[0.4444444444444444,\"#bd3786\"],[0.5555555555555556,\"#d8576b\"],[0.6666666666666666,\"#ed7953\"],[0.7777777777777778,\"#fb9f3a\"],[0.8888888888888888,\"#fdca26\"],[1.0,\"#f0f921\"]],\"type\":\"heatmap\"}],\"heatmapgl\":[{\"colorbar\":{\"outlinewidth\":0,\"ticks\":\"\"},\"colorscale\":[[0.0,\"#0d0887\"],[0.1111111111111111,\"#46039f\"],[0.2222222222222222,\"#7201a8\"],[0.3333333333333333,\"#9c179e\"],[0.4444444444444444,\"#bd3786\"],[0.5555555555555556,\"#d8576b\"],[0.6666666666666666,\"#ed7953\"],[0.7777777777777778,\"#fb9f3a\"],[0.8888888888888888,\"#fdca26\"],[1.0,\"#f0f921\"]],\"type\":\"heatmapgl\"}],\"histogram\":[{\"marker\":{\"pattern\":{\"fillmode\":\"overlay\",\"size\":10,\"solidity\":0.2}},\"type\":\"histogram\"}],\"histogram2d\":[{\"colorbar\":{\"outlinewidth\":0,\"ticks\":\"\"},\"colorscale\":[[0.0,\"#0d0887\"],[0.1111111111111111,\"#46039f\"],[0.2222222222222222,\"#7201a8\"],[0.3333333333333333,\"#9c179e\"],[0.4444444444444444,\"#bd3786\"],[0.5555555555555556,\"#d8576b\"],[0.6666666666666666,\"#ed7953\"],[0.7777777777777778,\"#fb9f3a\"],[0.8888888888888888,\"#fdca26\"],[1.0,\"#f0f921\"]],\"type\":\"histogram2d\"}],\"histogram2dcontour\":[{\"colorbar\":{\"outlinewidth\":0,\"ticks\":\"\"},\"colorscale\":[[0.0,\"#0d0887\"],[0.1111111111111111,\"#46039f\"],[0.2222222222222222,\"#7201a8\"],[0.3333333333333333,\"#9c179e\"],[0.4444444444444444,\"#bd3786\"],[0.5555555555555556,\"#d8576b\"],[0.6666666666666666,\"#ed7953\"],[0.7777777777777778,\"#fb9f3a\"],[0.8888888888888888,\"#fdca26\"],[1.0,\"#f0f921\"]],\"type\":\"histogram2dcontour\"}],\"mesh3d\":[{\"colorbar\":{\"outlinewidth\":0,\"ticks\":\"\"},\"type\":\"mesh3d\"}],\"parcoords\":[{\"line\":{\"colorbar\":{\"outlinewidth\":0,\"ticks\":\"\"}},\"type\":\"parcoords\"}],\"pie\":[{\"automargin\":true,\"type\":\"pie\"}],\"scatter\":[{\"marker\":{\"colorbar\":{\"outlinewidth\":0,\"ticks\":\"\"}},\"type\":\"scatter\"}],\"scatter3d\":[{\"line\":{\"colorbar\":{\"outlinewidth\":0,\"ticks\":\"\"}},\"marker\":{\"colorbar\":{\"outlinewidth\":0,\"ticks\":\"\"}},\"type\":\"scatter3d\"}],\"scattercarpet\":[{\"marker\":{\"colorbar\":{\"outlinewidth\":0,\"ticks\":\"\"}},\"type\":\"scattercarpet\"}],\"scattergeo\":[{\"marker\":{\"colorbar\":{\"outlinewidth\":0,\"ticks\":\"\"}},\"type\":\"scattergeo\"}],\"scattergl\":[{\"marker\":{\"colorbar\":{\"outlinewidth\":0,\"ticks\":\"\"}},\"type\":\"scattergl\"}],\"scattermapbox\":[{\"marker\":{\"colorbar\":{\"outlinewidth\":0,\"ticks\":\"\"}},\"type\":\"scattermapbox\"}],\"scatterpolar\":[{\"marker\":{\"colorbar\":{\"outlinewidth\":0,\"ticks\":\"\"}},\"type\":\"scatterpolar\"}],\"scatterpolargl\":[{\"marker\":{\"colorbar\":{\"outlinewidth\":0,\"ticks\":\"\"}},\"type\":\"scatterpolargl\"}],\"scatterternary\":[{\"marker\":{\"colorbar\":{\"outlinewidth\":0,\"ticks\":\"\"}},\"type\":\"scatterternary\"}],\"surface\":[{\"colorbar\":{\"outlinewidth\":0,\"ticks\":\"\"},\"colorscale\":[[0.0,\"#0d0887\"],[0.1111111111111111,\"#46039f\"],[0.2222222222222222,\"#7201a8\"],[0.3333333333333333,\"#9c179e\"],[0.4444444444444444,\"#bd3786\"],[0.5555555555555556,\"#d8576b\"],[0.6666666666666666,\"#ed7953\"],[0.7777777777777778,\"#fb9f3a\"],[0.8888888888888888,\"#fdca26\"],[1.0,\"#f0f921\"]],\"type\":\"surface\"}],\"table\":[{\"cells\":{\"fill\":{\"color\":\"#EBF0F8\"},\"line\":{\"color\":\"white\"}},\"header\":{\"fill\":{\"color\":\"#C8D4E3\"},\"line\":{\"color\":\"white\"}},\"type\":\"table\"}]},\"layout\":{\"annotationdefaults\":{\"arrowcolor\":\"#2a3f5f\",\"arrowhead\":0,\"arrowwidth\":1},\"autotypenumbers\":\"strict\",\"coloraxis\":{\"colorbar\":{\"outlinewidth\":0,\"ticks\":\"\"}},\"colorscale\":{\"diverging\":[[0,\"#8e0152\"],[0.1,\"#c51b7d\"],[0.2,\"#de77ae\"],[0.3,\"#f1b6da\"],[0.4,\"#fde0ef\"],[0.5,\"#f7f7f7\"],[0.6,\"#e6f5d0\"],[0.7,\"#b8e186\"],[0.8,\"#7fbc41\"],[0.9,\"#4d9221\"],[1,\"#276419\"]],\"sequential\":[[0.0,\"#0d0887\"],[0.1111111111111111,\"#46039f\"],[0.2222222222222222,\"#7201a8\"],[0.3333333333333333,\"#9c179e\"],[0.4444444444444444,\"#bd3786\"],[0.5555555555555556,\"#d8576b\"],[0.6666666666666666,\"#ed7953\"],[0.7777777777777778,\"#fb9f3a\"],[0.8888888888888888,\"#fdca26\"],[1.0,\"#f0f921\"]],\"sequentialminus\":[[0.0,\"#0d0887\"],[0.1111111111111111,\"#46039f\"],[0.2222222222222222,\"#7201a8\"],[0.3333333333333333,\"#9c179e\"],[0.4444444444444444,\"#bd3786\"],[0.5555555555555556,\"#d8576b\"],[0.6666666666666666,\"#ed7953\"],[0.7777777777777778,\"#fb9f3a\"],[0.8888888888888888,\"#fdca26\"],[1.0,\"#f0f921\"]]},\"colorway\":[\"#636efa\",\"#EF553B\",\"#00cc96\",\"#ab63fa\",\"#FFA15A\",\"#19d3f3\",\"#FF6692\",\"#B6E880\",\"#FF97FF\",\"#FECB52\"],\"font\":{\"color\":\"#2a3f5f\"},\"geo\":{\"bgcolor\":\"white\",\"lakecolor\":\"white\",\"landcolor\":\"#E5ECF6\",\"showlakes\":true,\"showland\":true,\"subunitcolor\":\"white\"},\"hoverlabel\":{\"align\":\"left\"},\"hovermode\":\"closest\",\"mapbox\":{\"style\":\"light\"},\"paper_bgcolor\":\"white\",\"plot_bgcolor\":\"#E5ECF6\",\"polar\":{\"angularaxis\":{\"gridcolor\":\"white\",\"linecolor\":\"white\",\"ticks\":\"\"},\"bgcolor\":\"#E5ECF6\",\"radialaxis\":{\"gridcolor\":\"white\",\"linecolor\":\"white\",\"ticks\":\"\"}},\"scene\":{\"xaxis\":{\"backgroundcolor\":\"#E5ECF6\",\"gridcolor\":\"white\",\"gridwidth\":2,\"linecolor\":\"white\",\"showbackground\":true,\"ticks\":\"\",\"zerolinecolor\":\"white\"},\"yaxis\":{\"backgroundcolor\":\"#E5ECF6\",\"gridcolor\":\"white\",\"gridwidth\":2,\"linecolor\":\"white\",\"showbackground\":true,\"ticks\":\"\",\"zerolinecolor\":\"white\"},\"zaxis\":{\"backgroundcolor\":\"#E5ECF6\",\"gridcolor\":\"white\",\"gridwidth\":2,\"linecolor\":\"white\",\"showbackground\":true,\"ticks\":\"\",\"zerolinecolor\":\"white\"}},\"shapedefaults\":{\"line\":{\"color\":\"#2a3f5f\"}},\"ternary\":{\"aaxis\":{\"gridcolor\":\"white\",\"linecolor\":\"white\",\"ticks\":\"\"},\"baxis\":{\"gridcolor\":\"white\",\"linecolor\":\"white\",\"ticks\":\"\"},\"bgcolor\":\"#E5ECF6\",\"caxis\":{\"gridcolor\":\"white\",\"linecolor\":\"white\",\"ticks\":\"\"}},\"title\":{\"x\":0.05},\"xaxis\":{\"automargin\":true,\"gridcolor\":\"white\",\"linecolor\":\"white\",\"ticks\":\"\",\"title\":{\"standoff\":15},\"zerolinecolor\":\"white\",\"zerolinewidth\":2},\"yaxis\":{\"automargin\":true,\"gridcolor\":\"white\",\"linecolor\":\"white\",\"ticks\":\"\",\"title\":{\"standoff\":15},\"zerolinecolor\":\"white\",\"zerolinewidth\":2}}}},                        {\"responsive\": true}                    ).then(function(){\n",
              "                            \n",
              "var gd = document.getElementById('d25d71d6-4d3d-42f8-b9a4-6077312a7581');\n",
              "var x = new MutationObserver(function (mutations, observer) {{\n",
              "        var display = window.getComputedStyle(gd).display;\n",
              "        if (!display || display === 'none') {{\n",
              "            console.log([gd, 'removed!']);\n",
              "            Plotly.purge(gd);\n",
              "            observer.disconnect();\n",
              "        }}\n",
              "}});\n",
              "\n",
              "// Listen for the removal of the full notebook cells\n",
              "var notebookContainer = gd.closest('#notebook-container');\n",
              "if (notebookContainer) {{\n",
              "    x.observe(notebookContainer, {childList: true});\n",
              "}}\n",
              "\n",
              "// Listen for the clearing of the current output cell\n",
              "var outputEl = gd.closest('.output');\n",
              "if (outputEl) {{\n",
              "    x.observe(outputEl, {childList: true});\n",
              "}}\n",
              "\n",
              "                        })                };                            </script>        </div>\n",
              "</body>\n",
              "</html>"
            ]
          },
          "metadata": {}
        }
      ]
    },
    {
      "cell_type": "markdown",
      "source": [
        ""
      ],
      "metadata": {
        "id": "AP9gHxrLtE4x"
      }
    },
    {
      "cell_type": "markdown",
      "source": [
        "## Calculate the stoichiometry and save data"
      ],
      "metadata": {
        "id": "di5EyQOEs_Q8"
      }
    },
    {
      "cell_type": "code",
      "source": [
        "# Assign a table for results"
      ],
      "metadata": {
        "id": "j9Sj7B31n3Vn"
      },
      "execution_count": 485,
      "outputs": []
    },
    {
      "cell_type": "code",
      "source": [
        "gScarlet_EC=87600\n",
        "mScarletI_EC=104000"
      ],
      "metadata": {
        "id": "axuew14Zn84I"
      },
      "execution_count": 486,
      "outputs": []
    },
    {
      "cell_type": "code",
      "source": [
        "Donar_max=FRET_table.Donar.max()"
      ],
      "metadata": {
        "id": "C4DIabG9ndVl"
      },
      "execution_count": 487,
      "outputs": []
    },
    {
      "cell_type": "code",
      "source": [
        "Acceptor_max=FRET_table.Acceptor.max()"
      ],
      "metadata": {
        "id": "kADaRdyWokLZ"
      },
      "execution_count": 488,
      "outputs": []
    },
    {
      "cell_type": "code",
      "source": [
        "Acceptor_max_wave=FRET_table.Acceptor.idxmax()"
      ],
      "metadata": {
        "id": "2Tqk16N-okEN"
      },
      "execution_count": 489,
      "outputs": []
    },
    {
      "cell_type": "code",
      "metadata": {
        "id": "aazpLo8eHvA4"
      },
      "source": [
        "Donar_max_wave=FRET_table.Donar.idxmax()"
      ],
      "execution_count": 490,
      "outputs": []
    },
    {
      "cell_type": "code",
      "source": [
        "if Acceptor_max_wave > Donar_max_wave:\n",
        "  gScarlet_max=Donar_max\n",
        "  gScarlet_max_wave=Donar_max_wave\n",
        "  mScarlet_max=Acceptor_max\n",
        "  mScarlet_max_wave=Acceptor_max_wave\n",
        "else:\n",
        "  gScarlet_max=Acceptor_max\n",
        "  gScarlet_max_wave=Acceptor_max_wave\n",
        "  mScarlet_max=Donar_max\n",
        "  mScarlet_max_wave=Donar_max_wave\n",
        "\n"
      ],
      "metadata": {
        "id": "gPhdqgTRpOj3"
      },
      "execution_count": 491,
      "outputs": []
    },
    {
      "cell_type": "code",
      "source": [
        "gScarlet_rel_num=gScarlet_max/gScarlet_EC\n",
        "mScarlet_rel_num=mScarlet_max/mScarletI_EC\n",
        "stoich=gScarlet_rel_num/mScarlet_rel_num"
      ],
      "metadata": {
        "id": "-6Z0fXgjqGtn"
      },
      "execution_count": 492,
      "outputs": []
    },
    {
      "cell_type": "code",
      "source": [
        "data1={'index':['EC','Max','Max_wavelength','relative amount','stoichiometry (green to red)'],\n",
        "       'gScarlet':[gScarlet_EC,gScarlet_max,gScarlet_max_wave,gScarlet_rel_num,stoich],\n",
        "      'mScarlet':[mScarletI_EC,mScarlet_max,mScarlet_max_wave,mScarlet_rel_num,stoich]}\n",
        "result_table = pd.DataFrame(data=data1)\n",
        "result_table"
      ],
      "metadata": {
        "colab": {
          "base_uri": "https://localhost:8080/",
          "height": 0
        },
        "id": "MtvHITs-qeew",
        "outputId": "505caa5a-7e3e-46c6-88f0-50a010015560"
      },
      "execution_count": 493,
      "outputs": [
        {
          "output_type": "execute_result",
          "data": {
            "text/plain": [
              "                          index      gScarlet       mScarlet\n",
              "0                            EC  87600.000000  104000.000000\n",
              "1                           Max      0.679622       0.903792\n",
              "2                Max_wavelength    197.000000     267.000000\n",
              "3               relative amount      0.000008       0.000009\n",
              "4  stoichiometry (green to red)      0.892747       0.892747"
            ],
            "text/html": [
              "\n",
              "  <div id=\"df-5a9f1aea-3d30-4f17-be7d-434e06cdebaf\">\n",
              "    <div class=\"colab-df-container\">\n",
              "      <div>\n",
              "<style scoped>\n",
              "    .dataframe tbody tr th:only-of-type {\n",
              "        vertical-align: middle;\n",
              "    }\n",
              "\n",
              "    .dataframe tbody tr th {\n",
              "        vertical-align: top;\n",
              "    }\n",
              "\n",
              "    .dataframe thead th {\n",
              "        text-align: right;\n",
              "    }\n",
              "</style>\n",
              "<table border=\"1\" class=\"dataframe\">\n",
              "  <thead>\n",
              "    <tr style=\"text-align: right;\">\n",
              "      <th></th>\n",
              "      <th>index</th>\n",
              "      <th>gScarlet</th>\n",
              "      <th>mScarlet</th>\n",
              "    </tr>\n",
              "  </thead>\n",
              "  <tbody>\n",
              "    <tr>\n",
              "      <th>0</th>\n",
              "      <td>EC</td>\n",
              "      <td>87600.000000</td>\n",
              "      <td>104000.000000</td>\n",
              "    </tr>\n",
              "    <tr>\n",
              "      <th>1</th>\n",
              "      <td>Max</td>\n",
              "      <td>0.679622</td>\n",
              "      <td>0.903792</td>\n",
              "    </tr>\n",
              "    <tr>\n",
              "      <th>2</th>\n",
              "      <td>Max_wavelength</td>\n",
              "      <td>197.000000</td>\n",
              "      <td>267.000000</td>\n",
              "    </tr>\n",
              "    <tr>\n",
              "      <th>3</th>\n",
              "      <td>relative amount</td>\n",
              "      <td>0.000008</td>\n",
              "      <td>0.000009</td>\n",
              "    </tr>\n",
              "    <tr>\n",
              "      <th>4</th>\n",
              "      <td>stoichiometry (green to red)</td>\n",
              "      <td>0.892747</td>\n",
              "      <td>0.892747</td>\n",
              "    </tr>\n",
              "  </tbody>\n",
              "</table>\n",
              "</div>\n",
              "      <button class=\"colab-df-convert\" onclick=\"convertToInteractive('df-5a9f1aea-3d30-4f17-be7d-434e06cdebaf')\"\n",
              "              title=\"Convert this dataframe to an interactive table.\"\n",
              "              style=\"display:none;\">\n",
              "        \n",
              "  <svg xmlns=\"http://www.w3.org/2000/svg\" height=\"24px\"viewBox=\"0 0 24 24\"\n",
              "       width=\"24px\">\n",
              "    <path d=\"M0 0h24v24H0V0z\" fill=\"none\"/>\n",
              "    <path d=\"M18.56 5.44l.94 2.06.94-2.06 2.06-.94-2.06-.94-.94-2.06-.94 2.06-2.06.94zm-11 1L8.5 8.5l.94-2.06 2.06-.94-2.06-.94L8.5 2.5l-.94 2.06-2.06.94zm10 10l.94 2.06.94-2.06 2.06-.94-2.06-.94-.94-2.06-.94 2.06-2.06.94z\"/><path d=\"M17.41 7.96l-1.37-1.37c-.4-.4-.92-.59-1.43-.59-.52 0-1.04.2-1.43.59L10.3 9.45l-7.72 7.72c-.78.78-.78 2.05 0 2.83L4 21.41c.39.39.9.59 1.41.59.51 0 1.02-.2 1.41-.59l7.78-7.78 2.81-2.81c.8-.78.8-2.07 0-2.86zM5.41 20L4 18.59l7.72-7.72 1.47 1.35L5.41 20z\"/>\n",
              "  </svg>\n",
              "      </button>\n",
              "      \n",
              "  <style>\n",
              "    .colab-df-container {\n",
              "      display:flex;\n",
              "      flex-wrap:wrap;\n",
              "      gap: 12px;\n",
              "    }\n",
              "\n",
              "    .colab-df-convert {\n",
              "      background-color: #E8F0FE;\n",
              "      border: none;\n",
              "      border-radius: 50%;\n",
              "      cursor: pointer;\n",
              "      display: none;\n",
              "      fill: #1967D2;\n",
              "      height: 32px;\n",
              "      padding: 0 0 0 0;\n",
              "      width: 32px;\n",
              "    }\n",
              "\n",
              "    .colab-df-convert:hover {\n",
              "      background-color: #E2EBFA;\n",
              "      box-shadow: 0px 1px 2px rgba(60, 64, 67, 0.3), 0px 1px 3px 1px rgba(60, 64, 67, 0.15);\n",
              "      fill: #174EA6;\n",
              "    }\n",
              "\n",
              "    [theme=dark] .colab-df-convert {\n",
              "      background-color: #3B4455;\n",
              "      fill: #D2E3FC;\n",
              "    }\n",
              "\n",
              "    [theme=dark] .colab-df-convert:hover {\n",
              "      background-color: #434B5C;\n",
              "      box-shadow: 0px 1px 3px 1px rgba(0, 0, 0, 0.15);\n",
              "      filter: drop-shadow(0px 1px 2px rgba(0, 0, 0, 0.3));\n",
              "      fill: #FFFFFF;\n",
              "    }\n",
              "  </style>\n",
              "\n",
              "      <script>\n",
              "        const buttonEl =\n",
              "          document.querySelector('#df-5a9f1aea-3d30-4f17-be7d-434e06cdebaf button.colab-df-convert');\n",
              "        buttonEl.style.display =\n",
              "          google.colab.kernel.accessAllowed ? 'block' : 'none';\n",
              "\n",
              "        async function convertToInteractive(key) {\n",
              "          const element = document.querySelector('#df-5a9f1aea-3d30-4f17-be7d-434e06cdebaf');\n",
              "          const dataTable =\n",
              "            await google.colab.kernel.invokeFunction('convertToInteractive',\n",
              "                                                     [key], {});\n",
              "          if (!dataTable) return;\n",
              "\n",
              "          const docLinkHtml = 'Like what you see? Visit the ' +\n",
              "            '<a target=\"_blank\" href=https://colab.research.google.com/notebooks/data_table.ipynb>data table notebook</a>'\n",
              "            + ' to learn more about interactive tables.';\n",
              "          element.innerHTML = '';\n",
              "          dataTable['output_type'] = 'display_data';\n",
              "          await google.colab.output.renderOutput(dataTable, element);\n",
              "          const docLink = document.createElement('div');\n",
              "          docLink.innerHTML = docLinkHtml;\n",
              "          element.appendChild(docLink);\n",
              "        }\n",
              "      </script>\n",
              "    </div>\n",
              "  </div>\n",
              "  "
            ]
          },
          "metadata": {},
          "execution_count": 493
        }
      ]
    },
    {
      "cell_type": "code",
      "source": [
        "file_name=FRET_path.replace('.csv','_stoichiometry.csv')\n",
        "print(file_name)\n",
        "result_table.to_csv(file_name) "
      ],
      "metadata": {
        "colab": {
          "base_uri": "https://localhost:8080/"
        },
        "id": "7b9fdeXPtKw0",
        "outputId": "0e0cd376-9da2-4e1b-8f31-ba0ad623c8d8"
      },
      "execution_count": 494,
      "outputs": [
        {
          "output_type": "stream",
          "name": "stdout",
          "text": [
            "WELQ swg_processed_stoichiometry.csv\n"
          ]
        }
      ]
    }
  ]
}